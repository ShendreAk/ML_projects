{
 "cells": [
  {
   "cell_type": "markdown",
   "id": "7f73d523",
   "metadata": {},
   "source": [
    "**Importing modules and libraries**"
   ]
  },
  {
   "cell_type": "code",
   "execution_count": 1,
   "id": "692733fd",
   "metadata": {},
   "outputs": [],
   "source": [
    "import pandas as pd\n",
    "import numpy as np\n",
    "import matplotlib.pyplot as plt\n",
    "import seaborn as sns\n",
    "%matplotlib inline"
   ]
  },
  {
   "cell_type": "code",
   "execution_count": 2,
   "id": "3a90b2d4",
   "metadata": {},
   "outputs": [],
   "source": [
    "data = pd.read_csv(\"creditcard.csv\")"
   ]
  },
  {
   "cell_type": "code",
   "execution_count": 3,
   "id": "29c3cf60",
   "metadata": {},
   "outputs": [
    {
     "data": {
      "text/plain": [
       "(284807, 31)"
      ]
     },
     "execution_count": 3,
     "metadata": {},
     "output_type": "execute_result"
    }
   ],
   "source": [
    "data.shape"
   ]
  },
  {
   "cell_type": "code",
   "execution_count": 4,
   "id": "d8308343",
   "metadata": {},
   "outputs": [
    {
     "name": "stdout",
     "output_type": "stream",
     "text": [
      "<class 'pandas.core.frame.DataFrame'>\n",
      "RangeIndex: 284807 entries, 0 to 284806\n",
      "Data columns (total 31 columns):\n",
      " #   Column  Non-Null Count   Dtype  \n",
      "---  ------  --------------   -----  \n",
      " 0   Time    284807 non-null  float64\n",
      " 1   V1      284807 non-null  float64\n",
      " 2   V2      284807 non-null  float64\n",
      " 3   V3      284807 non-null  float64\n",
      " 4   V4      284807 non-null  float64\n",
      " 5   V5      284807 non-null  float64\n",
      " 6   V6      284807 non-null  float64\n",
      " 7   V7      284807 non-null  float64\n",
      " 8   V8      284807 non-null  float64\n",
      " 9   V9      284807 non-null  float64\n",
      " 10  V10     284807 non-null  float64\n",
      " 11  V11     284807 non-null  float64\n",
      " 12  V12     284807 non-null  float64\n",
      " 13  V13     284807 non-null  float64\n",
      " 14  V14     284807 non-null  float64\n",
      " 15  V15     284807 non-null  float64\n",
      " 16  V16     284807 non-null  float64\n",
      " 17  V17     284807 non-null  float64\n",
      " 18  V18     284807 non-null  float64\n",
      " 19  V19     284807 non-null  float64\n",
      " 20  V20     284807 non-null  float64\n",
      " 21  V21     284807 non-null  float64\n",
      " 22  V22     284807 non-null  float64\n",
      " 23  V23     284807 non-null  float64\n",
      " 24  V24     284807 non-null  float64\n",
      " 25  V25     284807 non-null  float64\n",
      " 26  V26     284807 non-null  float64\n",
      " 27  V27     284807 non-null  float64\n",
      " 28  V28     284807 non-null  float64\n",
      " 29  Amount  284807 non-null  float64\n",
      " 30  Class   284807 non-null  int64  \n",
      "dtypes: float64(30), int64(1)\n",
      "memory usage: 67.4 MB\n"
     ]
    }
   ],
   "source": [
    "data.info()"
   ]
  },
  {
   "cell_type": "code",
   "execution_count": 9,
   "id": "25315c21",
   "metadata": {},
   "outputs": [
    {
     "data": {
      "text/html": [
       "<div>\n",
       "<style scoped>\n",
       "    .dataframe tbody tr th:only-of-type {\n",
       "        vertical-align: middle;\n",
       "    }\n",
       "\n",
       "    .dataframe tbody tr th {\n",
       "        vertical-align: top;\n",
       "    }\n",
       "\n",
       "    .dataframe thead th {\n",
       "        text-align: right;\n",
       "    }\n",
       "</style>\n",
       "<table border=\"1\" class=\"dataframe\">\n",
       "  <thead>\n",
       "    <tr style=\"text-align: right;\">\n",
       "      <th></th>\n",
       "      <th>Time</th>\n",
       "      <th>V1</th>\n",
       "      <th>V2</th>\n",
       "      <th>V3</th>\n",
       "      <th>V4</th>\n",
       "      <th>V5</th>\n",
       "      <th>V6</th>\n",
       "      <th>V7</th>\n",
       "      <th>V8</th>\n",
       "      <th>V9</th>\n",
       "      <th>...</th>\n",
       "      <th>V21</th>\n",
       "      <th>V22</th>\n",
       "      <th>V23</th>\n",
       "      <th>V24</th>\n",
       "      <th>V25</th>\n",
       "      <th>V26</th>\n",
       "      <th>V27</th>\n",
       "      <th>V28</th>\n",
       "      <th>Amount</th>\n",
       "      <th>Class</th>\n",
       "    </tr>\n",
       "  </thead>\n",
       "  <tbody>\n",
       "    <tr>\n",
       "      <th>0</th>\n",
       "      <td>0.0</td>\n",
       "      <td>-1.359807</td>\n",
       "      <td>-0.072781</td>\n",
       "      <td>2.536347</td>\n",
       "      <td>1.378155</td>\n",
       "      <td>-0.338321</td>\n",
       "      <td>0.462388</td>\n",
       "      <td>0.239599</td>\n",
       "      <td>0.098698</td>\n",
       "      <td>0.363787</td>\n",
       "      <td>...</td>\n",
       "      <td>-0.018307</td>\n",
       "      <td>0.277838</td>\n",
       "      <td>-0.110474</td>\n",
       "      <td>0.066928</td>\n",
       "      <td>0.128539</td>\n",
       "      <td>-0.189115</td>\n",
       "      <td>0.133558</td>\n",
       "      <td>-0.021053</td>\n",
       "      <td>149.62</td>\n",
       "      <td>0</td>\n",
       "    </tr>\n",
       "    <tr>\n",
       "      <th>1</th>\n",
       "      <td>0.0</td>\n",
       "      <td>1.191857</td>\n",
       "      <td>0.266151</td>\n",
       "      <td>0.166480</td>\n",
       "      <td>0.448154</td>\n",
       "      <td>0.060018</td>\n",
       "      <td>-0.082361</td>\n",
       "      <td>-0.078803</td>\n",
       "      <td>0.085102</td>\n",
       "      <td>-0.255425</td>\n",
       "      <td>...</td>\n",
       "      <td>-0.225775</td>\n",
       "      <td>-0.638672</td>\n",
       "      <td>0.101288</td>\n",
       "      <td>-0.339846</td>\n",
       "      <td>0.167170</td>\n",
       "      <td>0.125895</td>\n",
       "      <td>-0.008983</td>\n",
       "      <td>0.014724</td>\n",
       "      <td>2.69</td>\n",
       "      <td>0</td>\n",
       "    </tr>\n",
       "    <tr>\n",
       "      <th>2</th>\n",
       "      <td>1.0</td>\n",
       "      <td>-1.358354</td>\n",
       "      <td>-1.340163</td>\n",
       "      <td>1.773209</td>\n",
       "      <td>0.379780</td>\n",
       "      <td>-0.503198</td>\n",
       "      <td>1.800499</td>\n",
       "      <td>0.791461</td>\n",
       "      <td>0.247676</td>\n",
       "      <td>-1.514654</td>\n",
       "      <td>...</td>\n",
       "      <td>0.247998</td>\n",
       "      <td>0.771679</td>\n",
       "      <td>0.909412</td>\n",
       "      <td>-0.689281</td>\n",
       "      <td>-0.327642</td>\n",
       "      <td>-0.139097</td>\n",
       "      <td>-0.055353</td>\n",
       "      <td>-0.059752</td>\n",
       "      <td>378.66</td>\n",
       "      <td>0</td>\n",
       "    </tr>\n",
       "    <tr>\n",
       "      <th>3</th>\n",
       "      <td>1.0</td>\n",
       "      <td>-0.966272</td>\n",
       "      <td>-0.185226</td>\n",
       "      <td>1.792993</td>\n",
       "      <td>-0.863291</td>\n",
       "      <td>-0.010309</td>\n",
       "      <td>1.247203</td>\n",
       "      <td>0.237609</td>\n",
       "      <td>0.377436</td>\n",
       "      <td>-1.387024</td>\n",
       "      <td>...</td>\n",
       "      <td>-0.108300</td>\n",
       "      <td>0.005274</td>\n",
       "      <td>-0.190321</td>\n",
       "      <td>-1.175575</td>\n",
       "      <td>0.647376</td>\n",
       "      <td>-0.221929</td>\n",
       "      <td>0.062723</td>\n",
       "      <td>0.061458</td>\n",
       "      <td>123.50</td>\n",
       "      <td>0</td>\n",
       "    </tr>\n",
       "    <tr>\n",
       "      <th>4</th>\n",
       "      <td>2.0</td>\n",
       "      <td>-1.158233</td>\n",
       "      <td>0.877737</td>\n",
       "      <td>1.548718</td>\n",
       "      <td>0.403034</td>\n",
       "      <td>-0.407193</td>\n",
       "      <td>0.095921</td>\n",
       "      <td>0.592941</td>\n",
       "      <td>-0.270533</td>\n",
       "      <td>0.817739</td>\n",
       "      <td>...</td>\n",
       "      <td>-0.009431</td>\n",
       "      <td>0.798278</td>\n",
       "      <td>-0.137458</td>\n",
       "      <td>0.141267</td>\n",
       "      <td>-0.206010</td>\n",
       "      <td>0.502292</td>\n",
       "      <td>0.219422</td>\n",
       "      <td>0.215153</td>\n",
       "      <td>69.99</td>\n",
       "      <td>0</td>\n",
       "    </tr>\n",
       "  </tbody>\n",
       "</table>\n",
       "<p>5 rows × 31 columns</p>\n",
       "</div>"
      ],
      "text/plain": [
       "   Time        V1        V2        V3        V4        V5        V6        V7  \\\n",
       "0   0.0 -1.359807 -0.072781  2.536347  1.378155 -0.338321  0.462388  0.239599   \n",
       "1   0.0  1.191857  0.266151  0.166480  0.448154  0.060018 -0.082361 -0.078803   \n",
       "2   1.0 -1.358354 -1.340163  1.773209  0.379780 -0.503198  1.800499  0.791461   \n",
       "3   1.0 -0.966272 -0.185226  1.792993 -0.863291 -0.010309  1.247203  0.237609   \n",
       "4   2.0 -1.158233  0.877737  1.548718  0.403034 -0.407193  0.095921  0.592941   \n",
       "\n",
       "         V8        V9  ...       V21       V22       V23       V24       V25  \\\n",
       "0  0.098698  0.363787  ... -0.018307  0.277838 -0.110474  0.066928  0.128539   \n",
       "1  0.085102 -0.255425  ... -0.225775 -0.638672  0.101288 -0.339846  0.167170   \n",
       "2  0.247676 -1.514654  ...  0.247998  0.771679  0.909412 -0.689281 -0.327642   \n",
       "3  0.377436 -1.387024  ... -0.108300  0.005274 -0.190321 -1.175575  0.647376   \n",
       "4 -0.270533  0.817739  ... -0.009431  0.798278 -0.137458  0.141267 -0.206010   \n",
       "\n",
       "        V26       V27       V28  Amount  Class  \n",
       "0 -0.189115  0.133558 -0.021053  149.62      0  \n",
       "1  0.125895 -0.008983  0.014724    2.69      0  \n",
       "2 -0.139097 -0.055353 -0.059752  378.66      0  \n",
       "3 -0.221929  0.062723  0.061458  123.50      0  \n",
       "4  0.502292  0.219422  0.215153   69.99      0  \n",
       "\n",
       "[5 rows x 31 columns]"
      ]
     },
     "execution_count": 9,
     "metadata": {},
     "output_type": "execute_result"
    }
   ],
   "source": [
    "data.head()"
   ]
  },
  {
   "cell_type": "code",
   "execution_count": 7,
   "id": "6e015ad0",
   "metadata": {},
   "outputs": [
    {
     "data": {
      "text/html": [
       "<div>\n",
       "<style scoped>\n",
       "    .dataframe tbody tr th:only-of-type {\n",
       "        vertical-align: middle;\n",
       "    }\n",
       "\n",
       "    .dataframe tbody tr th {\n",
       "        vertical-align: top;\n",
       "    }\n",
       "\n",
       "    .dataframe thead th {\n",
       "        text-align: right;\n",
       "    }\n",
       "</style>\n",
       "<table border=\"1\" class=\"dataframe\">\n",
       "  <thead>\n",
       "    <tr style=\"text-align: right;\">\n",
       "      <th></th>\n",
       "      <th>count</th>\n",
       "      <th>mean</th>\n",
       "      <th>std</th>\n",
       "      <th>min</th>\n",
       "      <th>25%</th>\n",
       "      <th>50%</th>\n",
       "      <th>75%</th>\n",
       "      <th>max</th>\n",
       "    </tr>\n",
       "  </thead>\n",
       "  <tbody>\n",
       "    <tr>\n",
       "      <th>Time</th>\n",
       "      <td>284807.0</td>\n",
       "      <td>9.481386e+04</td>\n",
       "      <td>47488.145955</td>\n",
       "      <td>0.000000</td>\n",
       "      <td>54201.500000</td>\n",
       "      <td>84692.000000</td>\n",
       "      <td>139320.500000</td>\n",
       "      <td>172792.000000</td>\n",
       "    </tr>\n",
       "    <tr>\n",
       "      <th>V1</th>\n",
       "      <td>284807.0</td>\n",
       "      <td>1.168375e-15</td>\n",
       "      <td>1.958696</td>\n",
       "      <td>-56.407510</td>\n",
       "      <td>-0.920373</td>\n",
       "      <td>0.018109</td>\n",
       "      <td>1.315642</td>\n",
       "      <td>2.454930</td>\n",
       "    </tr>\n",
       "    <tr>\n",
       "      <th>V2</th>\n",
       "      <td>284807.0</td>\n",
       "      <td>3.416908e-16</td>\n",
       "      <td>1.651309</td>\n",
       "      <td>-72.715728</td>\n",
       "      <td>-0.598550</td>\n",
       "      <td>0.065486</td>\n",
       "      <td>0.803724</td>\n",
       "      <td>22.057729</td>\n",
       "    </tr>\n",
       "    <tr>\n",
       "      <th>V3</th>\n",
       "      <td>284807.0</td>\n",
       "      <td>-1.379537e-15</td>\n",
       "      <td>1.516255</td>\n",
       "      <td>-48.325589</td>\n",
       "      <td>-0.890365</td>\n",
       "      <td>0.179846</td>\n",
       "      <td>1.027196</td>\n",
       "      <td>9.382558</td>\n",
       "    </tr>\n",
       "    <tr>\n",
       "      <th>V4</th>\n",
       "      <td>284807.0</td>\n",
       "      <td>2.074095e-15</td>\n",
       "      <td>1.415869</td>\n",
       "      <td>-5.683171</td>\n",
       "      <td>-0.848640</td>\n",
       "      <td>-0.019847</td>\n",
       "      <td>0.743341</td>\n",
       "      <td>16.875344</td>\n",
       "    </tr>\n",
       "    <tr>\n",
       "      <th>V5</th>\n",
       "      <td>284807.0</td>\n",
       "      <td>9.604066e-16</td>\n",
       "      <td>1.380247</td>\n",
       "      <td>-113.743307</td>\n",
       "      <td>-0.691597</td>\n",
       "      <td>-0.054336</td>\n",
       "      <td>0.611926</td>\n",
       "      <td>34.801666</td>\n",
       "    </tr>\n",
       "    <tr>\n",
       "      <th>V6</th>\n",
       "      <td>284807.0</td>\n",
       "      <td>1.487313e-15</td>\n",
       "      <td>1.332271</td>\n",
       "      <td>-26.160506</td>\n",
       "      <td>-0.768296</td>\n",
       "      <td>-0.274187</td>\n",
       "      <td>0.398565</td>\n",
       "      <td>73.301626</td>\n",
       "    </tr>\n",
       "    <tr>\n",
       "      <th>V7</th>\n",
       "      <td>284807.0</td>\n",
       "      <td>-5.556467e-16</td>\n",
       "      <td>1.237094</td>\n",
       "      <td>-43.557242</td>\n",
       "      <td>-0.554076</td>\n",
       "      <td>0.040103</td>\n",
       "      <td>0.570436</td>\n",
       "      <td>120.589494</td>\n",
       "    </tr>\n",
       "    <tr>\n",
       "      <th>V8</th>\n",
       "      <td>284807.0</td>\n",
       "      <td>1.213481e-16</td>\n",
       "      <td>1.194353</td>\n",
       "      <td>-73.216718</td>\n",
       "      <td>-0.208630</td>\n",
       "      <td>0.022358</td>\n",
       "      <td>0.327346</td>\n",
       "      <td>20.007208</td>\n",
       "    </tr>\n",
       "    <tr>\n",
       "      <th>V9</th>\n",
       "      <td>284807.0</td>\n",
       "      <td>-2.406331e-15</td>\n",
       "      <td>1.098632</td>\n",
       "      <td>-13.434066</td>\n",
       "      <td>-0.643098</td>\n",
       "      <td>-0.051429</td>\n",
       "      <td>0.597139</td>\n",
       "      <td>15.594995</td>\n",
       "    </tr>\n",
       "    <tr>\n",
       "      <th>V10</th>\n",
       "      <td>284807.0</td>\n",
       "      <td>2.239053e-15</td>\n",
       "      <td>1.088850</td>\n",
       "      <td>-24.588262</td>\n",
       "      <td>-0.535426</td>\n",
       "      <td>-0.092917</td>\n",
       "      <td>0.453923</td>\n",
       "      <td>23.745136</td>\n",
       "    </tr>\n",
       "    <tr>\n",
       "      <th>V11</th>\n",
       "      <td>284807.0</td>\n",
       "      <td>1.673327e-15</td>\n",
       "      <td>1.020713</td>\n",
       "      <td>-4.797473</td>\n",
       "      <td>-0.762494</td>\n",
       "      <td>-0.032757</td>\n",
       "      <td>0.739593</td>\n",
       "      <td>12.018913</td>\n",
       "    </tr>\n",
       "    <tr>\n",
       "      <th>V12</th>\n",
       "      <td>284807.0</td>\n",
       "      <td>-1.247012e-15</td>\n",
       "      <td>0.999201</td>\n",
       "      <td>-18.683715</td>\n",
       "      <td>-0.405571</td>\n",
       "      <td>0.140033</td>\n",
       "      <td>0.618238</td>\n",
       "      <td>7.848392</td>\n",
       "    </tr>\n",
       "    <tr>\n",
       "      <th>V13</th>\n",
       "      <td>284807.0</td>\n",
       "      <td>8.190001e-16</td>\n",
       "      <td>0.995274</td>\n",
       "      <td>-5.791881</td>\n",
       "      <td>-0.648539</td>\n",
       "      <td>-0.013568</td>\n",
       "      <td>0.662505</td>\n",
       "      <td>7.126883</td>\n",
       "    </tr>\n",
       "    <tr>\n",
       "      <th>V14</th>\n",
       "      <td>284807.0</td>\n",
       "      <td>1.207294e-15</td>\n",
       "      <td>0.958596</td>\n",
       "      <td>-19.214325</td>\n",
       "      <td>-0.425574</td>\n",
       "      <td>0.050601</td>\n",
       "      <td>0.493150</td>\n",
       "      <td>10.526766</td>\n",
       "    </tr>\n",
       "    <tr>\n",
       "      <th>V15</th>\n",
       "      <td>284807.0</td>\n",
       "      <td>4.887456e-15</td>\n",
       "      <td>0.915316</td>\n",
       "      <td>-4.498945</td>\n",
       "      <td>-0.582884</td>\n",
       "      <td>0.048072</td>\n",
       "      <td>0.648821</td>\n",
       "      <td>8.877742</td>\n",
       "    </tr>\n",
       "    <tr>\n",
       "      <th>V16</th>\n",
       "      <td>284807.0</td>\n",
       "      <td>1.437716e-15</td>\n",
       "      <td>0.876253</td>\n",
       "      <td>-14.129855</td>\n",
       "      <td>-0.468037</td>\n",
       "      <td>0.066413</td>\n",
       "      <td>0.523296</td>\n",
       "      <td>17.315112</td>\n",
       "    </tr>\n",
       "    <tr>\n",
       "      <th>V17</th>\n",
       "      <td>284807.0</td>\n",
       "      <td>-3.772171e-16</td>\n",
       "      <td>0.849337</td>\n",
       "      <td>-25.162799</td>\n",
       "      <td>-0.483748</td>\n",
       "      <td>-0.065676</td>\n",
       "      <td>0.399675</td>\n",
       "      <td>9.253526</td>\n",
       "    </tr>\n",
       "    <tr>\n",
       "      <th>V18</th>\n",
       "      <td>284807.0</td>\n",
       "      <td>9.564149e-16</td>\n",
       "      <td>0.838176</td>\n",
       "      <td>-9.498746</td>\n",
       "      <td>-0.498850</td>\n",
       "      <td>-0.003636</td>\n",
       "      <td>0.500807</td>\n",
       "      <td>5.041069</td>\n",
       "    </tr>\n",
       "    <tr>\n",
       "      <th>V19</th>\n",
       "      <td>284807.0</td>\n",
       "      <td>1.039917e-15</td>\n",
       "      <td>0.814041</td>\n",
       "      <td>-7.213527</td>\n",
       "      <td>-0.456299</td>\n",
       "      <td>0.003735</td>\n",
       "      <td>0.458949</td>\n",
       "      <td>5.591971</td>\n",
       "    </tr>\n",
       "    <tr>\n",
       "      <th>V20</th>\n",
       "      <td>284807.0</td>\n",
       "      <td>6.406204e-16</td>\n",
       "      <td>0.770925</td>\n",
       "      <td>-54.497720</td>\n",
       "      <td>-0.211721</td>\n",
       "      <td>-0.062481</td>\n",
       "      <td>0.133041</td>\n",
       "      <td>39.420904</td>\n",
       "    </tr>\n",
       "    <tr>\n",
       "      <th>V21</th>\n",
       "      <td>284807.0</td>\n",
       "      <td>1.654067e-16</td>\n",
       "      <td>0.734524</td>\n",
       "      <td>-34.830382</td>\n",
       "      <td>-0.228395</td>\n",
       "      <td>-0.029450</td>\n",
       "      <td>0.186377</td>\n",
       "      <td>27.202839</td>\n",
       "    </tr>\n",
       "    <tr>\n",
       "      <th>V22</th>\n",
       "      <td>284807.0</td>\n",
       "      <td>-3.568593e-16</td>\n",
       "      <td>0.725702</td>\n",
       "      <td>-10.933144</td>\n",
       "      <td>-0.542350</td>\n",
       "      <td>0.006782</td>\n",
       "      <td>0.528554</td>\n",
       "      <td>10.503090</td>\n",
       "    </tr>\n",
       "    <tr>\n",
       "      <th>V23</th>\n",
       "      <td>284807.0</td>\n",
       "      <td>2.578648e-16</td>\n",
       "      <td>0.624460</td>\n",
       "      <td>-44.807735</td>\n",
       "      <td>-0.161846</td>\n",
       "      <td>-0.011193</td>\n",
       "      <td>0.147642</td>\n",
       "      <td>22.528412</td>\n",
       "    </tr>\n",
       "    <tr>\n",
       "      <th>V24</th>\n",
       "      <td>284807.0</td>\n",
       "      <td>4.473266e-15</td>\n",
       "      <td>0.605647</td>\n",
       "      <td>-2.836627</td>\n",
       "      <td>-0.354586</td>\n",
       "      <td>0.040976</td>\n",
       "      <td>0.439527</td>\n",
       "      <td>4.584549</td>\n",
       "    </tr>\n",
       "    <tr>\n",
       "      <th>V25</th>\n",
       "      <td>284807.0</td>\n",
       "      <td>5.340915e-16</td>\n",
       "      <td>0.521278</td>\n",
       "      <td>-10.295397</td>\n",
       "      <td>-0.317145</td>\n",
       "      <td>0.016594</td>\n",
       "      <td>0.350716</td>\n",
       "      <td>7.519589</td>\n",
       "    </tr>\n",
       "    <tr>\n",
       "      <th>V26</th>\n",
       "      <td>284807.0</td>\n",
       "      <td>1.683437e-15</td>\n",
       "      <td>0.482227</td>\n",
       "      <td>-2.604551</td>\n",
       "      <td>-0.326984</td>\n",
       "      <td>-0.052139</td>\n",
       "      <td>0.240952</td>\n",
       "      <td>3.517346</td>\n",
       "    </tr>\n",
       "    <tr>\n",
       "      <th>V27</th>\n",
       "      <td>284807.0</td>\n",
       "      <td>-3.660091e-16</td>\n",
       "      <td>0.403632</td>\n",
       "      <td>-22.565679</td>\n",
       "      <td>-0.070840</td>\n",
       "      <td>0.001342</td>\n",
       "      <td>0.091045</td>\n",
       "      <td>31.612198</td>\n",
       "    </tr>\n",
       "    <tr>\n",
       "      <th>V28</th>\n",
       "      <td>284807.0</td>\n",
       "      <td>-1.227390e-16</td>\n",
       "      <td>0.330083</td>\n",
       "      <td>-15.430084</td>\n",
       "      <td>-0.052960</td>\n",
       "      <td>0.011244</td>\n",
       "      <td>0.078280</td>\n",
       "      <td>33.847808</td>\n",
       "    </tr>\n",
       "    <tr>\n",
       "      <th>Amount</th>\n",
       "      <td>284807.0</td>\n",
       "      <td>8.834962e+01</td>\n",
       "      <td>250.120109</td>\n",
       "      <td>0.000000</td>\n",
       "      <td>5.600000</td>\n",
       "      <td>22.000000</td>\n",
       "      <td>77.165000</td>\n",
       "      <td>25691.160000</td>\n",
       "    </tr>\n",
       "    <tr>\n",
       "      <th>Class</th>\n",
       "      <td>284807.0</td>\n",
       "      <td>1.727486e-03</td>\n",
       "      <td>0.041527</td>\n",
       "      <td>0.000000</td>\n",
       "      <td>0.000000</td>\n",
       "      <td>0.000000</td>\n",
       "      <td>0.000000</td>\n",
       "      <td>1.000000</td>\n",
       "    </tr>\n",
       "  </tbody>\n",
       "</table>\n",
       "</div>"
      ],
      "text/plain": [
       "           count          mean           std         min           25%  \\\n",
       "Time    284807.0  9.481386e+04  47488.145955    0.000000  54201.500000   \n",
       "V1      284807.0  1.168375e-15      1.958696  -56.407510     -0.920373   \n",
       "V2      284807.0  3.416908e-16      1.651309  -72.715728     -0.598550   \n",
       "V3      284807.0 -1.379537e-15      1.516255  -48.325589     -0.890365   \n",
       "V4      284807.0  2.074095e-15      1.415869   -5.683171     -0.848640   \n",
       "V5      284807.0  9.604066e-16      1.380247 -113.743307     -0.691597   \n",
       "V6      284807.0  1.487313e-15      1.332271  -26.160506     -0.768296   \n",
       "V7      284807.0 -5.556467e-16      1.237094  -43.557242     -0.554076   \n",
       "V8      284807.0  1.213481e-16      1.194353  -73.216718     -0.208630   \n",
       "V9      284807.0 -2.406331e-15      1.098632  -13.434066     -0.643098   \n",
       "V10     284807.0  2.239053e-15      1.088850  -24.588262     -0.535426   \n",
       "V11     284807.0  1.673327e-15      1.020713   -4.797473     -0.762494   \n",
       "V12     284807.0 -1.247012e-15      0.999201  -18.683715     -0.405571   \n",
       "V13     284807.0  8.190001e-16      0.995274   -5.791881     -0.648539   \n",
       "V14     284807.0  1.207294e-15      0.958596  -19.214325     -0.425574   \n",
       "V15     284807.0  4.887456e-15      0.915316   -4.498945     -0.582884   \n",
       "V16     284807.0  1.437716e-15      0.876253  -14.129855     -0.468037   \n",
       "V17     284807.0 -3.772171e-16      0.849337  -25.162799     -0.483748   \n",
       "V18     284807.0  9.564149e-16      0.838176   -9.498746     -0.498850   \n",
       "V19     284807.0  1.039917e-15      0.814041   -7.213527     -0.456299   \n",
       "V20     284807.0  6.406204e-16      0.770925  -54.497720     -0.211721   \n",
       "V21     284807.0  1.654067e-16      0.734524  -34.830382     -0.228395   \n",
       "V22     284807.0 -3.568593e-16      0.725702  -10.933144     -0.542350   \n",
       "V23     284807.0  2.578648e-16      0.624460  -44.807735     -0.161846   \n",
       "V24     284807.0  4.473266e-15      0.605647   -2.836627     -0.354586   \n",
       "V25     284807.0  5.340915e-16      0.521278  -10.295397     -0.317145   \n",
       "V26     284807.0  1.683437e-15      0.482227   -2.604551     -0.326984   \n",
       "V27     284807.0 -3.660091e-16      0.403632  -22.565679     -0.070840   \n",
       "V28     284807.0 -1.227390e-16      0.330083  -15.430084     -0.052960   \n",
       "Amount  284807.0  8.834962e+01    250.120109    0.000000      5.600000   \n",
       "Class   284807.0  1.727486e-03      0.041527    0.000000      0.000000   \n",
       "\n",
       "                 50%            75%            max  \n",
       "Time    84692.000000  139320.500000  172792.000000  \n",
       "V1          0.018109       1.315642       2.454930  \n",
       "V2          0.065486       0.803724      22.057729  \n",
       "V3          0.179846       1.027196       9.382558  \n",
       "V4         -0.019847       0.743341      16.875344  \n",
       "V5         -0.054336       0.611926      34.801666  \n",
       "V6         -0.274187       0.398565      73.301626  \n",
       "V7          0.040103       0.570436     120.589494  \n",
       "V8          0.022358       0.327346      20.007208  \n",
       "V9         -0.051429       0.597139      15.594995  \n",
       "V10        -0.092917       0.453923      23.745136  \n",
       "V11        -0.032757       0.739593      12.018913  \n",
       "V12         0.140033       0.618238       7.848392  \n",
       "V13        -0.013568       0.662505       7.126883  \n",
       "V14         0.050601       0.493150      10.526766  \n",
       "V15         0.048072       0.648821       8.877742  \n",
       "V16         0.066413       0.523296      17.315112  \n",
       "V17        -0.065676       0.399675       9.253526  \n",
       "V18        -0.003636       0.500807       5.041069  \n",
       "V19         0.003735       0.458949       5.591971  \n",
       "V20        -0.062481       0.133041      39.420904  \n",
       "V21        -0.029450       0.186377      27.202839  \n",
       "V22         0.006782       0.528554      10.503090  \n",
       "V23        -0.011193       0.147642      22.528412  \n",
       "V24         0.040976       0.439527       4.584549  \n",
       "V25         0.016594       0.350716       7.519589  \n",
       "V26        -0.052139       0.240952       3.517346  \n",
       "V27         0.001342       0.091045      31.612198  \n",
       "V28         0.011244       0.078280      33.847808  \n",
       "Amount     22.000000      77.165000   25691.160000  \n",
       "Class       0.000000       0.000000       1.000000  "
      ]
     },
     "execution_count": 7,
     "metadata": {},
     "output_type": "execute_result"
    }
   ],
   "source": [
    "data.describe().T"
   ]
  },
  {
   "cell_type": "code",
   "execution_count": 8,
   "id": "3be6a4e9",
   "metadata": {},
   "outputs": [
    {
     "data": {
      "text/plain": [
       "Time      0\n",
       "V1        0\n",
       "V2        0\n",
       "V3        0\n",
       "V4        0\n",
       "V5        0\n",
       "V6        0\n",
       "V7        0\n",
       "V8        0\n",
       "V9        0\n",
       "V10       0\n",
       "V11       0\n",
       "V12       0\n",
       "V13       0\n",
       "V14       0\n",
       "V15       0\n",
       "V16       0\n",
       "V17       0\n",
       "V18       0\n",
       "V19       0\n",
       "V20       0\n",
       "V21       0\n",
       "V22       0\n",
       "V23       0\n",
       "V24       0\n",
       "V25       0\n",
       "V26       0\n",
       "V27       0\n",
       "V28       0\n",
       "Amount    0\n",
       "Class     0\n",
       "dtype: int64"
      ]
     },
     "execution_count": 8,
     "metadata": {},
     "output_type": "execute_result"
    }
   ],
   "source": [
    "data.isnull().sum()"
   ]
  },
  {
   "cell_type": "markdown",
   "id": "bffc714f",
   "metadata": {},
   "source": [
    "**The dataset contains no missing values**"
   ]
  },
  {
   "cell_type": "markdown",
   "id": "c16a9b58",
   "metadata": {},
   "source": [
    "# EDA"
   ]
  },
  {
   "cell_type": "code",
   "execution_count": 26,
   "id": "bfafc7b8",
   "metadata": {
    "scrolled": true
   },
   "outputs": [
    {
     "data": {
      "image/png": "[encoded data removed]",
      "text/plain": [
       "<Figure size 500x500 with 1 Axes>"
      ]
     },
     "metadata": {},
     "output_type": "display_data"
    }
   ],
   "source": [
    "plt.figure(figsize=(5,5))\n",
    "sns.countplot(x=\"Class\",data =data, color=\"red\")\n",
    "plt.title(\"Class Distribution\")\n",
    "plt.show()"
   ]
  },
  {
   "cell_type": "code",
   "execution_count": 43,
   "id": "af9cf7bd",
   "metadata": {},
   "outputs": [],
   "source": [
    "#class distribution\n",
    "n_non_fraud, n_fraud,= round((data[\"Class\"].value_counts()/len(data))*100, 2)"
   ]
  },
  {
   "cell_type": "code",
   "execution_count": 45,
   "id": "818eaee5",
   "metadata": {},
   "outputs": [
    {
     "name": "stdout",
     "output_type": "stream",
     "text": [
      " Percentage of fraud transaction: 0.17% \n",
      " Percentage of non_fraud transaction: 99.83%\n"
     ]
    }
   ],
   "source": [
    "print(f' Percentage of fraud transaction: {n_fraud}%', '\\n', f'Percentage of non_fraud transaction: {n_non_fraud}%')"
   ]
  },
  {
   "cell_type": "markdown",
   "id": "452db6ec",
   "metadata": {},
   "source": [
    "**Highly unbalanced dataset**"
   ]
  },
  {
   "cell_type": "markdown",
   "id": "00dca5a2",
   "metadata": {},
   "source": [
    "**Correlation between features and Class** "
   ]
  },
  {
   "cell_type": "code",
   "execution_count": 73,
   "id": "edaeea0e",
   "metadata": {},
   "outputs": [
    {
     "data": {
      "image/png": "[encoded data removed]",
      "text/plain": [
       "<Figure size 1000x500 with 1 Axes>"
      ]
     },
     "metadata": {},
     "output_type": "display_data"
    }
   ],
   "source": [
    "sns.set_style(\"darkgrid\")\n",
    "plt.figure(figsize=(10,5))\n",
    "data.corr()[\"Class\"].sort_values(ascending=False)[1:].plot(kind=\"bar\")\n",
    "plt.show()"
   ]
  },
  {
   "cell_type": "code",
   "execution_count": 80,
   "id": "a0e83778",
   "metadata": {},
   "outputs": [
    {
     "data": {
      "image/png": "[encoded data removed]",
      "text/plain": [
       "<Figure size 500x500 with 1 Axes>"
      ]
     },
     "metadata": {},
     "output_type": "display_data"
    },
    {
     "data": {
      "image/png": "[encoded data removed]",
      "text/plain": [
       "<Figure size 557.75x500 with 1 Axes>"
      ]
     },
     "metadata": {},
     "output_type": "display_data"
    }
   ],
   "source": [
    "sns.displot(x=\"Amount\", data=data, bins=100)\n",
    "plt.title(\"Amount_Distribution\")\n",
    "sns.displot(x=\"Amount\", data=data, bins=100,hue=\"Class\")\n",
    "plt.title(\"Amount_Distribution\")\n",
    "plt.xlim([0,5000])\n",
    "plt.ylim([0,5000])\n",
    "plt.show()"
   ]
  },
  {
   "cell_type": "code",
   "execution_count": 75,
   "id": "da4e3328",
   "metadata": {},
   "outputs": [
    {
     "data": {
      "text/plain": [
       "count    284807.000000\n",
       "mean         88.349619\n",
       "std         250.120109\n",
       "min           0.000000\n",
       "25%           5.600000\n",
       "50%          22.000000\n",
       "75%          77.165000\n",
       "max       25691.160000\n",
       "Name: Amount, dtype: float64"
      ]
     },
     "execution_count": 75,
     "metadata": {},
     "output_type": "execute_result"
    }
   ],
   "source": [
    "data[\"Amount\"].describe()"
   ]
  },
  {
   "cell_type": "code",
   "execution_count": 81,
   "id": "d619794e",
   "metadata": {},
   "outputs": [
    {
     "data": {
      "text/plain": [
       "<seaborn.axisgrid.FacetGrid at 0x7ff74b136e00>"
      ]
     },
     "execution_count": 81,
     "metadata": {},
     "output_type": "execute_result"
    },
    {
     "data": {
      "image/png": "[encoded data removed]",
      "text/plain": [
       "<Figure size 500x500 with 1 Axes>"
      ]
     },
     "metadata": {},
     "output_type": "display_data"
    }
   ],
   "source": [
    "sns.displot(data[\"Time\"])"
   ]
  },
  {
   "cell_type": "code",
   "execution_count": 145,
   "id": "87b3e358",
   "metadata": {},
   "outputs": [],
   "source": [
    "df = data.copy()"
   ]
  },
  {
   "cell_type": "code",
   "execution_count": 165,
   "id": "52f7270b",
   "metadata": {},
   "outputs": [],
   "source": [
    "X= df.drop(\"Class\", axis=1)\n",
    "y= df[\"Class\"]"
   ]
  },
  {
   "cell_type": "markdown",
   "id": "7e7df67e",
   "metadata": {},
   "source": [
    "**Scaling the data for normalization**"
   ]
  },
  {
   "cell_type": "code",
   "execution_count": 166,
   "id": "fd8614f5",
   "metadata": {},
   "outputs": [],
   "source": [
    "from sklearn.preprocessing import StandardScaler"
   ]
  },
  {
   "cell_type": "code",
   "execution_count": 167,
   "id": "6c6e626c",
   "metadata": {},
   "outputs": [],
   "source": [
    "X_scaled = StandardScaler().fit_transform(X)"
   ]
  },
  {
   "cell_type": "code",
   "execution_count": 168,
   "id": "fd31004d",
   "metadata": {},
   "outputs": [],
   "source": [
    "X_scaled= pd.DataFrame(X_scaled, columns=X.columns)"
   ]
  },
  {
   "cell_type": "code",
   "execution_count": 169,
   "id": "0e62fd5d",
   "metadata": {},
   "outputs": [
    {
     "data": {
      "text/html": [
       "<div>\n",
       "<style scoped>\n",
       "    .dataframe tbody tr th:only-of-type {\n",
       "        vertical-align: middle;\n",
       "    }\n",
       "\n",
       "    .dataframe tbody tr th {\n",
       "        vertical-align: top;\n",
       "    }\n",
       "\n",
       "    .dataframe thead th {\n",
       "        text-align: right;\n",
       "    }\n",
       "</style>\n",
       "<table border=\"1\" class=\"dataframe\">\n",
       "  <thead>\n",
       "    <tr style=\"text-align: right;\">\n",
       "      <th></th>\n",
       "      <th>Time</th>\n",
       "      <th>V1</th>\n",
       "      <th>V2</th>\n",
       "      <th>V3</th>\n",
       "      <th>V4</th>\n",
       "      <th>V5</th>\n",
       "      <th>V6</th>\n",
       "      <th>V7</th>\n",
       "      <th>V8</th>\n",
       "      <th>V9</th>\n",
       "      <th>...</th>\n",
       "      <th>V20</th>\n",
       "      <th>V21</th>\n",
       "      <th>V22</th>\n",
       "      <th>V23</th>\n",
       "      <th>V24</th>\n",
       "      <th>V25</th>\n",
       "      <th>V26</th>\n",
       "      <th>V27</th>\n",
       "      <th>V28</th>\n",
       "      <th>Amount</th>\n",
       "    </tr>\n",
       "  </thead>\n",
       "  <tbody>\n",
       "    <tr>\n",
       "      <th>0</th>\n",
       "      <td>-1.996583</td>\n",
       "      <td>-0.694242</td>\n",
       "      <td>-0.044075</td>\n",
       "      <td>1.672773</td>\n",
       "      <td>0.973366</td>\n",
       "      <td>-0.245117</td>\n",
       "      <td>0.347068</td>\n",
       "      <td>0.193679</td>\n",
       "      <td>0.082637</td>\n",
       "      <td>0.331128</td>\n",
       "      <td>...</td>\n",
       "      <td>0.326118</td>\n",
       "      <td>-0.024923</td>\n",
       "      <td>0.382854</td>\n",
       "      <td>-0.176911</td>\n",
       "      <td>0.110507</td>\n",
       "      <td>0.246585</td>\n",
       "      <td>-0.392170</td>\n",
       "      <td>0.330892</td>\n",
       "      <td>-0.063781</td>\n",
       "      <td>0.244964</td>\n",
       "    </tr>\n",
       "    <tr>\n",
       "      <th>1</th>\n",
       "      <td>-1.996583</td>\n",
       "      <td>0.608496</td>\n",
       "      <td>0.161176</td>\n",
       "      <td>0.109797</td>\n",
       "      <td>0.316523</td>\n",
       "      <td>0.043483</td>\n",
       "      <td>-0.061820</td>\n",
       "      <td>-0.063700</td>\n",
       "      <td>0.071253</td>\n",
       "      <td>-0.232494</td>\n",
       "      <td>...</td>\n",
       "      <td>-0.089611</td>\n",
       "      <td>-0.307377</td>\n",
       "      <td>-0.880077</td>\n",
       "      <td>0.162201</td>\n",
       "      <td>-0.561131</td>\n",
       "      <td>0.320694</td>\n",
       "      <td>0.261069</td>\n",
       "      <td>-0.022256</td>\n",
       "      <td>0.044608</td>\n",
       "      <td>-0.342475</td>\n",
       "    </tr>\n",
       "    <tr>\n",
       "      <th>2</th>\n",
       "      <td>-1.996562</td>\n",
       "      <td>-0.693500</td>\n",
       "      <td>-0.811578</td>\n",
       "      <td>1.169468</td>\n",
       "      <td>0.268231</td>\n",
       "      <td>-0.364572</td>\n",
       "      <td>1.351454</td>\n",
       "      <td>0.639776</td>\n",
       "      <td>0.207373</td>\n",
       "      <td>-1.378675</td>\n",
       "      <td>...</td>\n",
       "      <td>0.680975</td>\n",
       "      <td>0.337632</td>\n",
       "      <td>1.063358</td>\n",
       "      <td>1.456320</td>\n",
       "      <td>-1.138092</td>\n",
       "      <td>-0.628537</td>\n",
       "      <td>-0.288447</td>\n",
       "      <td>-0.137137</td>\n",
       "      <td>-0.181021</td>\n",
       "      <td>1.160686</td>\n",
       "    </tr>\n",
       "    <tr>\n",
       "      <th>3</th>\n",
       "      <td>-1.996562</td>\n",
       "      <td>-0.493325</td>\n",
       "      <td>-0.112169</td>\n",
       "      <td>1.182516</td>\n",
       "      <td>-0.609727</td>\n",
       "      <td>-0.007469</td>\n",
       "      <td>0.936150</td>\n",
       "      <td>0.192071</td>\n",
       "      <td>0.316018</td>\n",
       "      <td>-1.262503</td>\n",
       "      <td>...</td>\n",
       "      <td>-0.269855</td>\n",
       "      <td>-0.147443</td>\n",
       "      <td>0.007267</td>\n",
       "      <td>-0.304777</td>\n",
       "      <td>-1.941027</td>\n",
       "      <td>1.241904</td>\n",
       "      <td>-0.460217</td>\n",
       "      <td>0.155396</td>\n",
       "      <td>0.186189</td>\n",
       "      <td>0.140534</td>\n",
       "    </tr>\n",
       "    <tr>\n",
       "      <th>4</th>\n",
       "      <td>-1.996541</td>\n",
       "      <td>-0.591330</td>\n",
       "      <td>0.531541</td>\n",
       "      <td>1.021412</td>\n",
       "      <td>0.284655</td>\n",
       "      <td>-0.295015</td>\n",
       "      <td>0.071999</td>\n",
       "      <td>0.479302</td>\n",
       "      <td>-0.226510</td>\n",
       "      <td>0.744326</td>\n",
       "      <td>...</td>\n",
       "      <td>0.529939</td>\n",
       "      <td>-0.012839</td>\n",
       "      <td>1.100011</td>\n",
       "      <td>-0.220123</td>\n",
       "      <td>0.233250</td>\n",
       "      <td>-0.395202</td>\n",
       "      <td>1.041611</td>\n",
       "      <td>0.543620</td>\n",
       "      <td>0.651816</td>\n",
       "      <td>-0.073403</td>\n",
       "    </tr>\n",
       "  </tbody>\n",
       "</table>\n",
       "<p>5 rows × 30 columns</p>\n",
       "</div>"
      ],
      "text/plain": [
       "       Time        V1        V2        V3        V4        V5        V6  \\\n",
       "0 -1.996583 -0.694242 -0.044075  1.672773  0.973366 -0.245117  0.347068   \n",
       "1 -1.996583  0.608496  0.161176  0.109797  0.316523  0.043483 -0.061820   \n",
       "2 -1.996562 -0.693500 -0.811578  1.169468  0.268231 -0.364572  1.351454   \n",
       "3 -1.996562 -0.493325 -0.112169  1.182516 -0.609727 -0.007469  0.936150   \n",
       "4 -1.996541 -0.591330  0.531541  1.021412  0.284655 -0.295015  0.071999   \n",
       "\n",
       "         V7        V8        V9  ...       V20       V21       V22       V23  \\\n",
       "0  0.193679  0.082637  0.331128  ...  0.326118 -0.024923  0.382854 -0.176911   \n",
       "1 -0.063700  0.071253 -0.232494  ... -0.089611 -0.307377 -0.880077  0.162201   \n",
       "2  0.639776  0.207373 -1.378675  ...  0.680975  0.337632  1.063358  1.456320   \n",
       "3  0.192071  0.316018 -1.262503  ... -0.269855 -0.147443  0.007267 -0.304777   \n",
       "4  0.479302 -0.226510  0.744326  ...  0.529939 -0.012839  1.100011 -0.220123   \n",
       "\n",
       "        V24       V25       V26       V27       V28    Amount  \n",
       "0  0.110507  0.246585 -0.392170  0.330892 -0.063781  0.244964  \n",
       "1 -0.561131  0.320694  0.261069 -0.022256  0.044608 -0.342475  \n",
       "2 -1.138092 -0.628537 -0.288447 -0.137137 -0.181021  1.160686  \n",
       "3 -1.941027  1.241904 -0.460217  0.155396  0.186189  0.140534  \n",
       "4  0.233250 -0.395202  1.041611  0.543620  0.651816 -0.073403  \n",
       "\n",
       "[5 rows x 30 columns]"
      ]
     },
     "execution_count": 169,
     "metadata": {},
     "output_type": "execute_result"
    }
   ],
   "source": [
    "X_scaled.head()"
   ]
  },
  {
   "cell_type": "code",
   "execution_count": 170,
   "id": "dcb2f68b",
   "metadata": {},
   "outputs": [
    {
     "data": {
      "text/html": [
       "<div>\n",
       "<style scoped>\n",
       "    .dataframe tbody tr th:only-of-type {\n",
       "        vertical-align: middle;\n",
       "    }\n",
       "\n",
       "    .dataframe tbody tr th {\n",
       "        vertical-align: top;\n",
       "    }\n",
       "\n",
       "    .dataframe thead th {\n",
       "        text-align: right;\n",
       "    }\n",
       "</style>\n",
       "<table border=\"1\" class=\"dataframe\">\n",
       "  <thead>\n",
       "    <tr style=\"text-align: right;\">\n",
       "      <th></th>\n",
       "      <th>count</th>\n",
       "      <th>mean</th>\n",
       "      <th>std</th>\n",
       "      <th>min</th>\n",
       "      <th>25%</th>\n",
       "      <th>50%</th>\n",
       "      <th>75%</th>\n",
       "      <th>max</th>\n",
       "    </tr>\n",
       "  </thead>\n",
       "  <tbody>\n",
       "    <tr>\n",
       "      <th>Time</th>\n",
       "      <td>284807.0</td>\n",
       "      <td>-3.065637e-16</td>\n",
       "      <td>1.000002</td>\n",
       "      <td>-1.996583</td>\n",
       "      <td>-0.855212</td>\n",
       "      <td>-0.213145</td>\n",
       "      <td>0.937217</td>\n",
       "      <td>1.642058</td>\n",
       "    </tr>\n",
       "    <tr>\n",
       "      <th>V1</th>\n",
       "      <td>284807.0</td>\n",
       "      <td>-1.506872e-17</td>\n",
       "      <td>1.000002</td>\n",
       "      <td>-28.798555</td>\n",
       "      <td>-0.469892</td>\n",
       "      <td>0.009245</td>\n",
       "      <td>0.671694</td>\n",
       "      <td>1.253351</td>\n",
       "    </tr>\n",
       "    <tr>\n",
       "      <th>V2</th>\n",
       "      <td>284807.0</td>\n",
       "      <td>-9.580116e-18</td>\n",
       "      <td>1.000002</td>\n",
       "      <td>-44.035292</td>\n",
       "      <td>-0.362471</td>\n",
       "      <td>0.039657</td>\n",
       "      <td>0.486720</td>\n",
       "      <td>13.357750</td>\n",
       "    </tr>\n",
       "    <tr>\n",
       "      <th>V3</th>\n",
       "      <td>284807.0</td>\n",
       "      <td>-8.622104e-17</td>\n",
       "      <td>1.000002</td>\n",
       "      <td>-31.871733</td>\n",
       "      <td>-0.587214</td>\n",
       "      <td>0.118612</td>\n",
       "      <td>0.677457</td>\n",
       "      <td>6.187993</td>\n",
       "    </tr>\n",
       "    <tr>\n",
       "      <th>V4</th>\n",
       "      <td>284807.0</td>\n",
       "      <td>-5.189230e-18</td>\n",
       "      <td>1.000002</td>\n",
       "      <td>-4.013919</td>\n",
       "      <td>-0.599379</td>\n",
       "      <td>-0.014017</td>\n",
       "      <td>0.525008</td>\n",
       "      <td>11.918743</td>\n",
       "    </tr>\n",
       "    <tr>\n",
       "      <th>V5</th>\n",
       "      <td>284807.0</td>\n",
       "      <td>3.832046e-17</td>\n",
       "      <td>1.000002</td>\n",
       "      <td>-82.408097</td>\n",
       "      <td>-0.501069</td>\n",
       "      <td>-0.039367</td>\n",
       "      <td>0.443346</td>\n",
       "      <td>25.214135</td>\n",
       "    </tr>\n",
       "    <tr>\n",
       "      <th>V6</th>\n",
       "      <td>284807.0</td>\n",
       "      <td>9.979288e-18</td>\n",
       "      <td>1.000002</td>\n",
       "      <td>-19.636058</td>\n",
       "      <td>-0.576682</td>\n",
       "      <td>-0.205805</td>\n",
       "      <td>0.299163</td>\n",
       "      <td>55.020149</td>\n",
       "    </tr>\n",
       "    <tr>\n",
       "      <th>V7</th>\n",
       "      <td>284807.0</td>\n",
       "      <td>1.237432e-17</td>\n",
       "      <td>1.000002</td>\n",
       "      <td>-35.209396</td>\n",
       "      <td>-0.447886</td>\n",
       "      <td>0.032417</td>\n",
       "      <td>0.461111</td>\n",
       "      <td>97.478239</td>\n",
       "    </tr>\n",
       "    <tr>\n",
       "      <th>V8</th>\n",
       "      <td>284807.0</td>\n",
       "      <td>-3.193372e-18</td>\n",
       "      <td>1.000002</td>\n",
       "      <td>-61.302524</td>\n",
       "      <td>-0.174680</td>\n",
       "      <td>0.018720</td>\n",
       "      <td>0.274078</td>\n",
       "      <td>16.751534</td>\n",
       "    </tr>\n",
       "    <tr>\n",
       "      <th>V9</th>\n",
       "      <td>284807.0</td>\n",
       "      <td>7.234983e-19</td>\n",
       "      <td>1.000002</td>\n",
       "      <td>-12.228015</td>\n",
       "      <td>-0.585363</td>\n",
       "      <td>-0.046812</td>\n",
       "      <td>0.543531</td>\n",
       "      <td>14.194945</td>\n",
       "    </tr>\n",
       "    <tr>\n",
       "      <th>V10</th>\n",
       "      <td>284807.0</td>\n",
       "      <td>5.588401e-18</td>\n",
       "      <td>1.000002</td>\n",
       "      <td>-22.581908</td>\n",
       "      <td>-0.491736</td>\n",
       "      <td>-0.085336</td>\n",
       "      <td>0.416884</td>\n",
       "      <td>21.807579</td>\n",
       "    </tr>\n",
       "    <tr>\n",
       "      <th>V11</th>\n",
       "      <td>284807.0</td>\n",
       "      <td>-4.311052e-17</td>\n",
       "      <td>1.000002</td>\n",
       "      <td>-4.700128</td>\n",
       "      <td>-0.747022</td>\n",
       "      <td>-0.032093</td>\n",
       "      <td>0.724586</td>\n",
       "      <td>11.775038</td>\n",
       "    </tr>\n",
       "    <tr>\n",
       "      <th>V12</th>\n",
       "      <td>284807.0</td>\n",
       "      <td>1.676520e-17</td>\n",
       "      <td>1.000002</td>\n",
       "      <td>-18.698680</td>\n",
       "      <td>-0.405896</td>\n",
       "      <td>0.140145</td>\n",
       "      <td>0.618733</td>\n",
       "      <td>7.854679</td>\n",
       "    </tr>\n",
       "    <tr>\n",
       "      <th>V13</th>\n",
       "      <td>284807.0</td>\n",
       "      <td>-1.252401e-17</td>\n",
       "      <td>1.000002</td>\n",
       "      <td>-5.819392</td>\n",
       "      <td>-0.651620</td>\n",
       "      <td>-0.013633</td>\n",
       "      <td>0.665652</td>\n",
       "      <td>7.160735</td>\n",
       "    </tr>\n",
       "    <tr>\n",
       "      <th>V14</th>\n",
       "      <td>284807.0</td>\n",
       "      <td>2.594615e-17</td>\n",
       "      <td>1.000002</td>\n",
       "      <td>-20.044280</td>\n",
       "      <td>-0.443957</td>\n",
       "      <td>0.052787</td>\n",
       "      <td>0.514451</td>\n",
       "      <td>10.981465</td>\n",
       "    </tr>\n",
       "    <tr>\n",
       "      <th>V15</th>\n",
       "      <td>284807.0</td>\n",
       "      <td>-2.075692e-17</td>\n",
       "      <td>1.000002</td>\n",
       "      <td>-4.915191</td>\n",
       "      <td>-0.636813</td>\n",
       "      <td>0.052519</td>\n",
       "      <td>0.708850</td>\n",
       "      <td>9.699117</td>\n",
       "    </tr>\n",
       "    <tr>\n",
       "      <th>V16</th>\n",
       "      <td>284807.0</td>\n",
       "      <td>1.836189e-17</td>\n",
       "      <td>1.000002</td>\n",
       "      <td>-16.125344</td>\n",
       "      <td>-0.534135</td>\n",
       "      <td>0.075793</td>\n",
       "      <td>0.597199</td>\n",
       "      <td>19.760439</td>\n",
       "    </tr>\n",
       "    <tr>\n",
       "      <th>V17</th>\n",
       "      <td>284807.0</td>\n",
       "      <td>3.392958e-18</td>\n",
       "      <td>1.000002</td>\n",
       "      <td>-29.626452</td>\n",
       "      <td>-0.569561</td>\n",
       "      <td>-0.077326</td>\n",
       "      <td>0.470574</td>\n",
       "      <td>10.895018</td>\n",
       "    </tr>\n",
       "    <tr>\n",
       "      <th>V18</th>\n",
       "      <td>284807.0</td>\n",
       "      <td>2.634532e-17</td>\n",
       "      <td>1.000002</td>\n",
       "      <td>-11.332656</td>\n",
       "      <td>-0.595162</td>\n",
       "      <td>-0.004338</td>\n",
       "      <td>0.597497</td>\n",
       "      <td>6.014342</td>\n",
       "    </tr>\n",
       "    <tr>\n",
       "      <th>V19</th>\n",
       "      <td>284807.0</td>\n",
       "      <td>4.365938e-18</td>\n",
       "      <td>1.000002</td>\n",
       "      <td>-8.861402</td>\n",
       "      <td>-0.560537</td>\n",
       "      <td>0.004588</td>\n",
       "      <td>0.563793</td>\n",
       "      <td>6.869414</td>\n",
       "    </tr>\n",
       "    <tr>\n",
       "      <th>V20</th>\n",
       "      <td>284807.0</td>\n",
       "      <td>-1.247411e-18</td>\n",
       "      <td>1.000002</td>\n",
       "      <td>-70.691461</td>\n",
       "      <td>-0.274633</td>\n",
       "      <td>-0.081047</td>\n",
       "      <td>0.172573</td>\n",
       "      <td>51.134640</td>\n",
       "    </tr>\n",
       "    <tr>\n",
       "      <th>V21</th>\n",
       "      <td>284807.0</td>\n",
       "      <td>-3.642440e-18</td>\n",
       "      <td>1.000002</td>\n",
       "      <td>-47.419067</td>\n",
       "      <td>-0.310943</td>\n",
       "      <td>-0.040094</td>\n",
       "      <td>0.253739</td>\n",
       "      <td>37.034714</td>\n",
       "    </tr>\n",
       "    <tr>\n",
       "      <th>V22</th>\n",
       "      <td>284807.0</td>\n",
       "      <td>3.193372e-18</td>\n",
       "      <td>1.000002</td>\n",
       "      <td>-15.065646</td>\n",
       "      <td>-0.747348</td>\n",
       "      <td>0.009345</td>\n",
       "      <td>0.728336</td>\n",
       "      <td>14.473041</td>\n",
       "    </tr>\n",
       "    <tr>\n",
       "      <th>V23</th>\n",
       "      <td>284807.0</td>\n",
       "      <td>8.781773e-18</td>\n",
       "      <td>1.000002</td>\n",
       "      <td>-71.754464</td>\n",
       "      <td>-0.259178</td>\n",
       "      <td>-0.017924</td>\n",
       "      <td>0.236432</td>\n",
       "      <td>36.076675</td>\n",
       "    </tr>\n",
       "    <tr>\n",
       "      <th>V24</th>\n",
       "      <td>284807.0</td>\n",
       "      <td>9.580116e-18</td>\n",
       "      <td>1.000002</td>\n",
       "      <td>-4.683638</td>\n",
       "      <td>-0.585468</td>\n",
       "      <td>0.067657</td>\n",
       "      <td>0.725715</td>\n",
       "      <td>7.569684</td>\n",
       "    </tr>\n",
       "    <tr>\n",
       "      <th>V25</th>\n",
       "      <td>284807.0</td>\n",
       "      <td>-5.029561e-17</td>\n",
       "      <td>1.000002</td>\n",
       "      <td>-19.750332</td>\n",
       "      <td>-0.608400</td>\n",
       "      <td>0.031832</td>\n",
       "      <td>0.672801</td>\n",
       "      <td>14.425318</td>\n",
       "    </tr>\n",
       "    <tr>\n",
       "      <th>V26</th>\n",
       "      <td>284807.0</td>\n",
       "      <td>5.887780e-18</td>\n",
       "      <td>1.000002</td>\n",
       "      <td>-5.401098</td>\n",
       "      <td>-0.678072</td>\n",
       "      <td>-0.108122</td>\n",
       "      <td>0.499666</td>\n",
       "      <td>7.293975</td>\n",
       "    </tr>\n",
       "    <tr>\n",
       "      <th>V27</th>\n",
       "      <td>284807.0</td>\n",
       "      <td>2.444925e-18</td>\n",
       "      <td>1.000002</td>\n",
       "      <td>-55.906596</td>\n",
       "      <td>-0.175505</td>\n",
       "      <td>0.003325</td>\n",
       "      <td>0.225565</td>\n",
       "      <td>78.319397</td>\n",
       "    </tr>\n",
       "    <tr>\n",
       "      <th>V28</th>\n",
       "      <td>284807.0</td>\n",
       "      <td>-7.908585e-18</td>\n",
       "      <td>1.000002</td>\n",
       "      <td>-46.746117</td>\n",
       "      <td>-0.160444</td>\n",
       "      <td>0.034064</td>\n",
       "      <td>0.237153</td>\n",
       "      <td>102.543421</td>\n",
       "    </tr>\n",
       "    <tr>\n",
       "      <th>Amount</th>\n",
       "      <td>284807.0</td>\n",
       "      <td>2.913952e-17</td>\n",
       "      <td>1.000002</td>\n",
       "      <td>-0.353229</td>\n",
       "      <td>-0.330840</td>\n",
       "      <td>-0.265271</td>\n",
       "      <td>-0.044717</td>\n",
       "      <td>102.362243</td>\n",
       "    </tr>\n",
       "  </tbody>\n",
       "</table>\n",
       "</div>"
      ],
      "text/plain": [
       "           count          mean       std        min       25%       50%  \\\n",
       "Time    284807.0 -3.065637e-16  1.000002  -1.996583 -0.855212 -0.213145   \n",
       "V1      284807.0 -1.506872e-17  1.000002 -28.798555 -0.469892  0.009245   \n",
       "V2      284807.0 -9.580116e-18  1.000002 -44.035292 -0.362471  0.039657   \n",
       "V3      284807.0 -8.622104e-17  1.000002 -31.871733 -0.587214  0.118612   \n",
       "V4      284807.0 -5.189230e-18  1.000002  -4.013919 -0.599379 -0.014017   \n",
       "V5      284807.0  3.832046e-17  1.000002 -82.408097 -0.501069 -0.039367   \n",
       "V6      284807.0  9.979288e-18  1.000002 -19.636058 -0.576682 -0.205805   \n",
       "V7      284807.0  1.237432e-17  1.000002 -35.209396 -0.447886  0.032417   \n",
       "V8      284807.0 -3.193372e-18  1.000002 -61.302524 -0.174680  0.018720   \n",
       "V9      284807.0  7.234983e-19  1.000002 -12.228015 -0.585363 -0.046812   \n",
       "V10     284807.0  5.588401e-18  1.000002 -22.581908 -0.491736 -0.085336   \n",
       "V11     284807.0 -4.311052e-17  1.000002  -4.700128 -0.747022 -0.032093   \n",
       "V12     284807.0  1.676520e-17  1.000002 -18.698680 -0.405896  0.140145   \n",
       "V13     284807.0 -1.252401e-17  1.000002  -5.819392 -0.651620 -0.013633   \n",
       "V14     284807.0  2.594615e-17  1.000002 -20.044280 -0.443957  0.052787   \n",
       "V15     284807.0 -2.075692e-17  1.000002  -4.915191 -0.636813  0.052519   \n",
       "V16     284807.0  1.836189e-17  1.000002 -16.125344 -0.534135  0.075793   \n",
       "V17     284807.0  3.392958e-18  1.000002 -29.626452 -0.569561 -0.077326   \n",
       "V18     284807.0  2.634532e-17  1.000002 -11.332656 -0.595162 -0.004338   \n",
       "V19     284807.0  4.365938e-18  1.000002  -8.861402 -0.560537  0.004588   \n",
       "V20     284807.0 -1.247411e-18  1.000002 -70.691461 -0.274633 -0.081047   \n",
       "V21     284807.0 -3.642440e-18  1.000002 -47.419067 -0.310943 -0.040094   \n",
       "V22     284807.0  3.193372e-18  1.000002 -15.065646 -0.747348  0.009345   \n",
       "V23     284807.0  8.781773e-18  1.000002 -71.754464 -0.259178 -0.017924   \n",
       "V24     284807.0  9.580116e-18  1.000002  -4.683638 -0.585468  0.067657   \n",
       "V25     284807.0 -5.029561e-17  1.000002 -19.750332 -0.608400  0.031832   \n",
       "V26     284807.0  5.887780e-18  1.000002  -5.401098 -0.678072 -0.108122   \n",
       "V27     284807.0  2.444925e-18  1.000002 -55.906596 -0.175505  0.003325   \n",
       "V28     284807.0 -7.908585e-18  1.000002 -46.746117 -0.160444  0.034064   \n",
       "Amount  284807.0  2.913952e-17  1.000002  -0.353229 -0.330840 -0.265271   \n",
       "\n",
       "             75%         max  \n",
       "Time    0.937217    1.642058  \n",
       "V1      0.671694    1.253351  \n",
       "V2      0.486720   13.357750  \n",
       "V3      0.677457    6.187993  \n",
       "V4      0.525008   11.918743  \n",
       "V5      0.443346   25.214135  \n",
       "V6      0.299163   55.020149  \n",
       "V7      0.461111   97.478239  \n",
       "V8      0.274078   16.751534  \n",
       "V9      0.543531   14.194945  \n",
       "V10     0.416884   21.807579  \n",
       "V11     0.724586   11.775038  \n",
       "V12     0.618733    7.854679  \n",
       "V13     0.665652    7.160735  \n",
       "V14     0.514451   10.981465  \n",
       "V15     0.708850    9.699117  \n",
       "V16     0.597199   19.760439  \n",
       "V17     0.470574   10.895018  \n",
       "V18     0.597497    6.014342  \n",
       "V19     0.563793    6.869414  \n",
       "V20     0.172573   51.134640  \n",
       "V21     0.253739   37.034714  \n",
       "V22     0.728336   14.473041  \n",
       "V23     0.236432   36.076675  \n",
       "V24     0.725715    7.569684  \n",
       "V25     0.672801   14.425318  \n",
       "V26     0.499666    7.293975  \n",
       "V27     0.225565   78.319397  \n",
       "V28     0.237153  102.543421  \n",
       "Amount -0.044717  102.362243  "
      ]
     },
     "execution_count": 170,
     "metadata": {},
     "output_type": "execute_result"
    }
   ],
   "source": [
    "X_scaled.describe().T"
   ]
  },
  {
   "cell_type": "markdown",
   "id": "94a170cd",
   "metadata": {},
   "source": [
    "**Oversampling and Undersampling using Random**"
   ]
  },
  {
   "cell_type": "code",
   "execution_count": 172,
   "id": "591a2fe9",
   "metadata": {},
   "outputs": [],
   "source": [
    "from imblearn.over_sampling import RandomOverSampler\n",
    "from imblearn.under_sampling import RandomUnderSampler\n",
    "from collections import Counter"
   ]
  },
  {
   "cell_type": "code",
   "execution_count": 203,
   "id": "26fbe3aa",
   "metadata": {},
   "outputs": [],
   "source": [
    "over = RandomOverSampler(sampling_strategy=0.5,random_state=101 )\n",
    "under = RandomUnderSampler(sampling_strategy=1, random_state=101)"
   ]
  },
  {
   "cell_type": "code",
   "execution_count": 204,
   "id": "05ca3133",
   "metadata": {},
   "outputs": [],
   "source": [
    "x_ros, y_ros = over.fit_resample(X_scaled,y)\n"
   ]
  },
  {
   "cell_type": "code",
   "execution_count": 205,
   "id": "1c0f2e20",
   "metadata": {},
   "outputs": [
    {
     "name": "stdout",
     "output_type": "stream",
     "text": [
      "Oversampled: Counter({0: 284315, 1: 142157})\n"
     ]
    }
   ],
   "source": [
    "print(f\"Oversampled: {Counter(y_ros)}\")"
   ]
  },
  {
   "cell_type": "code",
   "execution_count": 206,
   "id": "3f7841d3",
   "metadata": {},
   "outputs": [],
   "source": [
    "x_final, y_final = under.fit_resample(x_ros,y_ros)"
   ]
  },
  {
   "cell_type": "code",
   "execution_count": 207,
   "id": "2de27a26",
   "metadata": {},
   "outputs": [
    {
     "name": "stdout",
     "output_type": "stream",
     "text": [
      "Combined Random Sampling: Counter({0: 142157, 1: 142157})\n"
     ]
    }
   ],
   "source": [
    "print(f\"Combined Random Sampling: {Counter(y_final)}\")"
   ]
  },
  {
   "cell_type": "code",
   "execution_count": 221,
   "id": "645b8024",
   "metadata": {},
   "outputs": [],
   "source": [
    "sampled_df = pd.concat([x_final,y_final], axis=1)"
   ]
  },
  {
   "cell_type": "code",
   "execution_count": 222,
   "id": "3273c2a9",
   "metadata": {},
   "outputs": [
    {
     "data": {
      "text/html": [
       "<div>\n",
       "<style scoped>\n",
       "    .dataframe tbody tr th:only-of-type {\n",
       "        vertical-align: middle;\n",
       "    }\n",
       "\n",
       "    .dataframe tbody tr th {\n",
       "        vertical-align: top;\n",
       "    }\n",
       "\n",
       "    .dataframe thead th {\n",
       "        text-align: right;\n",
       "    }\n",
       "</style>\n",
       "<table border=\"1\" class=\"dataframe\">\n",
       "  <thead>\n",
       "    <tr style=\"text-align: right;\">\n",
       "      <th></th>\n",
       "      <th>Time</th>\n",
       "      <th>V1</th>\n",
       "      <th>V2</th>\n",
       "      <th>V3</th>\n",
       "      <th>V4</th>\n",
       "      <th>V5</th>\n",
       "      <th>V6</th>\n",
       "      <th>V7</th>\n",
       "      <th>V8</th>\n",
       "      <th>V9</th>\n",
       "      <th>...</th>\n",
       "      <th>V21</th>\n",
       "      <th>V22</th>\n",
       "      <th>V23</th>\n",
       "      <th>V24</th>\n",
       "      <th>V25</th>\n",
       "      <th>V26</th>\n",
       "      <th>V27</th>\n",
       "      <th>V28</th>\n",
       "      <th>Amount</th>\n",
       "      <th>Class</th>\n",
       "    </tr>\n",
       "  </thead>\n",
       "  <tbody>\n",
       "    <tr>\n",
       "      <th>0</th>\n",
       "      <td>-0.599074</td>\n",
       "      <td>0.452416</td>\n",
       "      <td>-0.211985</td>\n",
       "      <td>0.409367</td>\n",
       "      <td>0.920458</td>\n",
       "      <td>-0.438140</td>\n",
       "      <td>0.088985</td>\n",
       "      <td>-0.126519</td>\n",
       "      <td>0.197334</td>\n",
       "      <td>0.363597</td>\n",
       "      <td>...</td>\n",
       "      <td>-0.153999</td>\n",
       "      <td>-0.630805</td>\n",
       "      <td>-0.013921</td>\n",
       "      <td>0.285916</td>\n",
       "      <td>0.585227</td>\n",
       "      <td>-1.105549</td>\n",
       "      <td>0.055207</td>\n",
       "      <td>0.095184</td>\n",
       "      <td>0.106351</td>\n",
       "      <td>0</td>\n",
       "    </tr>\n",
       "    <tr>\n",
       "      <th>1</th>\n",
       "      <td>-0.016191</td>\n",
       "      <td>1.041090</td>\n",
       "      <td>0.239299</td>\n",
       "      <td>-1.330912</td>\n",
       "      <td>0.949972</td>\n",
       "      <td>0.707848</td>\n",
       "      <td>-0.758344</td>\n",
       "      <td>0.628488</td>\n",
       "      <td>-0.457203</td>\n",
       "      <td>0.997718</td>\n",
       "      <td>...</td>\n",
       "      <td>0.035560</td>\n",
       "      <td>0.461276</td>\n",
       "      <td>-0.090197</td>\n",
       "      <td>1.006141</td>\n",
       "      <td>1.073524</td>\n",
       "      <td>-1.007511</td>\n",
       "      <td>-0.188931</td>\n",
       "      <td>-0.188151</td>\n",
       "      <td>-0.209298</td>\n",
       "      <td>0</td>\n",
       "    </tr>\n",
       "    <tr>\n",
       "      <th>2</th>\n",
       "      <td>-0.617921</td>\n",
       "      <td>-0.258318</td>\n",
       "      <td>0.558763</td>\n",
       "      <td>1.077444</td>\n",
       "      <td>-0.103676</td>\n",
       "      <td>0.014354</td>\n",
       "      <td>-0.174749</td>\n",
       "      <td>0.393270</td>\n",
       "      <td>0.200906</td>\n",
       "      <td>-0.530275</td>\n",
       "      <td>...</td>\n",
       "      <td>-0.195730</td>\n",
       "      <td>-0.521418</td>\n",
       "      <td>0.034604</td>\n",
       "      <td>0.311893</td>\n",
       "      <td>-0.662628</td>\n",
       "      <td>0.151124</td>\n",
       "      <td>0.681968</td>\n",
       "      <td>0.326956</td>\n",
       "      <td>-0.349671</td>\n",
       "      <td>0</td>\n",
       "    </tr>\n",
       "    <tr>\n",
       "      <th>3</th>\n",
       "      <td>-0.998564</td>\n",
       "      <td>-0.251230</td>\n",
       "      <td>0.792758</td>\n",
       "      <td>0.633989</td>\n",
       "      <td>1.878734</td>\n",
       "      <td>0.570025</td>\n",
       "      <td>-0.085510</td>\n",
       "      <td>0.533430</td>\n",
       "      <td>-0.052738</td>\n",
       "      <td>-1.593085</td>\n",
       "      <td>...</td>\n",
       "      <td>0.201802</td>\n",
       "      <td>0.446832</td>\n",
       "      <td>-0.429428</td>\n",
       "      <td>0.022536</td>\n",
       "      <td>-0.613376</td>\n",
       "      <td>0.433328</td>\n",
       "      <td>-0.277751</td>\n",
       "      <td>0.416643</td>\n",
       "      <td>-0.349231</td>\n",
       "      <td>0</td>\n",
       "    </tr>\n",
       "    <tr>\n",
       "      <th>4</th>\n",
       "      <td>1.528724</td>\n",
       "      <td>-0.417363</td>\n",
       "      <td>0.050138</td>\n",
       "      <td>0.437419</td>\n",
       "      <td>-1.564152</td>\n",
       "      <td>-0.866308</td>\n",
       "      <td>0.099927</td>\n",
       "      <td>-0.886153</td>\n",
       "      <td>0.353496</td>\n",
       "      <td>-1.975038</td>\n",
       "      <td>...</td>\n",
       "      <td>-0.171127</td>\n",
       "      <td>-0.135349</td>\n",
       "      <td>0.428863</td>\n",
       "      <td>1.064679</td>\n",
       "      <td>-2.321057</td>\n",
       "      <td>-1.086576</td>\n",
       "      <td>-2.141381</td>\n",
       "      <td>-1.159034</td>\n",
       "      <td>-0.339276</td>\n",
       "      <td>0</td>\n",
       "    </tr>\n",
       "    <tr>\n",
       "      <th>...</th>\n",
       "      <td>...</td>\n",
       "      <td>...</td>\n",
       "      <td>...</td>\n",
       "      <td>...</td>\n",
       "      <td>...</td>\n",
       "      <td>...</td>\n",
       "      <td>...</td>\n",
       "      <td>...</td>\n",
       "      <td>...</td>\n",
       "      <td>...</td>\n",
       "      <td>...</td>\n",
       "      <td>...</td>\n",
       "      <td>...</td>\n",
       "      <td>...</td>\n",
       "      <td>...</td>\n",
       "      <td>...</td>\n",
       "      <td>...</td>\n",
       "      <td>...</td>\n",
       "      <td>...</td>\n",
       "      <td>...</td>\n",
       "      <td>...</td>\n",
       "    </tr>\n",
       "    <tr>\n",
       "      <th>284309</th>\n",
       "      <td>-0.740078</td>\n",
       "      <td>0.166441</td>\n",
       "      <td>0.779164</td>\n",
       "      <td>-1.323778</td>\n",
       "      <td>1.708972</td>\n",
       "      <td>-1.110602</td>\n",
       "      <td>-1.075461</td>\n",
       "      <td>-1.988155</td>\n",
       "      <td>0.517216</td>\n",
       "      <td>-1.024786</td>\n",
       "      <td>...</td>\n",
       "      <td>0.758172</td>\n",
       "      <td>0.233947</td>\n",
       "      <td>-0.279213</td>\n",
       "      <td>0.508649</td>\n",
       "      <td>1.363950</td>\n",
       "      <td>-0.479090</td>\n",
       "      <td>1.438180</td>\n",
       "      <td>0.911844</td>\n",
       "      <td>-0.328161</td>\n",
       "      <td>1</td>\n",
       "    </tr>\n",
       "    <tr>\n",
       "      <th>284310</th>\n",
       "      <td>0.984482</td>\n",
       "      <td>0.058695</td>\n",
       "      <td>0.464337</td>\n",
       "      <td>-0.325890</td>\n",
       "      <td>0.082474</td>\n",
       "      <td>0.628996</td>\n",
       "      <td>-0.358773</td>\n",
       "      <td>0.354457</td>\n",
       "      <td>0.052810</td>\n",
       "      <td>-0.169490</td>\n",
       "      <td>...</td>\n",
       "      <td>-0.387208</td>\n",
       "      <td>-0.974046</td>\n",
       "      <td>0.210430</td>\n",
       "      <td>0.991903</td>\n",
       "      <td>-1.159200</td>\n",
       "      <td>0.545258</td>\n",
       "      <td>0.245631</td>\n",
       "      <td>0.032749</td>\n",
       "      <td>-0.335278</td>\n",
       "      <td>1</td>\n",
       "    </tr>\n",
       "    <tr>\n",
       "      <th>284311</th>\n",
       "      <td>-1.720177</td>\n",
       "      <td>-1.470390</td>\n",
       "      <td>3.164431</td>\n",
       "      <td>-7.296497</td>\n",
       "      <td>4.724988</td>\n",
       "      <td>-4.173119</td>\n",
       "      <td>-1.684368</td>\n",
       "      <td>-9.053474</td>\n",
       "      <td>3.361426</td>\n",
       "      <td>-3.121436</td>\n",
       "      <td>...</td>\n",
       "      <td>2.726781</td>\n",
       "      <td>0.483811</td>\n",
       "      <td>1.273510</td>\n",
       "      <td>-1.285205</td>\n",
       "      <td>-3.159193</td>\n",
       "      <td>1.011017</td>\n",
       "      <td>3.537167</td>\n",
       "      <td>1.766747</td>\n",
       "      <td>-0.349231</td>\n",
       "      <td>1</td>\n",
       "    </tr>\n",
       "    <tr>\n",
       "      <th>284312</th>\n",
       "      <td>-1.239719</td>\n",
       "      <td>-2.141262</td>\n",
       "      <td>2.654201</td>\n",
       "      <td>-3.375667</td>\n",
       "      <td>3.146646</td>\n",
       "      <td>-3.486789</td>\n",
       "      <td>-0.919217</td>\n",
       "      <td>-5.885845</td>\n",
       "      <td>2.790009</td>\n",
       "      <td>-3.349315</td>\n",
       "      <td>...</td>\n",
       "      <td>2.110858</td>\n",
       "      <td>0.846869</td>\n",
       "      <td>0.045673</td>\n",
       "      <td>0.022628</td>\n",
       "      <td>-0.286819</td>\n",
       "      <td>-0.273081</td>\n",
       "      <td>1.174175</td>\n",
       "      <td>1.435269</td>\n",
       "      <td>-0.295417</td>\n",
       "      <td>1</td>\n",
       "    </tr>\n",
       "    <tr>\n",
       "      <th>284313</th>\n",
       "      <td>1.252844</td>\n",
       "      <td>-0.042367</td>\n",
       "      <td>-2.383519</td>\n",
       "      <td>-1.725774</td>\n",
       "      <td>0.115343</td>\n",
       "      <td>-1.015003</td>\n",
       "      <td>-0.607550</td>\n",
       "      <td>1.213799</td>\n",
       "      <td>-0.394356</td>\n",
       "      <td>1.383307</td>\n",
       "      <td>...</td>\n",
       "      <td>0.956638</td>\n",
       "      <td>-0.251212</td>\n",
       "      <td>-1.474903</td>\n",
       "      <td>0.184325</td>\n",
       "      <td>-0.137398</td>\n",
       "      <td>-2.334757</td>\n",
       "      <td>-0.423523</td>\n",
       "      <td>0.382393</td>\n",
       "      <td>4.032631</td>\n",
       "      <td>1</td>\n",
       "    </tr>\n",
       "  </tbody>\n",
       "</table>\n",
       "<p>284314 rows × 31 columns</p>\n",
       "</div>"
      ],
      "text/plain": [
       "            Time        V1        V2        V3        V4        V5        V6  \\\n",
       "0      -0.599074  0.452416 -0.211985  0.409367  0.920458 -0.438140  0.088985   \n",
       "1      -0.016191  1.041090  0.239299 -1.330912  0.949972  0.707848 -0.758344   \n",
       "2      -0.617921 -0.258318  0.558763  1.077444 -0.103676  0.014354 -0.174749   \n",
       "3      -0.998564 -0.251230  0.792758  0.633989  1.878734  0.570025 -0.085510   \n",
       "4       1.528724 -0.417363  0.050138  0.437419 -1.564152 -0.866308  0.099927   \n",
       "...          ...       ...       ...       ...       ...       ...       ...   \n",
       "284309 -0.740078  0.166441  0.779164 -1.323778  1.708972 -1.110602 -1.075461   \n",
       "284310  0.984482  0.058695  0.464337 -0.325890  0.082474  0.628996 -0.358773   \n",
       "284311 -1.720177 -1.470390  3.164431 -7.296497  4.724988 -4.173119 -1.684368   \n",
       "284312 -1.239719 -2.141262  2.654201 -3.375667  3.146646 -3.486789 -0.919217   \n",
       "284313  1.252844 -0.042367 -2.383519 -1.725774  0.115343 -1.015003 -0.607550   \n",
       "\n",
       "              V7        V8        V9  ...       V21       V22       V23  \\\n",
       "0      -0.126519  0.197334  0.363597  ... -0.153999 -0.630805 -0.013921   \n",
       "1       0.628488 -0.457203  0.997718  ...  0.035560  0.461276 -0.090197   \n",
       "2       0.393270  0.200906 -0.530275  ... -0.195730 -0.521418  0.034604   \n",
       "3       0.533430 -0.052738 -1.593085  ...  0.201802  0.446832 -0.429428   \n",
       "4      -0.886153  0.353496 -1.975038  ... -0.171127 -0.135349  0.428863   \n",
       "...          ...       ...       ...  ...       ...       ...       ...   \n",
       "284309 -1.988155  0.517216 -1.024786  ...  0.758172  0.233947 -0.279213   \n",
       "284310  0.354457  0.052810 -0.169490  ... -0.387208 -0.974046  0.210430   \n",
       "284311 -9.053474  3.361426 -3.121436  ...  2.726781  0.483811  1.273510   \n",
       "284312 -5.885845  2.790009 -3.349315  ...  2.110858  0.846869  0.045673   \n",
       "284313  1.213799 -0.394356  1.383307  ...  0.956638 -0.251212 -1.474903   \n",
       "\n",
       "             V24       V25       V26       V27       V28    Amount  Class  \n",
       "0       0.285916  0.585227 -1.105549  0.055207  0.095184  0.106351      0  \n",
       "1       1.006141  1.073524 -1.007511 -0.188931 -0.188151 -0.209298      0  \n",
       "2       0.311893 -0.662628  0.151124  0.681968  0.326956 -0.349671      0  \n",
       "3       0.022536 -0.613376  0.433328 -0.277751  0.416643 -0.349231      0  \n",
       "4       1.064679 -2.321057 -1.086576 -2.141381 -1.159034 -0.339276      0  \n",
       "...          ...       ...       ...       ...       ...       ...    ...  \n",
       "284309  0.508649  1.363950 -0.479090  1.438180  0.911844 -0.328161      1  \n",
       "284310  0.991903 -1.159200  0.545258  0.245631  0.032749 -0.335278      1  \n",
       "284311 -1.285205 -3.159193  1.011017  3.537167  1.766747 -0.349231      1  \n",
       "284312  0.022628 -0.286819 -0.273081  1.174175  1.435269 -0.295417      1  \n",
       "284313  0.184325 -0.137398 -2.334757 -0.423523  0.382393  4.032631      1  \n",
       "\n",
       "[284314 rows x 31 columns]"
      ]
     },
     "execution_count": 222,
     "metadata": {},
     "output_type": "execute_result"
    }
   ],
   "source": [
    "sampled_df"
   ]
  },
  {
   "cell_type": "markdown",
   "id": "2afe39ba",
   "metadata": {},
   "source": [
    "**Plotting resampled dataset**"
   ]
  },
  {
   "cell_type": "code",
   "execution_count": 223,
   "id": "2e41348f",
   "metadata": {},
   "outputs": [
    {
     "data": {
      "text/plain": [
       "<Axes: xlabel='Class', ylabel='count'>"
      ]
     },
     "execution_count": 223,
     "metadata": {},
     "output_type": "execute_result"
    },
    {
     "data": {
      "image/png": "[encoded data removed]",
      "text/plain": [
       "<Figure size 640x480 with 1 Axes>"
      ]
     },
     "metadata": {},
     "output_type": "display_data"
    }
   ],
   "source": [
    "sns.countplot(x=\"Class\", data= sampled_df)"
   ]
  },
  {
   "cell_type": "markdown",
   "id": "79a87536",
   "metadata": {},
   "source": [
    "**Again finding correlation between feature variables with Class.**"
   ]
  },
  {
   "cell_type": "code",
   "execution_count": 224,
   "id": "e9661d2d",
   "metadata": {},
   "outputs": [
    {
     "data": {
      "image/png": "[encoded data removed]",
      "text/plain": [
       "<Figure size 1000x1000 with 2 Axes>"
      ]
     },
     "metadata": {},
     "output_type": "display_data"
    }
   ],
   "source": [
    "plt.figure(figsize=(10,10))\n",
    "sns.heatmap(sampled_df.corr(), cmap='viridis')\n",
    "plt.show()"
   ]
  },
  {
   "cell_type": "code",
   "execution_count": 225,
   "id": "e5fa334f",
   "metadata": {},
   "outputs": [
    {
     "data": {
      "text/plain": [
       "<Axes: >"
      ]
     },
     "execution_count": 225,
     "metadata": {},
     "output_type": "execute_result"
    },
    {
     "data": {
      "image/png": "[encoded data removed]",
      "text/plain": [
       "<Figure size 1000x700 with 1 Axes>"
      ]
     },
     "metadata": {},
     "output_type": "display_data"
    }
   ],
   "source": [
    "plt.figure(figsize=(10,7))\n",
    "sampled_df.corr()[\"Class\"].sort_values()[:-1].plot(kind=\"bar\")"
   ]
  },
  {
   "cell_type": "code",
   "execution_count": 226,
   "id": "1085797f",
   "metadata": {},
   "outputs": [
    {
     "data": {
      "text/plain": [
       "V14   -0.749631\n",
       "V12   -0.683967\n",
       "V10   -0.627766\n",
       "V16   -0.596885\n",
       "V3    -0.567234\n",
       "V17   -0.560380\n",
       "V9    -0.558419\n",
       "V2     0.489789\n",
       "V11    0.686407\n",
       "V4     0.710907\n",
       "Name: Class, dtype: float64"
      ]
     },
     "execution_count": 226,
     "metadata": {},
     "output_type": "execute_result"
    }
   ],
   "source": [
    "sampled_df.corr()[\"Class\"][(sampled_df.corr()[\"Class\"]>0.4) |(sampled_df.corr()[\"Class\"]<-0.5)].sort_values()[:-1]"
   ]
  },
  {
   "cell_type": "markdown",
   "id": "0c7a8ec3",
   "metadata": {},
   "source": [
    "**Features with positive and negative correlation**"
   ]
  },
  {
   "cell_type": "code",
   "execution_count": null,
   "id": "4416c12c",
   "metadata": {},
   "outputs": [],
   "source": [
    "positive_corr = V2, V11, V4\n",
    "negative_corr = V9, V17, V3, V16, V10, V12, V14"
   ]
  },
  {
   "cell_type": "markdown",
   "id": "fc8a76da",
   "metadata": {},
   "source": [
    "**Data visualization**"
   ]
  },
  {
   "cell_type": "code",
   "execution_count": 227,
   "id": "9a627455",
   "metadata": {},
   "outputs": [
    {
     "data": {
      "text/plain": [
       "<Axes: xlabel='Class', ylabel='V14'>"
      ]
     },
     "execution_count": 227,
     "metadata": {},
     "output_type": "execute_result"
    },
    {
     "data": {
      "image/png": "[encoded data removed]",
      "text/plain": [
       "<Figure size 640x480 with 1 Axes>"
      ]
     },
     "metadata": {},
     "output_type": "display_data"
    }
   ],
   "source": [
    "sns.boxplot(x=\"Class\", y=\"V14\", data=sampled_df)"
   ]
  },
  {
   "cell_type": "code",
   "execution_count": 228,
   "id": "e6bcdcd0",
   "metadata": {},
   "outputs": [
    {
     "data": {
      "text/plain": [
       "<Axes: xlabel='Class', ylabel='V4'>"
      ]
     },
     "execution_count": 228,
     "metadata": {},
     "output_type": "execute_result"
    },
    {
     "data": {
      "image/png": "[encoded data removed]",
      "text/plain": [
       "<Figure size 640x480 with 1 Axes>"
      ]
     },
     "metadata": {},
     "output_type": "display_data"
    }
   ],
   "source": [
    "sns.boxplot(x=\"Class\", y=\"V4\", data=sampled_df)"
   ]
  },
  {
   "cell_type": "markdown",
   "id": "1268e525",
   "metadata": {},
   "source": [
    "**Removing outliers from important features**"
   ]
  },
  {
   "cell_type": "code",
   "execution_count": 233,
   "id": "8f700550",
   "metadata": {},
   "outputs": [],
   "source": [
    "Columns =['V2', 'V11', 'V4', 'V9', 'V17', 'V3', 'V16', 'V10', 'V12', 'V14']"
   ]
  },
  {
   "cell_type": "code",
   "execution_count": 234,
   "id": "a537eb85",
   "metadata": {},
   "outputs": [],
   "source": [
    "def remove_outlier(df_in, col_name):\n",
    "    q1 = df_in[col_name].quantile(0.25)\n",
    "    q3 = df_in[col_name].quantile(0.75)\n",
    "    iqr = q3-q1 #Interquartile range\n",
    "    fence_low  = q1-1.5*iqr\n",
    "    fence_high = q3+1.5*iqr\n",
    "    df_out = df_in.loc[(df_in[col_name] > fence_low) & (df_in[col_name] < fence_high)]\n",
    "    return df_out"
   ]
  },
  {
   "cell_type": "code",
   "execution_count": 236,
   "id": "a558a43b",
   "metadata": {},
   "outputs": [],
   "source": [
    "for col in Columns:\n",
    "    clean_df = remove_outlier(sampled_df,col)"
   ]
  },
  {
   "cell_type": "code",
   "execution_count": 237,
   "id": "5d7239e3",
   "metadata": {},
   "outputs": [
    {
     "data": {
      "text/plain": [
       "(281986, 31)"
      ]
     },
     "execution_count": 237,
     "metadata": {},
     "output_type": "execute_result"
    }
   ],
   "source": [
    "clean_df.shape"
   ]
  },
  {
   "cell_type": "code",
   "execution_count": 239,
   "id": "ffc3b51b",
   "metadata": {},
   "outputs": [
    {
     "data": {
      "text/plain": [
       "<Axes: xlabel='Class', ylabel='count'>"
      ]
     },
     "execution_count": 239,
     "metadata": {},
     "output_type": "execute_result"
    },
    {
     "data": {
      "image/png": "[encoded data removed]",
      "text/plain": [
       "<Figure size 640x480 with 1 Axes>"
      ]
     },
     "metadata": {},
     "output_type": "display_data"
    }
   ],
   "source": [
    "sns.countplot(x=\"Class\", data=clean_df)"
   ]
  },
  {
   "cell_type": "markdown",
   "id": "f69e2c16",
   "metadata": {},
   "source": [
    "**Train, Test, Split**"
   ]
  },
  {
   "cell_type": "code",
   "execution_count": 259,
   "id": "35cf4963",
   "metadata": {},
   "outputs": [],
   "source": [
    "X1 = clean_df.drop(\"Class\", axis =1)\n",
    "y1 =clean_df[\"Class\"]"
   ]
  },
  {
   "cell_type": "code",
   "execution_count": 258,
   "id": "d9f4a98e",
   "metadata": {},
   "outputs": [],
   "source": [
    "from sklearn.model_selection import train_test_split"
   ]
  },
  {
   "cell_type": "code",
   "execution_count": 275,
   "id": "edd04a01",
   "metadata": {},
   "outputs": [],
   "source": [
    "X_train, X_test, y_train, y_test = train_test_split( X1, y1, test_size=0.3, random_state=42)"
   ]
  },
  {
   "cell_type": "markdown",
   "id": "2fbcf3ce",
   "metadata": {},
   "source": [
    "**Prediction using Categorical models**"
   ]
  },
  {
   "cell_type": "code",
   "execution_count": 276,
   "id": "4d1fb1ef",
   "metadata": {},
   "outputs": [],
   "source": [
    "from sklearn.linear_model import LogisticRegression\n",
    "from sklearn.neighbors import KNeighborsClassifier\n",
    "from sklearn.tree import DecisionTreeClassifier\n",
    "from sklearn.ensemble import RandomForestClassifier"
   ]
  },
  {
   "cell_type": "code",
   "execution_count": 280,
   "id": "d59a9813",
   "metadata": {},
   "outputs": [],
   "source": [
    "from sklearn.metrics import confusion_matrix, classification_report, accuracy_score"
   ]
  },
  {
   "cell_type": "code",
   "execution_count": 295,
   "id": "6c2e6320",
   "metadata": {},
   "outputs": [],
   "source": [
    "classifiers = {\n",
    "    \"LogisticRegression\": LogisticRegression(),\n",
    "    \"KNearest\": KNeighborsClassifier(),\n",
    "    \"DecisionTreeClassifier\": DecisionTreeClassifier(),\n",
    "    \"RandomForestClassifier\" : RandomForestClassifier()\n",
    "}"
   ]
  },
  {
   "cell_type": "code",
   "execution_count": 296,
   "id": "339228a0",
   "metadata": {},
   "outputs": [
    {
     "name": "stdout",
     "output_type": "stream",
     "text": [
      "Classifier: LogisticRegression\n",
      "Confusion Matrix:\n",
      " [[41534   960]\n",
      " [ 3266 38836]]\n",
      "The classification_report is:\n",
      "               precision    recall  f1-score   support\n",
      "\n",
      "           0       0.93      0.98      0.95     42494\n",
      "           1       0.98      0.92      0.95     42102\n",
      "\n",
      "    accuracy                           0.95     84596\n",
      "   macro avg       0.95      0.95      0.95     84596\n",
      "weighted avg       0.95      0.95      0.95     84596\n",
      "\n",
      "Accuracy:  0.950044919381531\n",
      "-----------------------------\n",
      "\n",
      "Classifier: KNearest\n",
      "Confusion Matrix:\n",
      " [[42423    71]\n",
      " [    0 42102]]\n",
      "The classification_report is:\n",
      "               precision    recall  f1-score   support\n",
      "\n",
      "           0       0.93      0.98      0.95     42494\n",
      "           1       0.98      0.92      0.95     42102\n",
      "\n",
      "    accuracy                           0.95     84596\n",
      "   macro avg       0.95      0.95      0.95     84596\n",
      "weighted avg       0.95      0.95      0.95     84596\n",
      "\n",
      "Accuracy:  0.9991607168187621\n",
      "-----------------------------\n",
      "\n",
      "Classifier: DecisionTreeClassifier\n",
      "Confusion Matrix:\n",
      " [[42457    37]\n",
      " [    0 42102]]\n",
      "The classification_report is:\n",
      "               precision    recall  f1-score   support\n",
      "\n",
      "           0       0.93      0.98      0.95     42494\n",
      "           1       0.98      0.92      0.95     42102\n",
      "\n",
      "    accuracy                           0.95     84596\n",
      "   macro avg       0.95      0.95      0.95     84596\n",
      "weighted avg       0.95      0.95      0.95     84596\n",
      "\n",
      "Accuracy:  0.9995626270745662\n",
      "-----------------------------\n",
      "\n",
      "Classifier: RandomForestClassifier\n",
      "Confusion Matrix:\n",
      " [[42487     7]\n",
      " [    0 42102]]\n",
      "The classification_report is:\n",
      "               precision    recall  f1-score   support\n",
      "\n",
      "           0       0.93      0.98      0.95     42494\n",
      "           1       0.98      0.92      0.95     42102\n",
      "\n",
      "    accuracy                           0.95     84596\n",
      "   macro avg       0.95      0.95      0.95     84596\n",
      "weighted avg       0.95      0.95      0.95     84596\n",
      "\n",
      "Accuracy:  0.9999172537708638\n",
      "-----------------------------\n",
      "\n"
     ]
    }
   ],
   "source": [
    "for key, classifier in classifiers.items():\n",
    "    model = classifier\n",
    "    model.fit(X_train, y_train) \n",
    "    y_pred = model.predict(X_test)  \n",
    "    confusion_mat = confusion_matrix(y_test, y_pred)\n",
    "    accuracy = accuracy_score(y_test, y_pred)\n",
    "    \n",
    "    print(f\"Classifier: {key}\")\n",
    "    print(\"Confusion Matrix:\\n\", confusion_mat)\n",
    "    print('The classification_report is:\\n', classification_report)\n",
    "    print(\"Accuracy: \", accuracy)\n",
    "    print(\"-----------------------------\\n\")"
   ]
  },
  {
   "cell_type": "markdown",
   "id": "0d645bd2",
   "metadata": {},
   "source": [
    "**Using a fraction of clean_df for deep learning**"
   ]
  },
  {
   "cell_type": "code",
   "execution_count": 357,
   "id": "37526acc",
   "metadata": {},
   "outputs": [],
   "source": [
    "frac = clean_df.sample(frac=0.2,random_state=42)"
   ]
  },
  {
   "cell_type": "markdown",
   "id": "e18e094c",
   "metadata": {},
   "source": [
    "**Train, Test, Split**"
   ]
  },
  {
   "cell_type": "code",
   "execution_count": 380,
   "id": "5dc8c564",
   "metadata": {},
   "outputs": [],
   "source": [
    "X2 = frac.drop(\"Class\", axis =1).values\n",
    "y2 =frac[\"Class\"].values"
   ]
  },
  {
   "cell_type": "code",
   "execution_count": 381,
   "id": "1dcfdd8c",
   "metadata": {},
   "outputs": [],
   "source": [
    "X_train, X_test, y_train, y_test = train_test_split( X2, y2, test_size=0.3, random_state=42)"
   ]
  },
  {
   "cell_type": "markdown",
   "id": "ade1d1b1",
   "metadata": {},
   "source": [
    "**DL_model using keras of tensorflow**"
   ]
  },
  {
   "cell_type": "code",
   "execution_count": 382,
   "id": "5cdb4058",
   "metadata": {},
   "outputs": [],
   "source": [
    "import tensorflow as tf\n",
    "from tensorflow.keras.models import Sequential\n",
    "from tensorflow.keras.layers import Dense, Activation, Dropout, InputLayer"
   ]
  },
  {
   "cell_type": "code",
   "execution_count": 383,
   "id": "2cdbc7e1",
   "metadata": {},
   "outputs": [],
   "source": [
    "model = Sequential()"
   ]
  },
  {
   "cell_type": "code",
   "execution_count": 384,
   "id": "8981e7dd",
   "metadata": {},
   "outputs": [],
   "source": [
    "model.add(Dense(62, activation='relu', input_shape=(30,)))\n",
    "model.add(Dropout(0.2)),\n",
    "model.add(Dense(31, activation='relu'))\n",
    "model.add(Dropout(0.2)),\n",
    "model.add(Dense(15, activation='relu'))\n",
    "model.add(Dropout(0.2)),\n",
    "model.add(Dense(1, activation='sigmoid'))\n"
   ]
  },
  {
   "cell_type": "code",
   "execution_count": 385,
   "id": "b5c00e8f",
   "metadata": {},
   "outputs": [],
   "source": [
    "model.compile(optimizer=\"adam\", loss=\"binary_crossentropy\" )"
   ]
  },
  {
   "cell_type": "code",
   "execution_count": 386,
   "id": "0c32946a",
   "metadata": {},
   "outputs": [
    {
     "name": "stdout",
     "output_type": "stream",
     "text": [
      "Epoch 1/25\n",
      "1234/1234 [==============================] - 5s 3ms/step - loss: 0.1632 - val_loss: 0.0709\n",
      "Epoch 2/25\n",
      "1234/1234 [==============================] - 3s 3ms/step - loss: 0.0724 - val_loss: 0.0382\n",
      "Epoch 3/25\n",
      "1234/1234 [==============================] - 3s 3ms/step - loss: 0.0494 - val_loss: 0.0230\n",
      "Epoch 4/25\n",
      "1234/1234 [==============================] - 3s 3ms/step - loss: 0.0394 - val_loss: 0.0209\n",
      "Epoch 5/25\n",
      "1234/1234 [==============================] - 4s 3ms/step - loss: 0.0322 - val_loss: 0.0175\n",
      "Epoch 6/25\n",
      "1234/1234 [==============================] - 4s 3ms/step - loss: 0.0261 - val_loss: 0.0138\n",
      "Epoch 7/25\n",
      "1234/1234 [==============================] - 4s 3ms/step - loss: 0.0222 - val_loss: 0.0110\n",
      "Epoch 8/25\n",
      "1234/1234 [==============================] - 3s 3ms/step - loss: 0.0165 - val_loss: 0.0095\n",
      "Epoch 9/25\n",
      "1234/1234 [==============================] - 3s 3ms/step - loss: 0.0174 - val_loss: 0.0096\n",
      "Epoch 10/25\n",
      "1234/1234 [==============================] - 4s 3ms/step - loss: 0.0177 - val_loss: 0.0071\n",
      "Epoch 11/25\n",
      "1234/1234 [==============================] - 3s 3ms/step - loss: 0.0136 - val_loss: 0.0086\n",
      "Epoch 12/25\n",
      "1234/1234 [==============================] - 4s 3ms/step - loss: 0.0144 - val_loss: 0.0087\n",
      "Epoch 13/25\n",
      "1234/1234 [==============================] - 4s 3ms/step - loss: 0.0128 - val_loss: 0.0058\n",
      "Epoch 14/25\n",
      "1234/1234 [==============================] - 4s 3ms/step - loss: 0.0105 - val_loss: 0.0096\n",
      "Epoch 15/25\n",
      "1234/1234 [==============================] - 4s 3ms/step - loss: 0.0105 - val_loss: 0.0064\n",
      "Epoch 16/25\n",
      "1234/1234 [==============================] - 3s 3ms/step - loss: 0.0113 - val_loss: 0.0072\n",
      "Epoch 17/25\n",
      "1234/1234 [==============================] - 4s 3ms/step - loss: 0.0114 - val_loss: 0.0073\n",
      "Epoch 18/25\n",
      "1234/1234 [==============================] - 3s 3ms/step - loss: 0.0110 - val_loss: 0.0064\n",
      "Epoch 19/25\n",
      "1234/1234 [==============================] - 3s 3ms/step - loss: 0.0084 - val_loss: 0.0058\n",
      "Epoch 20/25\n",
      "1234/1234 [==============================] - 4s 3ms/step - loss: 0.0081 - val_loss: 0.0068\n",
      "Epoch 21/25\n",
      "1234/1234 [==============================] - 4s 3ms/step - loss: 0.0093 - val_loss: 0.0066\n",
      "Epoch 22/25\n",
      "1234/1234 [==============================] - 4s 3ms/step - loss: 0.0100 - val_loss: 0.0066\n",
      "Epoch 23/25\n",
      "1234/1234 [==============================] - 4s 3ms/step - loss: 0.0077 - val_loss: 0.0062\n",
      "Epoch 24/25\n",
      "1234/1234 [==============================] - 4s 3ms/step - loss: 0.0086 - val_loss: 0.0055\n",
      "Epoch 25/25\n",
      "1234/1234 [==============================] - 4s 3ms/step - loss: 0.0078 - val_loss: 0.0087\n"
     ]
    },
    {
     "data": {
      "text/plain": [
       "<keras.callbacks.History at 0x7ff72571f430>"
      ]
     },
     "execution_count": 386,
     "metadata": {},
     "output_type": "execute_result"
    }
   ],
   "source": [
    "model.fit(X_train,y_train,validation_data=(X_test,y_test),epochs=25, verbose=1)"
   ]
  },
  {
   "cell_type": "code",
   "execution_count": 387,
   "id": "28fdd183",
   "metadata": {},
   "outputs": [],
   "source": [
    "frame = pd.DataFrame(model.history.history, columns =[\"loss\",\"val_loss\"])"
   ]
  },
  {
   "cell_type": "code",
   "execution_count": 388,
   "id": "93c85b75",
   "metadata": {},
   "outputs": [
    {
     "data": {
      "text/plain": [
       "<Axes: >"
      ]
     },
     "execution_count": 388,
     "metadata": {},
     "output_type": "execute_result"
    },
    {
     "data": {
      "image/png": "[encoded data removed]",
      "text/plain": [
       "<Figure size 640x480 with 1 Axes>"
      ]
     },
     "metadata": {},
     "output_type": "display_data"
    }
   ],
   "source": [
    "frame[[\"loss\",\"val_loss\"]].plot(kind=\"line\")"
   ]
  },
  {
   "cell_type": "code",
   "execution_count": 389,
   "id": "71363aae",
   "metadata": {},
   "outputs": [
    {
     "name": "stdout",
     "output_type": "stream",
     "text": [
      "529/529 [==============================] - 1s 2ms/step\n"
     ]
    }
   ],
   "source": [
    "y_pred = model.predict(X_test)"
   ]
  },
  {
   "cell_type": "code",
   "execution_count": 390,
   "id": "a9fcd9f3",
   "metadata": {},
   "outputs": [],
   "source": [
    "y_pred = np.where(y_pred>0.5, 1,0)"
   ]
  },
  {
   "cell_type": "code",
   "execution_count": 392,
   "id": "ededa088",
   "metadata": {},
   "outputs": [
    {
     "name": "stdout",
     "output_type": "stream",
     "text": [
      "Confusion Matrix:\n",
      " [[8460   22]\n",
      " [  15 8423]]\n",
      "The classification_report is:\n",
      "               precision    recall  f1-score   support\n",
      "\n",
      "           0       0.93      0.98      0.95     42494\n",
      "           1       0.98      0.92      0.95     42102\n",
      "\n",
      "    accuracy                           0.95     84596\n",
      "   macro avg       0.95      0.95      0.95     84596\n",
      "weighted avg       0.95      0.95      0.95     84596\n",
      "\n",
      "Accuracy:  0.9978132387706856\n",
      "-----------------------------\n",
      "\n"
     ]
    }
   ],
   "source": [
    "confusion_mat = confusion_matrix(y_test, y_pred)\n",
    "accuracy = accuracy_score(y_test, y_pred)\n",
    "print(\"Confusion Matrix:\\n\", confusion_mat)\n",
    "print('The classification_report is:\\n', classification_report)\n",
    "print(\"Accuracy: \", accuracy)\n",
    "print(\"-----------------------------\\n\")"
   ]
  },
  {
   "cell_type": "markdown",
   "id": "40dd9fd6",
   "metadata": {},
   "source": [
    "**Accuracy using DL model is 99.78%, whereas accuracy through randomforest classifier is 99.99% with lesser false positive and false negative. Hence Randomforest is relatively a better predictor.**"
   ]
  },
  {
   "cell_type": "code",
   "execution_count": null,
   "id": "be97e206",
   "metadata": {},
   "outputs": [],
   "source": []
  }
 ],
 "metadata": {
  "kernelspec": {
   "display_name": "Python 3 (ipykernel)",
   "language": "python",
   "name": "python3"
  },
  "language_info": {
   "codemirror_mode": {
    "name": "ipython",
    "version": 3
   },
   "file_extension": ".py",
   "mimetype": "text/x-python",
   "name": "python",
   "nbconvert_exporter": "python",
   "pygments_lexer": "ipython3",
   "version": "3.10.9"
  }
 },
 "nbformat": 4,
 "nbformat_minor": 5
}
