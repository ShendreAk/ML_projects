{
 "cells": [
  {
   "cell_type": "code",
   "execution_count": 2,
   "id": "456ad6fc",
   "metadata": {},
   "outputs": [],
   "source": [
    "import pandas as pd\n",
    "import numpy as np\n",
    "import seaborn as sns\n",
    "import matplotlib.pyplot as plt\n",
    "%matplotlib inline"
   ]
  },
  {
   "cell_type": "code",
   "execution_count": 3,
   "id": "8db296c5",
   "metadata": {},
   "outputs": [],
   "source": [
    "df = pd.read_csv(\"winequality-red.csv\")"
   ]
  },
  {
   "cell_type": "code",
   "execution_count": 4,
   "id": "3473e91d",
   "metadata": {},
   "outputs": [
    {
     "data": {
      "text/plain": [
       "(1599, 12)"
      ]
     },
     "execution_count": 4,
     "metadata": {},
     "output_type": "execute_result"
    }
   ],
   "source": [
    "df.shape"
   ]
  },
  {
   "cell_type": "code",
   "execution_count": 5,
   "id": "8a18f400",
   "metadata": {},
   "outputs": [
    {
     "name": "stdout",
     "output_type": "stream",
     "text": [
      "<class 'pandas.core.frame.DataFrame'>\n",
      "RangeIndex: 1599 entries, 0 to 1598\n",
      "Data columns (total 12 columns):\n",
      " #   Column                Non-Null Count  Dtype  \n",
      "---  ------                --------------  -----  \n",
      " 0   fixed acidity         1599 non-null   float64\n",
      " 1   volatile acidity      1599 non-null   float64\n",
      " 2   citric acid           1599 non-null   float64\n",
      " 3   residual sugar        1599 non-null   float64\n",
      " 4   chlorides             1599 non-null   float64\n",
      " 5   free sulfur dioxide   1599 non-null   float64\n",
      " 6   total sulfur dioxide  1599 non-null   float64\n",
      " 7   density               1599 non-null   float64\n",
      " 8   pH                    1599 non-null   float64\n",
      " 9   sulphates             1599 non-null   float64\n",
      " 10  alcohol               1599 non-null   float64\n",
      " 11  quality               1599 non-null   int64  \n",
      "dtypes: float64(11), int64(1)\n",
      "memory usage: 150.0 KB\n"
     ]
    }
   ],
   "source": [
    "df.info()"
   ]
  },
  {
   "cell_type": "code",
   "execution_count": 6,
   "id": "5d9dad05",
   "metadata": {},
   "outputs": [],
   "source": [
    "# No object type feature. Total 11 features and 1 target which is quality"
   ]
  },
  {
   "cell_type": "code",
   "execution_count": 7,
   "id": "55b25528",
   "metadata": {},
   "outputs": [
    {
     "data": {
      "text/html": [
       "<div>\n",
       "<style scoped>\n",
       "    .dataframe tbody tr th:only-of-type {\n",
       "        vertical-align: middle;\n",
       "    }\n",
       "\n",
       "    .dataframe tbody tr th {\n",
       "        vertical-align: top;\n",
       "    }\n",
       "\n",
       "    .dataframe thead th {\n",
       "        text-align: right;\n",
       "    }\n",
       "</style>\n",
       "<table border=\"1\" class=\"dataframe\">\n",
       "  <thead>\n",
       "    <tr style=\"text-align: right;\">\n",
       "      <th></th>\n",
       "      <th>fixed acidity</th>\n",
       "      <th>volatile acidity</th>\n",
       "      <th>citric acid</th>\n",
       "      <th>residual sugar</th>\n",
       "      <th>chlorides</th>\n",
       "      <th>free sulfur dioxide</th>\n",
       "      <th>total sulfur dioxide</th>\n",
       "      <th>density</th>\n",
       "      <th>pH</th>\n",
       "      <th>sulphates</th>\n",
       "      <th>alcohol</th>\n",
       "      <th>quality</th>\n",
       "    </tr>\n",
       "  </thead>\n",
       "  <tbody>\n",
       "    <tr>\n",
       "      <th>count</th>\n",
       "      <td>1599.000000</td>\n",
       "      <td>1599.000000</td>\n",
       "      <td>1599.000000</td>\n",
       "      <td>1599.000000</td>\n",
       "      <td>1599.000000</td>\n",
       "      <td>1599.000000</td>\n",
       "      <td>1599.000000</td>\n",
       "      <td>1599.000000</td>\n",
       "      <td>1599.000000</td>\n",
       "      <td>1599.000000</td>\n",
       "      <td>1599.000000</td>\n",
       "      <td>1599.000000</td>\n",
       "    </tr>\n",
       "    <tr>\n",
       "      <th>mean</th>\n",
       "      <td>8.319637</td>\n",
       "      <td>0.527821</td>\n",
       "      <td>0.270976</td>\n",
       "      <td>2.538806</td>\n",
       "      <td>0.087467</td>\n",
       "      <td>15.874922</td>\n",
       "      <td>46.467792</td>\n",
       "      <td>0.996747</td>\n",
       "      <td>3.311113</td>\n",
       "      <td>0.658149</td>\n",
       "      <td>10.422983</td>\n",
       "      <td>5.636023</td>\n",
       "    </tr>\n",
       "    <tr>\n",
       "      <th>std</th>\n",
       "      <td>1.741096</td>\n",
       "      <td>0.179060</td>\n",
       "      <td>0.194801</td>\n",
       "      <td>1.409928</td>\n",
       "      <td>0.047065</td>\n",
       "      <td>10.460157</td>\n",
       "      <td>32.895324</td>\n",
       "      <td>0.001887</td>\n",
       "      <td>0.154386</td>\n",
       "      <td>0.169507</td>\n",
       "      <td>1.065668</td>\n",
       "      <td>0.807569</td>\n",
       "    </tr>\n",
       "    <tr>\n",
       "      <th>min</th>\n",
       "      <td>4.600000</td>\n",
       "      <td>0.120000</td>\n",
       "      <td>0.000000</td>\n",
       "      <td>0.900000</td>\n",
       "      <td>0.012000</td>\n",
       "      <td>1.000000</td>\n",
       "      <td>6.000000</td>\n",
       "      <td>0.990070</td>\n",
       "      <td>2.740000</td>\n",
       "      <td>0.330000</td>\n",
       "      <td>8.400000</td>\n",
       "      <td>3.000000</td>\n",
       "    </tr>\n",
       "    <tr>\n",
       "      <th>25%</th>\n",
       "      <td>7.100000</td>\n",
       "      <td>0.390000</td>\n",
       "      <td>0.090000</td>\n",
       "      <td>1.900000</td>\n",
       "      <td>0.070000</td>\n",
       "      <td>7.000000</td>\n",
       "      <td>22.000000</td>\n",
       "      <td>0.995600</td>\n",
       "      <td>3.210000</td>\n",
       "      <td>0.550000</td>\n",
       "      <td>9.500000</td>\n",
       "      <td>5.000000</td>\n",
       "    </tr>\n",
       "    <tr>\n",
       "      <th>50%</th>\n",
       "      <td>7.900000</td>\n",
       "      <td>0.520000</td>\n",
       "      <td>0.260000</td>\n",
       "      <td>2.200000</td>\n",
       "      <td>0.079000</td>\n",
       "      <td>14.000000</td>\n",
       "      <td>38.000000</td>\n",
       "      <td>0.996750</td>\n",
       "      <td>3.310000</td>\n",
       "      <td>0.620000</td>\n",
       "      <td>10.200000</td>\n",
       "      <td>6.000000</td>\n",
       "    </tr>\n",
       "    <tr>\n",
       "      <th>75%</th>\n",
       "      <td>9.200000</td>\n",
       "      <td>0.640000</td>\n",
       "      <td>0.420000</td>\n",
       "      <td>2.600000</td>\n",
       "      <td>0.090000</td>\n",
       "      <td>21.000000</td>\n",
       "      <td>62.000000</td>\n",
       "      <td>0.997835</td>\n",
       "      <td>3.400000</td>\n",
       "      <td>0.730000</td>\n",
       "      <td>11.100000</td>\n",
       "      <td>6.000000</td>\n",
       "    </tr>\n",
       "    <tr>\n",
       "      <th>max</th>\n",
       "      <td>15.900000</td>\n",
       "      <td>1.580000</td>\n",
       "      <td>1.000000</td>\n",
       "      <td>15.500000</td>\n",
       "      <td>0.611000</td>\n",
       "      <td>72.000000</td>\n",
       "      <td>289.000000</td>\n",
       "      <td>1.003690</td>\n",
       "      <td>4.010000</td>\n",
       "      <td>2.000000</td>\n",
       "      <td>14.900000</td>\n",
       "      <td>8.000000</td>\n",
       "    </tr>\n",
       "  </tbody>\n",
       "</table>\n",
       "</div>"
      ],
      "text/plain": [
       "       fixed acidity  volatile acidity  citric acid  residual sugar  \\\n",
       "count    1599.000000       1599.000000  1599.000000     1599.000000   \n",
       "mean        8.319637          0.527821     0.270976        2.538806   \n",
       "std         1.741096          0.179060     0.194801        1.409928   \n",
       "min         4.600000          0.120000     0.000000        0.900000   \n",
       "25%         7.100000          0.390000     0.090000        1.900000   \n",
       "50%         7.900000          0.520000     0.260000        2.200000   \n",
       "75%         9.200000          0.640000     0.420000        2.600000   \n",
       "max        15.900000          1.580000     1.000000       15.500000   \n",
       "\n",
       "         chlorides  free sulfur dioxide  total sulfur dioxide      density  \\\n",
       "count  1599.000000          1599.000000           1599.000000  1599.000000   \n",
       "mean      0.087467            15.874922             46.467792     0.996747   \n",
       "std       0.047065            10.460157             32.895324     0.001887   \n",
       "min       0.012000             1.000000              6.000000     0.990070   \n",
       "25%       0.070000             7.000000             22.000000     0.995600   \n",
       "50%       0.079000            14.000000             38.000000     0.996750   \n",
       "75%       0.090000            21.000000             62.000000     0.997835   \n",
       "max       0.611000            72.000000            289.000000     1.003690   \n",
       "\n",
       "                pH    sulphates      alcohol      quality  \n",
       "count  1599.000000  1599.000000  1599.000000  1599.000000  \n",
       "mean      3.311113     0.658149    10.422983     5.636023  \n",
       "std       0.154386     0.169507     1.065668     0.807569  \n",
       "min       2.740000     0.330000     8.400000     3.000000  \n",
       "25%       3.210000     0.550000     9.500000     5.000000  \n",
       "50%       3.310000     0.620000    10.200000     6.000000  \n",
       "75%       3.400000     0.730000    11.100000     6.000000  \n",
       "max       4.010000     2.000000    14.900000     8.000000  "
      ]
     },
     "execution_count": 7,
     "metadata": {},
     "output_type": "execute_result"
    }
   ],
   "source": [
    "df.describe()"
   ]
  },
  {
   "cell_type": "code",
   "execution_count": 8,
   "id": "61bfc4e2",
   "metadata": {},
   "outputs": [
    {
     "data": {
      "text/html": [
       "<div>\n",
       "<style scoped>\n",
       "    .dataframe tbody tr th:only-of-type {\n",
       "        vertical-align: middle;\n",
       "    }\n",
       "\n",
       "    .dataframe tbody tr th {\n",
       "        vertical-align: top;\n",
       "    }\n",
       "\n",
       "    .dataframe thead th {\n",
       "        text-align: right;\n",
       "    }\n",
       "</style>\n",
       "<table border=\"1\" class=\"dataframe\">\n",
       "  <thead>\n",
       "    <tr style=\"text-align: right;\">\n",
       "      <th></th>\n",
       "      <th>fixed acidity</th>\n",
       "      <th>volatile acidity</th>\n",
       "      <th>citric acid</th>\n",
       "      <th>residual sugar</th>\n",
       "      <th>chlorides</th>\n",
       "      <th>free sulfur dioxide</th>\n",
       "      <th>total sulfur dioxide</th>\n",
       "      <th>density</th>\n",
       "      <th>pH</th>\n",
       "      <th>sulphates</th>\n",
       "      <th>alcohol</th>\n",
       "      <th>quality</th>\n",
       "    </tr>\n",
       "  </thead>\n",
       "  <tbody>\n",
       "    <tr>\n",
       "      <th>0</th>\n",
       "      <td>7.4</td>\n",
       "      <td>0.70</td>\n",
       "      <td>0.00</td>\n",
       "      <td>1.9</td>\n",
       "      <td>0.076</td>\n",
       "      <td>11.0</td>\n",
       "      <td>34.0</td>\n",
       "      <td>0.9978</td>\n",
       "      <td>3.51</td>\n",
       "      <td>0.56</td>\n",
       "      <td>9.4</td>\n",
       "      <td>5</td>\n",
       "    </tr>\n",
       "    <tr>\n",
       "      <th>1</th>\n",
       "      <td>7.8</td>\n",
       "      <td>0.88</td>\n",
       "      <td>0.00</td>\n",
       "      <td>2.6</td>\n",
       "      <td>0.098</td>\n",
       "      <td>25.0</td>\n",
       "      <td>67.0</td>\n",
       "      <td>0.9968</td>\n",
       "      <td>3.20</td>\n",
       "      <td>0.68</td>\n",
       "      <td>9.8</td>\n",
       "      <td>5</td>\n",
       "    </tr>\n",
       "    <tr>\n",
       "      <th>2</th>\n",
       "      <td>7.8</td>\n",
       "      <td>0.76</td>\n",
       "      <td>0.04</td>\n",
       "      <td>2.3</td>\n",
       "      <td>0.092</td>\n",
       "      <td>15.0</td>\n",
       "      <td>54.0</td>\n",
       "      <td>0.9970</td>\n",
       "      <td>3.26</td>\n",
       "      <td>0.65</td>\n",
       "      <td>9.8</td>\n",
       "      <td>5</td>\n",
       "    </tr>\n",
       "    <tr>\n",
       "      <th>3</th>\n",
       "      <td>11.2</td>\n",
       "      <td>0.28</td>\n",
       "      <td>0.56</td>\n",
       "      <td>1.9</td>\n",
       "      <td>0.075</td>\n",
       "      <td>17.0</td>\n",
       "      <td>60.0</td>\n",
       "      <td>0.9980</td>\n",
       "      <td>3.16</td>\n",
       "      <td>0.58</td>\n",
       "      <td>9.8</td>\n",
       "      <td>6</td>\n",
       "    </tr>\n",
       "    <tr>\n",
       "      <th>4</th>\n",
       "      <td>7.4</td>\n",
       "      <td>0.70</td>\n",
       "      <td>0.00</td>\n",
       "      <td>1.9</td>\n",
       "      <td>0.076</td>\n",
       "      <td>11.0</td>\n",
       "      <td>34.0</td>\n",
       "      <td>0.9978</td>\n",
       "      <td>3.51</td>\n",
       "      <td>0.56</td>\n",
       "      <td>9.4</td>\n",
       "      <td>5</td>\n",
       "    </tr>\n",
       "  </tbody>\n",
       "</table>\n",
       "</div>"
      ],
      "text/plain": [
       "   fixed acidity  volatile acidity  citric acid  residual sugar  chlorides  \\\n",
       "0            7.4              0.70         0.00             1.9      0.076   \n",
       "1            7.8              0.88         0.00             2.6      0.098   \n",
       "2            7.8              0.76         0.04             2.3      0.092   \n",
       "3           11.2              0.28         0.56             1.9      0.075   \n",
       "4            7.4              0.70         0.00             1.9      0.076   \n",
       "\n",
       "   free sulfur dioxide  total sulfur dioxide  density    pH  sulphates  \\\n",
       "0                 11.0                  34.0   0.9978  3.51       0.56   \n",
       "1                 25.0                  67.0   0.9968  3.20       0.68   \n",
       "2                 15.0                  54.0   0.9970  3.26       0.65   \n",
       "3                 17.0                  60.0   0.9980  3.16       0.58   \n",
       "4                 11.0                  34.0   0.9978  3.51       0.56   \n",
       "\n",
       "   alcohol  quality  \n",
       "0      9.4        5  \n",
       "1      9.8        5  \n",
       "2      9.8        5  \n",
       "3      9.8        6  \n",
       "4      9.4        5  "
      ]
     },
     "execution_count": 8,
     "metadata": {},
     "output_type": "execute_result"
    }
   ],
   "source": [
    "df.head()"
   ]
  },
  {
   "cell_type": "code",
   "execution_count": 9,
   "id": "33e90ce9",
   "metadata": {},
   "outputs": [
    {
     "data": {
      "text/plain": [
       "3     10\n",
       "8     18\n",
       "4     53\n",
       "7    199\n",
       "6    638\n",
       "5    681\n",
       "Name: quality, dtype: int64"
      ]
     },
     "execution_count": 9,
     "metadata": {},
     "output_type": "execute_result"
    }
   ],
   "source": [
    "df.quality.value_counts().sort_values()"
   ]
  },
  {
   "cell_type": "code",
   "execution_count": 9,
   "id": "381147b2",
   "metadata": {},
   "outputs": [
    {
     "data": {
      "text/plain": [
       "<Axes: >"
      ]
     },
     "execution_count": 9,
     "metadata": {},
     "output_type": "execute_result"
    },
    {
     "data": {
      "image/png": "[encoded data removed]",
      "text/plain": [
       "<Figure size 640x480 with 1 Axes>"
      ]
     },
     "metadata": {},
     "output_type": "display_data"
    }
   ],
   "source": [
    "df.quality.value_counts().sort_values().plot(kind=\"bar\")"
   ]
  },
  {
   "cell_type": "code",
   "execution_count": 10,
   "id": "1ce3f279",
   "metadata": {},
   "outputs": [
    {
     "data": {
      "text/plain": [
       "fixed acidity           0\n",
       "volatile acidity        0\n",
       "citric acid             0\n",
       "residual sugar          0\n",
       "chlorides               0\n",
       "free sulfur dioxide     0\n",
       "total sulfur dioxide    0\n",
       "density                 0\n",
       "pH                      0\n",
       "sulphates               0\n",
       "alcohol                 0\n",
       "quality                 0\n",
       "dtype: int64"
      ]
     },
     "execution_count": 10,
     "metadata": {},
     "output_type": "execute_result"
    }
   ],
   "source": [
    "df.isnull().sum()"
   ]
  },
  {
   "cell_type": "markdown",
   "id": "d4fb7dfa",
   "metadata": {},
   "source": [
    "#No missing values are present in the dataset"
   ]
  },
  {
   "cell_type": "markdown",
   "id": "41969107",
   "metadata": {},
   "source": [
    "# Data Analysis"
   ]
  },
  {
   "cell_type": "code",
   "execution_count": 11,
   "id": "225a1370",
   "metadata": {},
   "outputs": [
    {
     "data": {
      "text/html": [
       "<div>\n",
       "<style scoped>\n",
       "    .dataframe tbody tr th:only-of-type {\n",
       "        vertical-align: middle;\n",
       "    }\n",
       "\n",
       "    .dataframe tbody tr th {\n",
       "        vertical-align: top;\n",
       "    }\n",
       "\n",
       "    .dataframe thead th {\n",
       "        text-align: right;\n",
       "    }\n",
       "</style>\n",
       "<table border=\"1\" class=\"dataframe\">\n",
       "  <thead>\n",
       "    <tr style=\"text-align: right;\">\n",
       "      <th></th>\n",
       "      <th>fixed acidity</th>\n",
       "      <th>volatile acidity</th>\n",
       "      <th>citric acid</th>\n",
       "      <th>residual sugar</th>\n",
       "      <th>chlorides</th>\n",
       "      <th>free sulfur dioxide</th>\n",
       "      <th>total sulfur dioxide</th>\n",
       "      <th>density</th>\n",
       "      <th>pH</th>\n",
       "      <th>sulphates</th>\n",
       "      <th>alcohol</th>\n",
       "      <th>quality</th>\n",
       "    </tr>\n",
       "  </thead>\n",
       "  <tbody>\n",
       "    <tr>\n",
       "      <th>fixed acidity</th>\n",
       "      <td>1.000000</td>\n",
       "      <td>-0.256131</td>\n",
       "      <td>0.671703</td>\n",
       "      <td>0.114777</td>\n",
       "      <td>0.093705</td>\n",
       "      <td>-0.153794</td>\n",
       "      <td>-0.113181</td>\n",
       "      <td>0.668047</td>\n",
       "      <td>-0.682978</td>\n",
       "      <td>0.183006</td>\n",
       "      <td>-0.061668</td>\n",
       "      <td>0.124052</td>\n",
       "    </tr>\n",
       "    <tr>\n",
       "      <th>volatile acidity</th>\n",
       "      <td>-0.256131</td>\n",
       "      <td>1.000000</td>\n",
       "      <td>-0.552496</td>\n",
       "      <td>0.001918</td>\n",
       "      <td>0.061298</td>\n",
       "      <td>-0.010504</td>\n",
       "      <td>0.076470</td>\n",
       "      <td>0.022026</td>\n",
       "      <td>0.234937</td>\n",
       "      <td>-0.260987</td>\n",
       "      <td>-0.202288</td>\n",
       "      <td>-0.390558</td>\n",
       "    </tr>\n",
       "    <tr>\n",
       "      <th>citric acid</th>\n",
       "      <td>0.671703</td>\n",
       "      <td>-0.552496</td>\n",
       "      <td>1.000000</td>\n",
       "      <td>0.143577</td>\n",
       "      <td>0.203823</td>\n",
       "      <td>-0.060978</td>\n",
       "      <td>0.035533</td>\n",
       "      <td>0.364947</td>\n",
       "      <td>-0.541904</td>\n",
       "      <td>0.312770</td>\n",
       "      <td>0.109903</td>\n",
       "      <td>0.226373</td>\n",
       "    </tr>\n",
       "    <tr>\n",
       "      <th>residual sugar</th>\n",
       "      <td>0.114777</td>\n",
       "      <td>0.001918</td>\n",
       "      <td>0.143577</td>\n",
       "      <td>1.000000</td>\n",
       "      <td>0.055610</td>\n",
       "      <td>0.187049</td>\n",
       "      <td>0.203028</td>\n",
       "      <td>0.355283</td>\n",
       "      <td>-0.085652</td>\n",
       "      <td>0.005527</td>\n",
       "      <td>0.042075</td>\n",
       "      <td>0.013732</td>\n",
       "    </tr>\n",
       "    <tr>\n",
       "      <th>chlorides</th>\n",
       "      <td>0.093705</td>\n",
       "      <td>0.061298</td>\n",
       "      <td>0.203823</td>\n",
       "      <td>0.055610</td>\n",
       "      <td>1.000000</td>\n",
       "      <td>0.005562</td>\n",
       "      <td>0.047400</td>\n",
       "      <td>0.200632</td>\n",
       "      <td>-0.265026</td>\n",
       "      <td>0.371260</td>\n",
       "      <td>-0.221141</td>\n",
       "      <td>-0.128907</td>\n",
       "    </tr>\n",
       "    <tr>\n",
       "      <th>free sulfur dioxide</th>\n",
       "      <td>-0.153794</td>\n",
       "      <td>-0.010504</td>\n",
       "      <td>-0.060978</td>\n",
       "      <td>0.187049</td>\n",
       "      <td>0.005562</td>\n",
       "      <td>1.000000</td>\n",
       "      <td>0.667666</td>\n",
       "      <td>-0.021946</td>\n",
       "      <td>0.070377</td>\n",
       "      <td>0.051658</td>\n",
       "      <td>-0.069408</td>\n",
       "      <td>-0.050656</td>\n",
       "    </tr>\n",
       "    <tr>\n",
       "      <th>total sulfur dioxide</th>\n",
       "      <td>-0.113181</td>\n",
       "      <td>0.076470</td>\n",
       "      <td>0.035533</td>\n",
       "      <td>0.203028</td>\n",
       "      <td>0.047400</td>\n",
       "      <td>0.667666</td>\n",
       "      <td>1.000000</td>\n",
       "      <td>0.071269</td>\n",
       "      <td>-0.066495</td>\n",
       "      <td>0.042947</td>\n",
       "      <td>-0.205654</td>\n",
       "      <td>-0.185100</td>\n",
       "    </tr>\n",
       "    <tr>\n",
       "      <th>density</th>\n",
       "      <td>0.668047</td>\n",
       "      <td>0.022026</td>\n",
       "      <td>0.364947</td>\n",
       "      <td>0.355283</td>\n",
       "      <td>0.200632</td>\n",
       "      <td>-0.021946</td>\n",
       "      <td>0.071269</td>\n",
       "      <td>1.000000</td>\n",
       "      <td>-0.341699</td>\n",
       "      <td>0.148506</td>\n",
       "      <td>-0.496180</td>\n",
       "      <td>-0.174919</td>\n",
       "    </tr>\n",
       "    <tr>\n",
       "      <th>pH</th>\n",
       "      <td>-0.682978</td>\n",
       "      <td>0.234937</td>\n",
       "      <td>-0.541904</td>\n",
       "      <td>-0.085652</td>\n",
       "      <td>-0.265026</td>\n",
       "      <td>0.070377</td>\n",
       "      <td>-0.066495</td>\n",
       "      <td>-0.341699</td>\n",
       "      <td>1.000000</td>\n",
       "      <td>-0.196648</td>\n",
       "      <td>0.205633</td>\n",
       "      <td>-0.057731</td>\n",
       "    </tr>\n",
       "    <tr>\n",
       "      <th>sulphates</th>\n",
       "      <td>0.183006</td>\n",
       "      <td>-0.260987</td>\n",
       "      <td>0.312770</td>\n",
       "      <td>0.005527</td>\n",
       "      <td>0.371260</td>\n",
       "      <td>0.051658</td>\n",
       "      <td>0.042947</td>\n",
       "      <td>0.148506</td>\n",
       "      <td>-0.196648</td>\n",
       "      <td>1.000000</td>\n",
       "      <td>0.093595</td>\n",
       "      <td>0.251397</td>\n",
       "    </tr>\n",
       "    <tr>\n",
       "      <th>alcohol</th>\n",
       "      <td>-0.061668</td>\n",
       "      <td>-0.202288</td>\n",
       "      <td>0.109903</td>\n",
       "      <td>0.042075</td>\n",
       "      <td>-0.221141</td>\n",
       "      <td>-0.069408</td>\n",
       "      <td>-0.205654</td>\n",
       "      <td>-0.496180</td>\n",
       "      <td>0.205633</td>\n",
       "      <td>0.093595</td>\n",
       "      <td>1.000000</td>\n",
       "      <td>0.476166</td>\n",
       "    </tr>\n",
       "    <tr>\n",
       "      <th>quality</th>\n",
       "      <td>0.124052</td>\n",
       "      <td>-0.390558</td>\n",
       "      <td>0.226373</td>\n",
       "      <td>0.013732</td>\n",
       "      <td>-0.128907</td>\n",
       "      <td>-0.050656</td>\n",
       "      <td>-0.185100</td>\n",
       "      <td>-0.174919</td>\n",
       "      <td>-0.057731</td>\n",
       "      <td>0.251397</td>\n",
       "      <td>0.476166</td>\n",
       "      <td>1.000000</td>\n",
       "    </tr>\n",
       "  </tbody>\n",
       "</table>\n",
       "</div>"
      ],
      "text/plain": [
       "                      fixed acidity  volatile acidity  citric acid  \\\n",
       "fixed acidity              1.000000         -0.256131     0.671703   \n",
       "volatile acidity          -0.256131          1.000000    -0.552496   \n",
       "citric acid                0.671703         -0.552496     1.000000   \n",
       "residual sugar             0.114777          0.001918     0.143577   \n",
       "chlorides                  0.093705          0.061298     0.203823   \n",
       "free sulfur dioxide       -0.153794         -0.010504    -0.060978   \n",
       "total sulfur dioxide      -0.113181          0.076470     0.035533   \n",
       "density                    0.668047          0.022026     0.364947   \n",
       "pH                        -0.682978          0.234937    -0.541904   \n",
       "sulphates                  0.183006         -0.260987     0.312770   \n",
       "alcohol                   -0.061668         -0.202288     0.109903   \n",
       "quality                    0.124052         -0.390558     0.226373   \n",
       "\n",
       "                      residual sugar  chlorides  free sulfur dioxide  \\\n",
       "fixed acidity               0.114777   0.093705            -0.153794   \n",
       "volatile acidity            0.001918   0.061298            -0.010504   \n",
       "citric acid                 0.143577   0.203823            -0.060978   \n",
       "residual sugar              1.000000   0.055610             0.187049   \n",
       "chlorides                   0.055610   1.000000             0.005562   \n",
       "free sulfur dioxide         0.187049   0.005562             1.000000   \n",
       "total sulfur dioxide        0.203028   0.047400             0.667666   \n",
       "density                     0.355283   0.200632            -0.021946   \n",
       "pH                         -0.085652  -0.265026             0.070377   \n",
       "sulphates                   0.005527   0.371260             0.051658   \n",
       "alcohol                     0.042075  -0.221141            -0.069408   \n",
       "quality                     0.013732  -0.128907            -0.050656   \n",
       "\n",
       "                      total sulfur dioxide   density        pH  sulphates  \\\n",
       "fixed acidity                    -0.113181  0.668047 -0.682978   0.183006   \n",
       "volatile acidity                  0.076470  0.022026  0.234937  -0.260987   \n",
       "citric acid                       0.035533  0.364947 -0.541904   0.312770   \n",
       "residual sugar                    0.203028  0.355283 -0.085652   0.005527   \n",
       "chlorides                         0.047400  0.200632 -0.265026   0.371260   \n",
       "free sulfur dioxide               0.667666 -0.021946  0.070377   0.051658   \n",
       "total sulfur dioxide              1.000000  0.071269 -0.066495   0.042947   \n",
       "density                           0.071269  1.000000 -0.341699   0.148506   \n",
       "pH                               -0.066495 -0.341699  1.000000  -0.196648   \n",
       "sulphates                         0.042947  0.148506 -0.196648   1.000000   \n",
       "alcohol                          -0.205654 -0.496180  0.205633   0.093595   \n",
       "quality                          -0.185100 -0.174919 -0.057731   0.251397   \n",
       "\n",
       "                       alcohol   quality  \n",
       "fixed acidity        -0.061668  0.124052  \n",
       "volatile acidity     -0.202288 -0.390558  \n",
       "citric acid           0.109903  0.226373  \n",
       "residual sugar        0.042075  0.013732  \n",
       "chlorides            -0.221141 -0.128907  \n",
       "free sulfur dioxide  -0.069408 -0.050656  \n",
       "total sulfur dioxide -0.205654 -0.185100  \n",
       "density              -0.496180 -0.174919  \n",
       "pH                    0.205633 -0.057731  \n",
       "sulphates             0.093595  0.251397  \n",
       "alcohol               1.000000  0.476166  \n",
       "quality               0.476166  1.000000  "
      ]
     },
     "execution_count": 11,
     "metadata": {},
     "output_type": "execute_result"
    }
   ],
   "source": [
    "df.corr()"
   ]
  },
  {
   "cell_type": "code",
   "execution_count": 19,
   "id": "59fa085c",
   "metadata": {},
   "outputs": [
    {
     "data": {
      "text/plain": [
       "fixed acidity           0.124052\n",
       "volatile acidity       -0.390558\n",
       "citric acid             0.226373\n",
       "residual sugar          0.013732\n",
       "chlorides              -0.128907\n",
       "free sulfur dioxide    -0.050656\n",
       "total sulfur dioxide   -0.185100\n",
       "density                -0.174919\n",
       "pH                     -0.057731\n",
       "sulphates               0.251397\n",
       "alcohol                 0.476166\n",
       "quality                 1.000000\n",
       "Name: quality, dtype: float64"
      ]
     },
     "execution_count": 19,
     "metadata": {},
     "output_type": "execute_result"
    }
   ],
   "source": [
    "df.corr()[\"quality\"]"
   ]
  },
  {
   "cell_type": "code",
   "execution_count": 20,
   "id": "5ad802b9",
   "metadata": {},
   "outputs": [
    {
     "data": {
      "text/plain": [
       "Text(0.5, 1.0, 'correlation of features with wine quality')"
      ]
     },
     "execution_count": 20,
     "metadata": {},
     "output_type": "execute_result"
    },
    {
     "data": {
      "image/png": "[encoded data removed]",
      "text/plain": [
       "<Figure size 640x480 with 1 Axes>"
      ]
     },
     "metadata": {},
     "output_type": "display_data"
    }
   ],
   "source": [
    "sns.set_style(\"darkgrid\")\n",
    "df.corr()[\"quality\"][:-1].sort_values().plot(kind=\"bar\")\n",
    "plt.ylabel(\"correlation\")\n",
    "plt.title(\"correlation of features with wine quality\")"
   ]
  },
  {
   "cell_type": "code",
   "execution_count": 23,
   "id": "43bb2dfa",
   "metadata": {},
   "outputs": [
    {
     "data": {
      "text/plain": [
       "<Axes: >"
      ]
     },
     "execution_count": 23,
     "metadata": {},
     "output_type": "execute_result"
    },
    {
     "data": {
      "image/png": "[encoded data removed]",
      "text/plain": [
       "<Figure size 1000x1000 with 2 Axes>"
      ]
     },
     "metadata": {},
     "output_type": "display_data"
    }
   ],
   "source": [
    "plt.figure(figsize=(10,10))\n",
    "sns.heatmap(df.corr(), annot=True,cmap=\"viridis\" )"
   ]
  },
  {
   "cell_type": "markdown",
   "id": "504047a1",
   "metadata": {},
   "source": [
    "From the correlation graph it is evident that Alcohol is positively correlated with wine quality and volatile acidity is highly negatively correlated with wine quality."
   ]
  },
  {
   "cell_type": "code",
   "execution_count": 24,
   "id": "1f38a416",
   "metadata": {},
   "outputs": [
    {
     "data": {
      "text/html": [
       "<div>\n",
       "<style scoped>\n",
       "    .dataframe tbody tr th:only-of-type {\n",
       "        vertical-align: middle;\n",
       "    }\n",
       "\n",
       "    .dataframe tbody tr th {\n",
       "        vertical-align: top;\n",
       "    }\n",
       "\n",
       "    .dataframe thead th {\n",
       "        text-align: right;\n",
       "    }\n",
       "</style>\n",
       "<table border=\"1\" class=\"dataframe\">\n",
       "  <thead>\n",
       "    <tr style=\"text-align: right;\">\n",
       "      <th></th>\n",
       "      <th>fixed acidity</th>\n",
       "      <th>volatile acidity</th>\n",
       "      <th>citric acid</th>\n",
       "      <th>residual sugar</th>\n",
       "      <th>chlorides</th>\n",
       "      <th>free sulfur dioxide</th>\n",
       "      <th>total sulfur dioxide</th>\n",
       "      <th>density</th>\n",
       "      <th>pH</th>\n",
       "      <th>sulphates</th>\n",
       "      <th>alcohol</th>\n",
       "    </tr>\n",
       "    <tr>\n",
       "      <th>quality</th>\n",
       "      <th></th>\n",
       "      <th></th>\n",
       "      <th></th>\n",
       "      <th></th>\n",
       "      <th></th>\n",
       "      <th></th>\n",
       "      <th></th>\n",
       "      <th></th>\n",
       "      <th></th>\n",
       "      <th></th>\n",
       "      <th></th>\n",
       "    </tr>\n",
       "  </thead>\n",
       "  <tbody>\n",
       "    <tr>\n",
       "      <th>3</th>\n",
       "      <td>8.360000</td>\n",
       "      <td>0.884500</td>\n",
       "      <td>0.171000</td>\n",
       "      <td>2.635000</td>\n",
       "      <td>0.122500</td>\n",
       "      <td>11.000000</td>\n",
       "      <td>24.900000</td>\n",
       "      <td>0.997464</td>\n",
       "      <td>3.398000</td>\n",
       "      <td>0.570000</td>\n",
       "      <td>9.955000</td>\n",
       "    </tr>\n",
       "    <tr>\n",
       "      <th>4</th>\n",
       "      <td>7.779245</td>\n",
       "      <td>0.693962</td>\n",
       "      <td>0.174151</td>\n",
       "      <td>2.694340</td>\n",
       "      <td>0.090679</td>\n",
       "      <td>12.264151</td>\n",
       "      <td>36.245283</td>\n",
       "      <td>0.996542</td>\n",
       "      <td>3.381509</td>\n",
       "      <td>0.596415</td>\n",
       "      <td>10.265094</td>\n",
       "    </tr>\n",
       "    <tr>\n",
       "      <th>5</th>\n",
       "      <td>8.167254</td>\n",
       "      <td>0.577041</td>\n",
       "      <td>0.243686</td>\n",
       "      <td>2.528855</td>\n",
       "      <td>0.092736</td>\n",
       "      <td>16.983847</td>\n",
       "      <td>56.513950</td>\n",
       "      <td>0.997104</td>\n",
       "      <td>3.304949</td>\n",
       "      <td>0.620969</td>\n",
       "      <td>9.899706</td>\n",
       "    </tr>\n",
       "    <tr>\n",
       "      <th>6</th>\n",
       "      <td>8.347179</td>\n",
       "      <td>0.497484</td>\n",
       "      <td>0.273824</td>\n",
       "      <td>2.477194</td>\n",
       "      <td>0.084956</td>\n",
       "      <td>15.711599</td>\n",
       "      <td>40.869906</td>\n",
       "      <td>0.996615</td>\n",
       "      <td>3.318072</td>\n",
       "      <td>0.675329</td>\n",
       "      <td>10.629519</td>\n",
       "    </tr>\n",
       "    <tr>\n",
       "      <th>7</th>\n",
       "      <td>8.872362</td>\n",
       "      <td>0.403920</td>\n",
       "      <td>0.375176</td>\n",
       "      <td>2.720603</td>\n",
       "      <td>0.076588</td>\n",
       "      <td>14.045226</td>\n",
       "      <td>35.020101</td>\n",
       "      <td>0.996104</td>\n",
       "      <td>3.290754</td>\n",
       "      <td>0.741256</td>\n",
       "      <td>11.465913</td>\n",
       "    </tr>\n",
       "    <tr>\n",
       "      <th>8</th>\n",
       "      <td>8.566667</td>\n",
       "      <td>0.423333</td>\n",
       "      <td>0.391111</td>\n",
       "      <td>2.577778</td>\n",
       "      <td>0.068444</td>\n",
       "      <td>13.277778</td>\n",
       "      <td>33.444444</td>\n",
       "      <td>0.995212</td>\n",
       "      <td>3.267222</td>\n",
       "      <td>0.767778</td>\n",
       "      <td>12.094444</td>\n",
       "    </tr>\n",
       "  </tbody>\n",
       "</table>\n",
       "</div>"
      ],
      "text/plain": [
       "         fixed acidity  volatile acidity  citric acid  residual sugar  \\\n",
       "quality                                                                 \n",
       "3             8.360000          0.884500     0.171000        2.635000   \n",
       "4             7.779245          0.693962     0.174151        2.694340   \n",
       "5             8.167254          0.577041     0.243686        2.528855   \n",
       "6             8.347179          0.497484     0.273824        2.477194   \n",
       "7             8.872362          0.403920     0.375176        2.720603   \n",
       "8             8.566667          0.423333     0.391111        2.577778   \n",
       "\n",
       "         chlorides  free sulfur dioxide  total sulfur dioxide   density  \\\n",
       "quality                                                                   \n",
       "3         0.122500            11.000000             24.900000  0.997464   \n",
       "4         0.090679            12.264151             36.245283  0.996542   \n",
       "5         0.092736            16.983847             56.513950  0.997104   \n",
       "6         0.084956            15.711599             40.869906  0.996615   \n",
       "7         0.076588            14.045226             35.020101  0.996104   \n",
       "8         0.068444            13.277778             33.444444  0.995212   \n",
       "\n",
       "               pH  sulphates    alcohol  \n",
       "quality                                  \n",
       "3        3.398000   0.570000   9.955000  \n",
       "4        3.381509   0.596415  10.265094  \n",
       "5        3.304949   0.620969   9.899706  \n",
       "6        3.318072   0.675329  10.629519  \n",
       "7        3.290754   0.741256  11.465913  \n",
       "8        3.267222   0.767778  12.094444  "
      ]
     },
     "execution_count": 24,
     "metadata": {},
     "output_type": "execute_result"
    }
   ],
   "source": [
    "df.groupby('quality').mean()"
   ]
  },
  {
   "cell_type": "code",
   "execution_count": 25,
   "id": "0ef9f5bd",
   "metadata": {},
   "outputs": [
    {
     "data": {
      "text/html": [
       "<div>\n",
       "<style scoped>\n",
       "    .dataframe tbody tr th:only-of-type {\n",
       "        vertical-align: middle;\n",
       "    }\n",
       "\n",
       "    .dataframe tbody tr th {\n",
       "        vertical-align: top;\n",
       "    }\n",
       "\n",
       "    .dataframe thead th {\n",
       "        text-align: right;\n",
       "    }\n",
       "</style>\n",
       "<table border=\"1\" class=\"dataframe\">\n",
       "  <thead>\n",
       "    <tr style=\"text-align: right;\">\n",
       "      <th></th>\n",
       "      <th>fixed acidity</th>\n",
       "      <th>volatile acidity</th>\n",
       "      <th>citric acid</th>\n",
       "      <th>residual sugar</th>\n",
       "      <th>chlorides</th>\n",
       "      <th>free sulfur dioxide</th>\n",
       "      <th>total sulfur dioxide</th>\n",
       "      <th>density</th>\n",
       "      <th>pH</th>\n",
       "      <th>sulphates</th>\n",
       "      <th>alcohol</th>\n",
       "    </tr>\n",
       "    <tr>\n",
       "      <th>quality</th>\n",
       "      <th></th>\n",
       "      <th></th>\n",
       "      <th></th>\n",
       "      <th></th>\n",
       "      <th></th>\n",
       "      <th></th>\n",
       "      <th></th>\n",
       "      <th></th>\n",
       "      <th></th>\n",
       "      <th></th>\n",
       "      <th></th>\n",
       "    </tr>\n",
       "  </thead>\n",
       "  <tbody>\n",
       "    <tr>\n",
       "      <th>3</th>\n",
       "      <td>1.770875</td>\n",
       "      <td>0.331256</td>\n",
       "      <td>0.250664</td>\n",
       "      <td>1.401596</td>\n",
       "      <td>0.066241</td>\n",
       "      <td>9.763879</td>\n",
       "      <td>16.828877</td>\n",
       "      <td>0.002002</td>\n",
       "      <td>0.144052</td>\n",
       "      <td>0.122020</td>\n",
       "      <td>0.818009</td>\n",
       "    </tr>\n",
       "    <tr>\n",
       "      <th>4</th>\n",
       "      <td>1.626624</td>\n",
       "      <td>0.220110</td>\n",
       "      <td>0.201030</td>\n",
       "      <td>1.789436</td>\n",
       "      <td>0.076192</td>\n",
       "      <td>9.025926</td>\n",
       "      <td>27.583374</td>\n",
       "      <td>0.001575</td>\n",
       "      <td>0.181441</td>\n",
       "      <td>0.239391</td>\n",
       "      <td>0.934776</td>\n",
       "    </tr>\n",
       "    <tr>\n",
       "      <th>5</th>\n",
       "      <td>1.563988</td>\n",
       "      <td>0.164801</td>\n",
       "      <td>0.180003</td>\n",
       "      <td>1.359753</td>\n",
       "      <td>0.053707</td>\n",
       "      <td>10.955446</td>\n",
       "      <td>36.993116</td>\n",
       "      <td>0.001589</td>\n",
       "      <td>0.150618</td>\n",
       "      <td>0.171062</td>\n",
       "      <td>0.736521</td>\n",
       "    </tr>\n",
       "    <tr>\n",
       "      <th>6</th>\n",
       "      <td>1.797849</td>\n",
       "      <td>0.160962</td>\n",
       "      <td>0.195108</td>\n",
       "      <td>1.441576</td>\n",
       "      <td>0.039563</td>\n",
       "      <td>9.940911</td>\n",
       "      <td>25.038250</td>\n",
       "      <td>0.002000</td>\n",
       "      <td>0.153995</td>\n",
       "      <td>0.158650</td>\n",
       "      <td>1.049639</td>\n",
       "    </tr>\n",
       "    <tr>\n",
       "      <th>7</th>\n",
       "      <td>1.992483</td>\n",
       "      <td>0.145224</td>\n",
       "      <td>0.194432</td>\n",
       "      <td>1.371509</td>\n",
       "      <td>0.029456</td>\n",
       "      <td>10.175255</td>\n",
       "      <td>33.191206</td>\n",
       "      <td>0.002176</td>\n",
       "      <td>0.150101</td>\n",
       "      <td>0.135639</td>\n",
       "      <td>0.961933</td>\n",
       "    </tr>\n",
       "    <tr>\n",
       "      <th>8</th>\n",
       "      <td>2.119656</td>\n",
       "      <td>0.144914</td>\n",
       "      <td>0.199526</td>\n",
       "      <td>1.295038</td>\n",
       "      <td>0.011678</td>\n",
       "      <td>11.155613</td>\n",
       "      <td>25.433240</td>\n",
       "      <td>0.002378</td>\n",
       "      <td>0.200640</td>\n",
       "      <td>0.115379</td>\n",
       "      <td>1.224011</td>\n",
       "    </tr>\n",
       "  </tbody>\n",
       "</table>\n",
       "</div>"
      ],
      "text/plain": [
       "         fixed acidity  volatile acidity  citric acid  residual sugar  \\\n",
       "quality                                                                 \n",
       "3             1.770875          0.331256     0.250664        1.401596   \n",
       "4             1.626624          0.220110     0.201030        1.789436   \n",
       "5             1.563988          0.164801     0.180003        1.359753   \n",
       "6             1.797849          0.160962     0.195108        1.441576   \n",
       "7             1.992483          0.145224     0.194432        1.371509   \n",
       "8             2.119656          0.144914     0.199526        1.295038   \n",
       "\n",
       "         chlorides  free sulfur dioxide  total sulfur dioxide   density  \\\n",
       "quality                                                                   \n",
       "3         0.066241             9.763879             16.828877  0.002002   \n",
       "4         0.076192             9.025926             27.583374  0.001575   \n",
       "5         0.053707            10.955446             36.993116  0.001589   \n",
       "6         0.039563             9.940911             25.038250  0.002000   \n",
       "7         0.029456            10.175255             33.191206  0.002176   \n",
       "8         0.011678            11.155613             25.433240  0.002378   \n",
       "\n",
       "               pH  sulphates   alcohol  \n",
       "quality                                 \n",
       "3        0.144052   0.122020  0.818009  \n",
       "4        0.181441   0.239391  0.934776  \n",
       "5        0.150618   0.171062  0.736521  \n",
       "6        0.153995   0.158650  1.049639  \n",
       "7        0.150101   0.135639  0.961933  \n",
       "8        0.200640   0.115379  1.224011  "
      ]
     },
     "execution_count": 25,
     "metadata": {},
     "output_type": "execute_result"
    }
   ],
   "source": [
    "df.groupby('quality').std()"
   ]
  },
  {
   "cell_type": "code",
   "execution_count": 18,
   "id": "abc22b72",
   "metadata": {},
   "outputs": [],
   "source": [
    "#Looking at the features one by one"
   ]
  },
  {
   "cell_type": "code",
   "execution_count": 30,
   "id": "307ae24a",
   "metadata": {},
   "outputs": [
    {
     "data": {
      "text/plain": [
       "96"
      ]
     },
     "execution_count": 30,
     "metadata": {},
     "output_type": "execute_result"
    }
   ],
   "source": [
    "df[\"fixed acidity\"].nunique()"
   ]
  },
  {
   "cell_type": "code",
   "execution_count": 60,
   "id": "5e8398ce",
   "metadata": {},
   "outputs": [
    {
     "data": {
      "text/plain": [
       "<Axes: ylabel='Frequency'>"
      ]
     },
     "execution_count": 60,
     "metadata": {},
     "output_type": "execute_result"
    },
    {
     "data": {
      "image/png": "[encoded data removed]",
      "text/plain": [
       "<Figure size 800x500 with 1 Axes>"
      ]
     },
     "metadata": {},
     "output_type": "display_data"
    }
   ],
   "source": [
    "sns.set_style(\"darkgrid\")\n",
    "plt.figure(figsize=(8,5))\n",
    "df[\"fixed acidity\"].plot(kind=\"hist\", bins=96)"
   ]
  },
  {
   "cell_type": "code",
   "execution_count": 28,
   "id": "b6969569",
   "metadata": {},
   "outputs": [
    {
     "data": {
      "text/plain": [
       "9.500000     139\n",
       "9.400000     103\n",
       "9.800000      78\n",
       "9.200000      72\n",
       "10.000000     67\n",
       "            ... \n",
       "9.950000       1\n",
       "9.233333       1\n",
       "9.250000       1\n",
       "9.050000       1\n",
       "10.750000      1\n",
       "Name: alcohol, Length: 65, dtype: int64"
      ]
     },
     "execution_count": 28,
     "metadata": {},
     "output_type": "execute_result"
    }
   ],
   "source": [
    "df.alcohol.value_counts()"
   ]
  },
  {
   "cell_type": "code",
   "execution_count": 62,
   "id": "00101b4f",
   "metadata": {},
   "outputs": [
    {
     "data": {
      "image/png": "[encoded data removed]",
      "text/plain": [
       "<Figure size 500x500 with 1 Axes>"
      ]
     },
     "metadata": {},
     "output_type": "display_data"
    }
   ],
   "source": [
    "sns.set_style(\"darkgrid\")\n",
    "sns.displot(x=\"alcohol\",data=df, bins=65)\n",
    "plt.xlabel(\"alcohol\")\n",
    "plt.show()"
   ]
  },
  {
   "cell_type": "code",
   "execution_count": 70,
   "id": "8bffe09e",
   "metadata": {},
   "outputs": [
    {
     "data": {
      "text/plain": [
       "<Axes: xlabel='quality', ylabel='alcohol'>"
      ]
     },
     "execution_count": 70,
     "metadata": {},
     "output_type": "execute_result"
    },
    {
     "data": {
      "image/png": "[encoded data removed]",
      "text/plain": [
       "<Figure size 640x480 with 1 Axes>"
      ]
     },
     "metadata": {},
     "output_type": "display_data"
    }
   ],
   "source": [
    "sns.violinplot(y=df.alcohol,x=df.quality)"
   ]
  },
  {
   "cell_type": "code",
   "execution_count": 53,
   "id": "c813a516",
   "metadata": {},
   "outputs": [
    {
     "data": {
      "text/plain": [
       "0.600    47\n",
       "0.500    46\n",
       "0.430    43\n",
       "0.590    39\n",
       "0.360    38\n",
       "         ..\n",
       "1.035     1\n",
       "0.565     1\n",
       "1.130     1\n",
       "1.115     1\n",
       "1.090     1\n",
       "Name: volatile acidity, Length: 143, dtype: int64"
      ]
     },
     "execution_count": 53,
     "metadata": {},
     "output_type": "execute_result"
    }
   ],
   "source": [
    "df[\"volatile acidity\"].value_counts()"
   ]
  },
  {
   "cell_type": "code",
   "execution_count": 58,
   "id": "ad4d0f71",
   "metadata": {},
   "outputs": [
    {
     "data": {
      "image/png": "[encoded data removed]",
      "text/plain": [
       "<Figure size 1000x600 with 1 Axes>"
      ]
     },
     "metadata": {},
     "output_type": "display_data"
    }
   ],
   "source": [
    "plt.figure(figsize=(10,6))\n",
    "df[\"volatile acidity\"].plot(kind=\"hist\", bins=143)\n",
    "plt.xlabel(\"volatile acidity\")\n",
    "plt.show()"
   ]
  },
  {
   "cell_type": "code",
   "execution_count": 75,
   "id": "f150262e",
   "metadata": {},
   "outputs": [
    {
     "data": {
      "image/png": "[encoded data removed]",
      "text/plain": [
       "<Figure size 600x500 with 1 Axes>"
      ]
     },
     "metadata": {},
     "output_type": "display_data"
    }
   ],
   "source": [
    "plt.figure(figsize=(6,5))\n",
    "sns.violinplot(x=\"quality\",y=\"volatile acidity\", data=df)\n",
    "plt.xlabel(\"quality\")\n",
    "plt.show()"
   ]
  },
  {
   "cell_type": "code",
   "execution_count": null,
   "id": "461b01d4",
   "metadata": {},
   "outputs": [],
   "source": [
    "#As the grade of alcohol increases the volatile acidity of alcohol decreases as evident from the correlation graph."
   ]
  },
  {
   "cell_type": "code",
   "execution_count": 65,
   "id": "112e47e6",
   "metadata": {},
   "outputs": [
    {
     "data": {
      "text/plain": [
       "0.99720    36\n",
       "0.99680    35\n",
       "0.99760    35\n",
       "0.99800    29\n",
       "0.99620    28\n",
       "           ..\n",
       "0.99684     1\n",
       "0.99764     1\n",
       "0.99473     1\n",
       "0.99320     1\n",
       "0.99651     1\n",
       "Name: density, Length: 436, dtype: int64"
      ]
     },
     "execution_count": 65,
     "metadata": {},
     "output_type": "execute_result"
    }
   ],
   "source": [
    "df.density.value_counts()"
   ]
  },
  {
   "cell_type": "code",
   "execution_count": 67,
   "id": "512ea65e",
   "metadata": {},
   "outputs": [
    {
     "data": {
      "image/png": "[encoded data removed]",
      "text/plain": [
       "<Figure size 640x480 with 1 Axes>"
      ]
     },
     "metadata": {},
     "output_type": "display_data"
    }
   ],
   "source": [
    "df.density.plot(kind=\"hist\", bins=100)\n",
    "plt.xlabel(\"Density\")\n",
    "plt.show()"
   ]
  },
  {
   "cell_type": "code",
   "execution_count": 11,
   "id": "19bbf9e7",
   "metadata": {},
   "outputs": [
    {
     "data": {
      "image/png": "[encoded data removed]",
      "text/plain": [
       "<Figure size 640x480 with 1 Axes>"
      ]
     },
     "metadata": {},
     "output_type": "display_data"
    }
   ],
   "source": [
    "sns.scatterplot(x=\"quality\",y=\"density\",data=df)\n",
    "plt.xlabel(\"Quality\")\n",
    "plt.ylabel(\"Density\")\n",
    "plt.title(\"Density v/s Quality\")\n",
    "plt.show()\n"
   ]
  },
  {
   "cell_type": "code",
   "execution_count": null,
   "id": "784251e1",
   "metadata": {},
   "outputs": [],
   "source": [
    "##Density has very little effect on quality although as the grade of alcohol increases density of alcohol decreases.\n",
    "#With higher quality the alcohol becomes lighter to drink.\n",
    "#The observation would be more clear with a boxplot. "
   ]
  },
  {
   "cell_type": "code",
   "execution_count": 77,
   "id": "003dd6cf",
   "metadata": {},
   "outputs": [
    {
     "data": {
      "image/png": "[encoded data removed]",
      "text/plain": [
       "<Figure size 640x480 with 1 Axes>"
      ]
     },
     "metadata": {},
     "output_type": "display_data"
    }
   ],
   "source": [
    "sns.boxplot(y=\"density\",x=\"quality\",data=df)\n",
    "plt.ylabel(\"Density\")\n",
    "plt.xlabel(\"Quality\")\n",
    "plt.title(\"Density v/s Quality\")\n",
    "plt.show()\n"
   ]
  },
  {
   "cell_type": "markdown",
   "id": "79579b5c",
   "metadata": {},
   "source": [
    "#Considering wine with quality equal to or above 7 as good quality and below it as bad quality, we will trian our models using different algorithm and see which one gives the most accurate prediction and classification report"
   ]
  },
  {
   "cell_type": "code",
   "execution_count": 16,
   "id": "96e54fb0",
   "metadata": {},
   "outputs": [],
   "source": [
    "def quality(quality):\n",
    "    if quality >= 7:\n",
    "        return 1\n",
    "    else:\n",
    "        return 0\n"
   ]
  },
  {
   "cell_type": "code",
   "execution_count": 17,
   "id": "56a3234b",
   "metadata": {},
   "outputs": [],
   "source": [
    "df[\"goodquality\"] = df[\"quality\"].apply(lambda x: quality(x))"
   ]
  },
  {
   "cell_type": "code",
   "execution_count": 18,
   "id": "43a9e150",
   "metadata": {},
   "outputs": [
    {
     "data": {
      "text/html": [
       "<div>\n",
       "<style scoped>\n",
       "    .dataframe tbody tr th:only-of-type {\n",
       "        vertical-align: middle;\n",
       "    }\n",
       "\n",
       "    .dataframe tbody tr th {\n",
       "        vertical-align: top;\n",
       "    }\n",
       "\n",
       "    .dataframe thead th {\n",
       "        text-align: right;\n",
       "    }\n",
       "</style>\n",
       "<table border=\"1\" class=\"dataframe\">\n",
       "  <thead>\n",
       "    <tr style=\"text-align: right;\">\n",
       "      <th></th>\n",
       "      <th>fixed acidity</th>\n",
       "      <th>volatile acidity</th>\n",
       "      <th>citric acid</th>\n",
       "      <th>residual sugar</th>\n",
       "      <th>chlorides</th>\n",
       "      <th>free sulfur dioxide</th>\n",
       "      <th>total sulfur dioxide</th>\n",
       "      <th>density</th>\n",
       "      <th>pH</th>\n",
       "      <th>sulphates</th>\n",
       "      <th>alcohol</th>\n",
       "      <th>quality</th>\n",
       "      <th>goodquality</th>\n",
       "    </tr>\n",
       "  </thead>\n",
       "  <tbody>\n",
       "    <tr>\n",
       "      <th>0</th>\n",
       "      <td>7.4</td>\n",
       "      <td>0.70</td>\n",
       "      <td>0.00</td>\n",
       "      <td>1.9</td>\n",
       "      <td>0.076</td>\n",
       "      <td>11.0</td>\n",
       "      <td>34.0</td>\n",
       "      <td>0.9978</td>\n",
       "      <td>3.51</td>\n",
       "      <td>0.56</td>\n",
       "      <td>9.4</td>\n",
       "      <td>5</td>\n",
       "      <td>0</td>\n",
       "    </tr>\n",
       "    <tr>\n",
       "      <th>1</th>\n",
       "      <td>7.8</td>\n",
       "      <td>0.88</td>\n",
       "      <td>0.00</td>\n",
       "      <td>2.6</td>\n",
       "      <td>0.098</td>\n",
       "      <td>25.0</td>\n",
       "      <td>67.0</td>\n",
       "      <td>0.9968</td>\n",
       "      <td>3.20</td>\n",
       "      <td>0.68</td>\n",
       "      <td>9.8</td>\n",
       "      <td>5</td>\n",
       "      <td>0</td>\n",
       "    </tr>\n",
       "    <tr>\n",
       "      <th>2</th>\n",
       "      <td>7.8</td>\n",
       "      <td>0.76</td>\n",
       "      <td>0.04</td>\n",
       "      <td>2.3</td>\n",
       "      <td>0.092</td>\n",
       "      <td>15.0</td>\n",
       "      <td>54.0</td>\n",
       "      <td>0.9970</td>\n",
       "      <td>3.26</td>\n",
       "      <td>0.65</td>\n",
       "      <td>9.8</td>\n",
       "      <td>5</td>\n",
       "      <td>0</td>\n",
       "    </tr>\n",
       "    <tr>\n",
       "      <th>3</th>\n",
       "      <td>11.2</td>\n",
       "      <td>0.28</td>\n",
       "      <td>0.56</td>\n",
       "      <td>1.9</td>\n",
       "      <td>0.075</td>\n",
       "      <td>17.0</td>\n",
       "      <td>60.0</td>\n",
       "      <td>0.9980</td>\n",
       "      <td>3.16</td>\n",
       "      <td>0.58</td>\n",
       "      <td>9.8</td>\n",
       "      <td>6</td>\n",
       "      <td>0</td>\n",
       "    </tr>\n",
       "    <tr>\n",
       "      <th>4</th>\n",
       "      <td>7.4</td>\n",
       "      <td>0.70</td>\n",
       "      <td>0.00</td>\n",
       "      <td>1.9</td>\n",
       "      <td>0.076</td>\n",
       "      <td>11.0</td>\n",
       "      <td>34.0</td>\n",
       "      <td>0.9978</td>\n",
       "      <td>3.51</td>\n",
       "      <td>0.56</td>\n",
       "      <td>9.4</td>\n",
       "      <td>5</td>\n",
       "      <td>0</td>\n",
       "    </tr>\n",
       "  </tbody>\n",
       "</table>\n",
       "</div>"
      ],
      "text/plain": [
       "   fixed acidity  volatile acidity  citric acid  residual sugar  chlorides  \\\n",
       "0            7.4              0.70         0.00             1.9      0.076   \n",
       "1            7.8              0.88         0.00             2.6      0.098   \n",
       "2            7.8              0.76         0.04             2.3      0.092   \n",
       "3           11.2              0.28         0.56             1.9      0.075   \n",
       "4            7.4              0.70         0.00             1.9      0.076   \n",
       "\n",
       "   free sulfur dioxide  total sulfur dioxide  density    pH  sulphates  \\\n",
       "0                 11.0                  34.0   0.9978  3.51       0.56   \n",
       "1                 25.0                  67.0   0.9968  3.20       0.68   \n",
       "2                 15.0                  54.0   0.9970  3.26       0.65   \n",
       "3                 17.0                  60.0   0.9980  3.16       0.58   \n",
       "4                 11.0                  34.0   0.9978  3.51       0.56   \n",
       "\n",
       "   alcohol  quality  goodquality  \n",
       "0      9.4        5            0  \n",
       "1      9.8        5            0  \n",
       "2      9.8        5            0  \n",
       "3      9.8        6            0  \n",
       "4      9.4        5            0  "
      ]
     },
     "execution_count": 18,
     "metadata": {},
     "output_type": "execute_result"
    }
   ],
   "source": [
    "df.head()"
   ]
  },
  {
   "cell_type": "code",
   "execution_count": 19,
   "id": "975828e0",
   "metadata": {},
   "outputs": [
    {
     "name": "stdout",
     "output_type": "stream",
     "text": [
      "goodquality\n",
      "0    6\n",
      "1    8\n",
      "Name: quality, dtype: int64\n",
      "\n",
      "\n",
      "goodquality\n",
      "0    3\n",
      "1    7\n",
      "Name: quality, dtype: int64\n"
     ]
    }
   ],
   "source": [
    "print(df.groupby(\"goodquality\").max()[\"quality\"])\n",
    "print(\"\\n\")\n",
    "print(df.groupby(\"goodquality\").min()[\"quality\"])"
   ]
  },
  {
   "cell_type": "code",
   "execution_count": 20,
   "id": "c770e518",
   "metadata": {},
   "outputs": [],
   "source": [
    "X = df.drop([\"quality\",\"goodquality\"],axis=1)\n",
    "y = df[\"goodquality\"]"
   ]
  },
  {
   "cell_type": "markdown",
   "id": "e643e509",
   "metadata": {},
   "source": [
    "# Train_Test_Split"
   ]
  },
  {
   "cell_type": "code",
   "execution_count": 21,
   "id": "65ca4fc9",
   "metadata": {},
   "outputs": [],
   "source": [
    "from sklearn.model_selection import train_test_split"
   ]
  },
  {
   "cell_type": "code",
   "execution_count": 22,
   "id": "ccdb7319",
   "metadata": {},
   "outputs": [],
   "source": [
    "X_train, X_test, y_train, y_test = train_test_split(X, y, test_size=0.3, random_state=7)"
   ]
  },
  {
   "cell_type": "markdown",
   "id": "e5b0a7d0",
   "metadata": {},
   "source": [
    "# LogisticRegression"
   ]
  },
  {
   "cell_type": "code",
   "execution_count": 23,
   "id": "35eb8ebe",
   "metadata": {},
   "outputs": [],
   "source": [
    "from sklearn.linear_model import LogisticRegression"
   ]
  },
  {
   "cell_type": "code",
   "execution_count": 25,
   "id": "403184eb",
   "metadata": {},
   "outputs": [],
   "source": [
    "lgr = LogisticRegression(max_iter=500).fit(X_train,y_train)"
   ]
  },
  {
   "cell_type": "code",
   "execution_count": 26,
   "id": "3c95bef0",
   "metadata": {},
   "outputs": [],
   "source": [
    "lgr_predict = lgr.predict(X_test)"
   ]
  },
  {
   "cell_type": "code",
   "execution_count": 27,
   "id": "17493753",
   "metadata": {},
   "outputs": [],
   "source": [
    "from sklearn.metrics import confusion_matrix, classification_report, accuracy_score, precision_score"
   ]
  },
  {
   "cell_type": "code",
   "execution_count": 28,
   "id": "e6978611",
   "metadata": {
    "scrolled": true
   },
   "outputs": [
    {
     "name": "stdout",
     "output_type": "stream",
     "text": [
      "The accuracy score is: 0.8791666666666667\n"
     ]
    }
   ],
   "source": [
    "print('The accuracy score is:', accuracy_score(y_test,lgr_predict))"
   ]
  },
  {
   "cell_type": "code",
   "execution_count": 29,
   "id": "18f3fd21",
   "metadata": {},
   "outputs": [
    {
     "name": "stdout",
     "output_type": "stream",
     "text": [
      "The classification report is: \n",
      "               precision    recall  f1-score   support\n",
      "\n",
      "           0       0.90      0.97      0.93       417\n",
      "           1       0.58      0.30      0.40        63\n",
      "\n",
      "    accuracy                           0.88       480\n",
      "   macro avg       0.74      0.63      0.66       480\n",
      "weighted avg       0.86      0.88      0.86       480\n",
      "\n"
     ]
    }
   ],
   "source": [
    "print('The classification report is:', \"\\n\", classification_report(y_test,lgr_predict))"
   ]
  },
  {
   "cell_type": "code",
   "execution_count": 30,
   "id": "ca755ae8",
   "metadata": {},
   "outputs": [
    {
     "name": "stdout",
     "output_type": "stream",
     "text": [
      "The confusion matrix is: \n",
      " [[403  14]\n",
      " [ 44  19]]\n"
     ]
    }
   ],
   "source": [
    "print('The confusion matrix is:', \"\\n\", confusion_matrix(y_test,lgr_predict))"
   ]
  },
  {
   "cell_type": "markdown",
   "id": "70ff943b",
   "metadata": {},
   "source": [
    "# KNN"
   ]
  },
  {
   "cell_type": "code",
   "execution_count": 31,
   "id": "49a9462d",
   "metadata": {},
   "outputs": [],
   "source": [
    "from sklearn.preprocessing import StandardScaler"
   ]
  },
  {
   "cell_type": "code",
   "execution_count": 32,
   "id": "28717604",
   "metadata": {},
   "outputs": [],
   "source": [
    "data = df.copy()"
   ]
  },
  {
   "cell_type": "code",
   "execution_count": 33,
   "id": "75d90197",
   "metadata": {},
   "outputs": [
    {
     "data": {
      "text/html": [
       "<div>\n",
       "<style scoped>\n",
       "    .dataframe tbody tr th:only-of-type {\n",
       "        vertical-align: middle;\n",
       "    }\n",
       "\n",
       "    .dataframe tbody tr th {\n",
       "        vertical-align: top;\n",
       "    }\n",
       "\n",
       "    .dataframe thead th {\n",
       "        text-align: right;\n",
       "    }\n",
       "</style>\n",
       "<table border=\"1\" class=\"dataframe\">\n",
       "  <thead>\n",
       "    <tr style=\"text-align: right;\">\n",
       "      <th></th>\n",
       "      <th>fixed acidity</th>\n",
       "      <th>volatile acidity</th>\n",
       "      <th>citric acid</th>\n",
       "      <th>residual sugar</th>\n",
       "      <th>chlorides</th>\n",
       "      <th>free sulfur dioxide</th>\n",
       "      <th>total sulfur dioxide</th>\n",
       "      <th>density</th>\n",
       "      <th>pH</th>\n",
       "      <th>sulphates</th>\n",
       "      <th>alcohol</th>\n",
       "      <th>quality</th>\n",
       "      <th>goodquality</th>\n",
       "    </tr>\n",
       "  </thead>\n",
       "  <tbody>\n",
       "    <tr>\n",
       "      <th>0</th>\n",
       "      <td>7.4</td>\n",
       "      <td>0.70</td>\n",
       "      <td>0.00</td>\n",
       "      <td>1.9</td>\n",
       "      <td>0.076</td>\n",
       "      <td>11.0</td>\n",
       "      <td>34.0</td>\n",
       "      <td>0.9978</td>\n",
       "      <td>3.51</td>\n",
       "      <td>0.56</td>\n",
       "      <td>9.4</td>\n",
       "      <td>5</td>\n",
       "      <td>0</td>\n",
       "    </tr>\n",
       "    <tr>\n",
       "      <th>1</th>\n",
       "      <td>7.8</td>\n",
       "      <td>0.88</td>\n",
       "      <td>0.00</td>\n",
       "      <td>2.6</td>\n",
       "      <td>0.098</td>\n",
       "      <td>25.0</td>\n",
       "      <td>67.0</td>\n",
       "      <td>0.9968</td>\n",
       "      <td>3.20</td>\n",
       "      <td>0.68</td>\n",
       "      <td>9.8</td>\n",
       "      <td>5</td>\n",
       "      <td>0</td>\n",
       "    </tr>\n",
       "    <tr>\n",
       "      <th>2</th>\n",
       "      <td>7.8</td>\n",
       "      <td>0.76</td>\n",
       "      <td>0.04</td>\n",
       "      <td>2.3</td>\n",
       "      <td>0.092</td>\n",
       "      <td>15.0</td>\n",
       "      <td>54.0</td>\n",
       "      <td>0.9970</td>\n",
       "      <td>3.26</td>\n",
       "      <td>0.65</td>\n",
       "      <td>9.8</td>\n",
       "      <td>5</td>\n",
       "      <td>0</td>\n",
       "    </tr>\n",
       "    <tr>\n",
       "      <th>3</th>\n",
       "      <td>11.2</td>\n",
       "      <td>0.28</td>\n",
       "      <td>0.56</td>\n",
       "      <td>1.9</td>\n",
       "      <td>0.075</td>\n",
       "      <td>17.0</td>\n",
       "      <td>60.0</td>\n",
       "      <td>0.9980</td>\n",
       "      <td>3.16</td>\n",
       "      <td>0.58</td>\n",
       "      <td>9.8</td>\n",
       "      <td>6</td>\n",
       "      <td>0</td>\n",
       "    </tr>\n",
       "    <tr>\n",
       "      <th>4</th>\n",
       "      <td>7.4</td>\n",
       "      <td>0.70</td>\n",
       "      <td>0.00</td>\n",
       "      <td>1.9</td>\n",
       "      <td>0.076</td>\n",
       "      <td>11.0</td>\n",
       "      <td>34.0</td>\n",
       "      <td>0.9978</td>\n",
       "      <td>3.51</td>\n",
       "      <td>0.56</td>\n",
       "      <td>9.4</td>\n",
       "      <td>5</td>\n",
       "      <td>0</td>\n",
       "    </tr>\n",
       "  </tbody>\n",
       "</table>\n",
       "</div>"
      ],
      "text/plain": [
       "   fixed acidity  volatile acidity  citric acid  residual sugar  chlorides  \\\n",
       "0            7.4              0.70         0.00             1.9      0.076   \n",
       "1            7.8              0.88         0.00             2.6      0.098   \n",
       "2            7.8              0.76         0.04             2.3      0.092   \n",
       "3           11.2              0.28         0.56             1.9      0.075   \n",
       "4            7.4              0.70         0.00             1.9      0.076   \n",
       "\n",
       "   free sulfur dioxide  total sulfur dioxide  density    pH  sulphates  \\\n",
       "0                 11.0                  34.0   0.9978  3.51       0.56   \n",
       "1                 25.0                  67.0   0.9968  3.20       0.68   \n",
       "2                 15.0                  54.0   0.9970  3.26       0.65   \n",
       "3                 17.0                  60.0   0.9980  3.16       0.58   \n",
       "4                 11.0                  34.0   0.9978  3.51       0.56   \n",
       "\n",
       "   alcohol  quality  goodquality  \n",
       "0      9.4        5            0  \n",
       "1      9.8        5            0  \n",
       "2      9.8        5            0  \n",
       "3      9.8        6            0  \n",
       "4      9.4        5            0  "
      ]
     },
     "execution_count": 33,
     "metadata": {},
     "output_type": "execute_result"
    }
   ],
   "source": [
    "data.head()"
   ]
  },
  {
   "cell_type": "code",
   "execution_count": 34,
   "id": "cc419487",
   "metadata": {},
   "outputs": [],
   "source": [
    "M = data.drop([\"quality\", \"goodquality\"], axis=1)\n",
    "n = data[\"goodquality\"]"
   ]
  },
  {
   "cell_type": "code",
   "execution_count": 35,
   "id": "b10e6b92",
   "metadata": {},
   "outputs": [],
   "source": [
    "M_train, M_test, n_train, n_test = train_test_split(M, n, test_size=0.3, random_state=7)"
   ]
  },
  {
   "cell_type": "code",
   "execution_count": 36,
   "id": "944c1458",
   "metadata": {},
   "outputs": [],
   "source": [
    "scaler_train = StandardScaler().fit_transform(M_train)"
   ]
  },
  {
   "cell_type": "code",
   "execution_count": 37,
   "id": "1b104761",
   "metadata": {},
   "outputs": [],
   "source": [
    "train_set = pd.DataFrame(scaler_train, columns=data.columns[:-2])"
   ]
  },
  {
   "cell_type": "code",
   "execution_count": 38,
   "id": "4f51bbd6",
   "metadata": {},
   "outputs": [
    {
     "data": {
      "text/html": [
       "<div>\n",
       "<style scoped>\n",
       "    .dataframe tbody tr th:only-of-type {\n",
       "        vertical-align: middle;\n",
       "    }\n",
       "\n",
       "    .dataframe tbody tr th {\n",
       "        vertical-align: top;\n",
       "    }\n",
       "\n",
       "    .dataframe thead th {\n",
       "        text-align: right;\n",
       "    }\n",
       "</style>\n",
       "<table border=\"1\" class=\"dataframe\">\n",
       "  <thead>\n",
       "    <tr style=\"text-align: right;\">\n",
       "      <th></th>\n",
       "      <th>fixed acidity</th>\n",
       "      <th>volatile acidity</th>\n",
       "      <th>citric acid</th>\n",
       "      <th>residual sugar</th>\n",
       "      <th>chlorides</th>\n",
       "      <th>free sulfur dioxide</th>\n",
       "      <th>total sulfur dioxide</th>\n",
       "      <th>density</th>\n",
       "      <th>pH</th>\n",
       "      <th>sulphates</th>\n",
       "      <th>alcohol</th>\n",
       "    </tr>\n",
       "  </thead>\n",
       "  <tbody>\n",
       "    <tr>\n",
       "      <th>0</th>\n",
       "      <td>0.653919</td>\n",
       "      <td>-0.771127</td>\n",
       "      <td>1.017347</td>\n",
       "      <td>1.446437</td>\n",
       "      <td>0.129037</td>\n",
       "      <td>-1.240259</td>\n",
       "      <td>-1.115660</td>\n",
       "      <td>-0.185166</td>\n",
       "      <td>-0.289651</td>\n",
       "      <td>-0.094425</td>\n",
       "      <td>1.674244</td>\n",
       "    </tr>\n",
       "    <tr>\n",
       "      <th>1</th>\n",
       "      <td>0.423651</td>\n",
       "      <td>0.050836</td>\n",
       "      <td>1.173109</td>\n",
       "      <td>0.245592</td>\n",
       "      <td>0.129037</td>\n",
       "      <td>2.363684</td>\n",
       "      <td>1.884782</td>\n",
       "      <td>0.773020</td>\n",
       "      <td>-1.511289</td>\n",
       "      <td>-0.272307</td>\n",
       "      <td>-1.121715</td>\n",
       "    </tr>\n",
       "    <tr>\n",
       "      <th>2</th>\n",
       "      <td>-0.267154</td>\n",
       "      <td>0.050836</td>\n",
       "      <td>-0.021065</td>\n",
       "      <td>-0.390150</td>\n",
       "      <td>0.002893</td>\n",
       "      <td>0.656553</td>\n",
       "      <td>0.024508</td>\n",
       "      <td>0.720081</td>\n",
       "      <td>0.610503</td>\n",
       "      <td>0.498514</td>\n",
       "      <td>-1.121715</td>\n",
       "    </tr>\n",
       "    <tr>\n",
       "      <th>3</th>\n",
       "      <td>1.920395</td>\n",
       "      <td>-0.629410</td>\n",
       "      <td>1.380791</td>\n",
       "      <td>0.528144</td>\n",
       "      <td>0.360300</td>\n",
       "      <td>1.604959</td>\n",
       "      <td>1.524729</td>\n",
       "      <td>2.255296</td>\n",
       "      <td>-0.739728</td>\n",
       "      <td>1.743687</td>\n",
       "      <td>-1.121715</td>\n",
       "    </tr>\n",
       "    <tr>\n",
       "      <th>4</th>\n",
       "      <td>-0.324722</td>\n",
       "      <td>0.390959</td>\n",
       "      <td>-1.059477</td>\n",
       "      <td>-0.390150</td>\n",
       "      <td>-0.186322</td>\n",
       "      <td>0.277190</td>\n",
       "      <td>-0.185523</td>\n",
       "      <td>0.121877</td>\n",
       "      <td>0.481909</td>\n",
       "      <td>-0.213013</td>\n",
       "      <td>-0.282927</td>\n",
       "    </tr>\n",
       "  </tbody>\n",
       "</table>\n",
       "</div>"
      ],
      "text/plain": [
       "   fixed acidity  volatile acidity  citric acid  residual sugar  chlorides  \\\n",
       "0       0.653919         -0.771127     1.017347        1.446437   0.129037   \n",
       "1       0.423651          0.050836     1.173109        0.245592   0.129037   \n",
       "2      -0.267154          0.050836    -0.021065       -0.390150   0.002893   \n",
       "3       1.920395         -0.629410     1.380791        0.528144   0.360300   \n",
       "4      -0.324722          0.390959    -1.059477       -0.390150  -0.186322   \n",
       "\n",
       "   free sulfur dioxide  total sulfur dioxide   density        pH  sulphates  \\\n",
       "0            -1.240259             -1.115660 -0.185166 -0.289651  -0.094425   \n",
       "1             2.363684              1.884782  0.773020 -1.511289  -0.272307   \n",
       "2             0.656553              0.024508  0.720081  0.610503   0.498514   \n",
       "3             1.604959              1.524729  2.255296 -0.739728   1.743687   \n",
       "4             0.277190             -0.185523  0.121877  0.481909  -0.213013   \n",
       "\n",
       "    alcohol  \n",
       "0  1.674244  \n",
       "1 -1.121715  \n",
       "2 -1.121715  \n",
       "3 -1.121715  \n",
       "4 -0.282927  "
      ]
     },
     "execution_count": 38,
     "metadata": {},
     "output_type": "execute_result"
    }
   ],
   "source": [
    "train_set.head()"
   ]
  },
  {
   "cell_type": "code",
   "execution_count": 40,
   "id": "eb786706",
   "metadata": {},
   "outputs": [],
   "source": [
    "scaler_test = StandardScaler().fit_transform(M_test)\n",
    "test_set = pd.DataFrame(scaler_test, columns=data.columns[:-2])"
   ]
  },
  {
   "cell_type": "code",
   "execution_count": 41,
   "id": "6440908b",
   "metadata": {},
   "outputs": [
    {
     "data": {
      "text/html": [
       "<div>\n",
       "<style scoped>\n",
       "    .dataframe tbody tr th:only-of-type {\n",
       "        vertical-align: middle;\n",
       "    }\n",
       "\n",
       "    .dataframe tbody tr th {\n",
       "        vertical-align: top;\n",
       "    }\n",
       "\n",
       "    .dataframe thead th {\n",
       "        text-align: right;\n",
       "    }\n",
       "</style>\n",
       "<table border=\"1\" class=\"dataframe\">\n",
       "  <thead>\n",
       "    <tr style=\"text-align: right;\">\n",
       "      <th></th>\n",
       "      <th>fixed acidity</th>\n",
       "      <th>volatile acidity</th>\n",
       "      <th>citric acid</th>\n",
       "      <th>residual sugar</th>\n",
       "      <th>chlorides</th>\n",
       "      <th>free sulfur dioxide</th>\n",
       "      <th>total sulfur dioxide</th>\n",
       "      <th>density</th>\n",
       "      <th>pH</th>\n",
       "      <th>sulphates</th>\n",
       "      <th>alcohol</th>\n",
       "    </tr>\n",
       "  </thead>\n",
       "  <tbody>\n",
       "    <tr>\n",
       "      <th>0</th>\n",
       "      <td>-0.946875</td>\n",
       "      <td>-0.272515</td>\n",
       "      <td>-1.042278</td>\n",
       "      <td>-0.220366</td>\n",
       "      <td>-0.492050</td>\n",
       "      <td>0.253716</td>\n",
       "      <td>-0.214073</td>\n",
       "      <td>-0.655239</td>\n",
       "      <td>-0.012820</td>\n",
       "      <td>-0.077882</td>\n",
       "      <td>-0.830124</td>\n",
       "    </tr>\n",
       "    <tr>\n",
       "      <th>1</th>\n",
       "      <td>1.349739</td>\n",
       "      <td>-0.651509</td>\n",
       "      <td>0.618489</td>\n",
       "      <td>-0.220366</td>\n",
       "      <td>-0.055521</td>\n",
       "      <td>-0.820988</td>\n",
       "      <td>-0.875179</td>\n",
       "      <td>0.870215</td>\n",
       "      <td>-1.468536</td>\n",
       "      <td>0.038941</td>\n",
       "      <td>-1.116958</td>\n",
       "    </tr>\n",
       "    <tr>\n",
       "      <th>2</th>\n",
       "      <td>-0.774629</td>\n",
       "      <td>-1.355356</td>\n",
       "      <td>1.574687</td>\n",
       "      <td>-0.292078</td>\n",
       "      <td>-0.273786</td>\n",
       "      <td>0.156015</td>\n",
       "      <td>-0.623329</td>\n",
       "      <td>0.732021</td>\n",
       "      <td>0.516531</td>\n",
       "      <td>0.331000</td>\n",
       "      <td>0.125988</td>\n",
       "    </tr>\n",
       "    <tr>\n",
       "      <th>3</th>\n",
       "      <td>-0.372721</td>\n",
       "      <td>0.377190</td>\n",
       "      <td>-0.539015</td>\n",
       "      <td>-0.148654</td>\n",
       "      <td>-0.230133</td>\n",
       "      <td>0.156015</td>\n",
       "      <td>0.289628</td>\n",
       "      <td>0.391850</td>\n",
       "      <td>0.847376</td>\n",
       "      <td>-0.428353</td>\n",
       "      <td>-0.447679</td>\n",
       "    </tr>\n",
       "    <tr>\n",
       "      <th>4</th>\n",
       "      <td>-0.717213</td>\n",
       "      <td>0.539616</td>\n",
       "      <td>-1.394561</td>\n",
       "      <td>-0.148654</td>\n",
       "      <td>-0.470224</td>\n",
       "      <td>-0.723288</td>\n",
       "      <td>0.037778</td>\n",
       "      <td>-1.829892</td>\n",
       "      <td>0.119518</td>\n",
       "      <td>-0.895647</td>\n",
       "      <td>1.273322</td>\n",
       "    </tr>\n",
       "  </tbody>\n",
       "</table>\n",
       "</div>"
      ],
      "text/plain": [
       "   fixed acidity  volatile acidity  citric acid  residual sugar  chlorides  \\\n",
       "0      -0.946875         -0.272515    -1.042278       -0.220366  -0.492050   \n",
       "1       1.349739         -0.651509     0.618489       -0.220366  -0.055521   \n",
       "2      -0.774629         -1.355356     1.574687       -0.292078  -0.273786   \n",
       "3      -0.372721          0.377190    -0.539015       -0.148654  -0.230133   \n",
       "4      -0.717213          0.539616    -1.394561       -0.148654  -0.470224   \n",
       "\n",
       "   free sulfur dioxide  total sulfur dioxide   density        pH  sulphates  \\\n",
       "0             0.253716             -0.214073 -0.655239 -0.012820  -0.077882   \n",
       "1            -0.820988             -0.875179  0.870215 -1.468536   0.038941   \n",
       "2             0.156015             -0.623329  0.732021  0.516531   0.331000   \n",
       "3             0.156015              0.289628  0.391850  0.847376  -0.428353   \n",
       "4            -0.723288              0.037778 -1.829892  0.119518  -0.895647   \n",
       "\n",
       "    alcohol  \n",
       "0 -0.830124  \n",
       "1 -1.116958  \n",
       "2  0.125988  \n",
       "3 -0.447679  \n",
       "4  1.273322  "
      ]
     },
     "execution_count": 41,
     "metadata": {},
     "output_type": "execute_result"
    }
   ],
   "source": [
    "test_set.head()"
   ]
  },
  {
   "cell_type": "code",
   "execution_count": 42,
   "id": "3456d4e7",
   "metadata": {},
   "outputs": [],
   "source": [
    "from sklearn.neighbors import KNeighborsClassifier"
   ]
  },
  {
   "cell_type": "code",
   "execution_count": 43,
   "id": "cef46c42",
   "metadata": {},
   "outputs": [],
   "source": [
    "model = KNeighborsClassifier(n_neighbors=5).fit(train_set,n_train)"
   ]
  },
  {
   "cell_type": "code",
   "execution_count": 44,
   "id": "d982e78c",
   "metadata": {},
   "outputs": [],
   "source": [
    "y_predict = model.predict(test_set)"
   ]
  },
  {
   "cell_type": "code",
   "execution_count": 45,
   "id": "7039ba21",
   "metadata": {},
   "outputs": [
    {
     "name": "stdout",
     "output_type": "stream",
     "text": [
      "The accuracy score is: 0.8645833333333334\n"
     ]
    }
   ],
   "source": [
    "print('The accuracy score is:', accuracy_score(n_test,y_predict))"
   ]
  },
  {
   "cell_type": "code",
   "execution_count": 46,
   "id": "a6c48bb6",
   "metadata": {},
   "outputs": [],
   "source": [
    "error_rate =[]\n",
    "for i in range(1,40):\n",
    "    model = KNeighborsClassifier(n_neighbors=5).fit(train_set,n_train)\n",
    "    y_predict = model.predict(test_set)\n",
    "    error_rate.append(np.mean(y_predict!=n_test))"
   ]
  },
  {
   "cell_type": "markdown",
   "id": "d2e6d90b",
   "metadata": {},
   "source": [
    "PLotting error rate"
   ]
  },
  {
   "cell_type": "code",
   "execution_count": 47,
   "id": "1618842f",
   "metadata": {},
   "outputs": [
    {
     "data": {
      "image/png": "[encoded data removed]",
      "text/plain": [
       "<Figure size 1000x500 with 1 Axes>"
      ]
     },
     "metadata": {},
     "output_type": "display_data"
    }
   ],
   "source": [
    "plt.figure(figsize=(10,5))\n",
    "plt.plot(range(1,40),error_rate, linestyle=\"dashed\", marker =\"o\", markersize =\"10\")\n",
    "plt.xlabel(\"n_neighbors\")\n",
    "plt.ylabel(\"Error_rate\")\n",
    "plt.title(\"Best k value\")\n",
    "plt.show()\n"
   ]
  },
  {
   "cell_type": "markdown",
   "id": "15131e1a",
   "metadata": {},
   "source": [
    "By the graph it is evident that changing K values doesn't effects the accuracy or the error_rate of the model. Hence the accuracy score for the model remains: 0.8645833333333334"
   ]
  },
  {
   "cell_type": "code",
   "execution_count": 48,
   "id": "17f9ce77",
   "metadata": {},
   "outputs": [
    {
     "name": "stdout",
     "output_type": "stream",
     "text": [
      "The classification report is: \n",
      "               precision    recall  f1-score   support\n",
      "\n",
      "           0       0.91      0.94      0.92       417\n",
      "           1       0.48      0.40      0.43        63\n",
      "\n",
      "    accuracy                           0.86       480\n",
      "   macro avg       0.70      0.67      0.68       480\n",
      "weighted avg       0.85      0.86      0.86       480\n",
      "\n"
     ]
    }
   ],
   "source": [
    "print('The classification report is:', \"\\n\", classification_report(n_test,y_predict))"
   ]
  },
  {
   "cell_type": "code",
   "execution_count": 49,
   "id": "919f6bb4",
   "metadata": {},
   "outputs": [
    {
     "name": "stdout",
     "output_type": "stream",
     "text": [
      "The confusion matrix is: \n",
      " [[390  27]\n",
      " [ 38  25]]\n"
     ]
    }
   ],
   "source": [
    "print('The confusion matrix is:', \"\\n\", confusion_matrix(n_test,y_predict))"
   ]
  },
  {
   "cell_type": "markdown",
   "id": "105b8fd5",
   "metadata": {},
   "source": [
    "# Support vector machine"
   ]
  },
  {
   "cell_type": "code",
   "execution_count": 50,
   "id": "bbda624e",
   "metadata": {},
   "outputs": [],
   "source": [
    "#The binary classifier algorithm."
   ]
  },
  {
   "cell_type": "code",
   "execution_count": 51,
   "id": "2f85d15f",
   "metadata": {},
   "outputs": [],
   "source": [
    "from sklearn.svm import SVC"
   ]
  },
  {
   "cell_type": "code",
   "execution_count": 52,
   "id": "e06af8dc",
   "metadata": {},
   "outputs": [],
   "source": [
    "y_pred = SVC().fit(X_train,y_train).predict(X_test)"
   ]
  },
  {
   "cell_type": "code",
   "execution_count": 53,
   "id": "718a9a7a",
   "metadata": {},
   "outputs": [
    {
     "name": "stdout",
     "output_type": "stream",
     "text": [
      "The accuracy score is: 0.86875\n"
     ]
    }
   ],
   "source": [
    "print('The accuracy score is:', accuracy_score(y_test,y_pred))"
   ]
  },
  {
   "cell_type": "code",
   "execution_count": 54,
   "id": "43e882b5",
   "metadata": {},
   "outputs": [],
   "source": [
    "from warnings import filterwarnings\n",
    "filterwarnings(action='ignore')"
   ]
  },
  {
   "cell_type": "code",
   "execution_count": 55,
   "id": "426ca100",
   "metadata": {},
   "outputs": [
    {
     "name": "stdout",
     "output_type": "stream",
     "text": [
      "The classification report is: \n",
      "               precision    recall  f1-score   support\n",
      "\n",
      "           0       0.87      1.00      0.93       417\n",
      "           1       0.00      0.00      0.00        63\n",
      "\n",
      "    accuracy                           0.87       480\n",
      "   macro avg       0.43      0.50      0.46       480\n",
      "weighted avg       0.75      0.87      0.81       480\n",
      "\n"
     ]
    }
   ],
   "source": [
    "print('The classification report is:', \"\\n\", classification_report(y_test,y_pred))"
   ]
  },
  {
   "cell_type": "code",
   "execution_count": 56,
   "id": "4da18fdc",
   "metadata": {},
   "outputs": [
    {
     "name": "stdout",
     "output_type": "stream",
     "text": [
      "The confusion matrix is: \n",
      " [[417   0]\n",
      " [ 63   0]]\n"
     ]
    }
   ],
   "source": [
    "print('The confusion matrix is:', \"\\n\", confusion_matrix(y_test,y_pred))"
   ]
  },
  {
   "cell_type": "markdown",
   "id": "1092a61b",
   "metadata": {},
   "source": [
    "As the model attained an accuracy of 87% yet is the model has failed to predict any good quality wine and hence the model cannot be consided as a good predictive model.\n",
    "To make it a better performing model we can perform grid search to find the best balance between bias and variance by choosing various values for C and gamma"
   ]
  },
  {
   "cell_type": "markdown",
   "id": "48a64905",
   "metadata": {},
   "source": [
    "Grid_Search"
   ]
  },
  {
   "cell_type": "code",
   "execution_count": 57,
   "id": "5a5f5502",
   "metadata": {},
   "outputs": [],
   "source": [
    "param = {\"C\":[0.01,0.1,1,10,100,1000,10000], \"gamma\":[10,1,0.1,0.01,0.001,0.001,0.0001], \"kernel\":[\"rbf\"]}"
   ]
  },
  {
   "cell_type": "code",
   "execution_count": 58,
   "id": "122833da",
   "metadata": {},
   "outputs": [],
   "source": [
    "from sklearn.model_selection import GridSearchCV"
   ]
  },
  {
   "cell_type": "code",
   "execution_count": 59,
   "id": "109d5493",
   "metadata": {},
   "outputs": [],
   "source": [
    "model = GridSearchCV(SVC(), param, refit =True).fit(X_train,y_train)"
   ]
  },
  {
   "cell_type": "code",
   "execution_count": 60,
   "id": "10b0f91b",
   "metadata": {},
   "outputs": [
    {
     "data": {
      "text/plain": [
       "{'C': 10, 'gamma': 1, 'kernel': 'rbf'}"
      ]
     },
     "execution_count": 60,
     "metadata": {},
     "output_type": "execute_result"
    }
   ],
   "source": [
    "model.best_params_"
   ]
  },
  {
   "cell_type": "code",
   "execution_count": 61,
   "id": "13911d51",
   "metadata": {},
   "outputs": [
    {
     "data": {
      "text/html": [
       "<style>#sk-container-id-1 {color: black;background-color: white;}#sk-container-id-1 pre{padding: 0;}#sk-container-id-1 div.sk-toggleable {background-color: white;}#sk-container-id-1 label.sk-toggleable__label {cursor: pointer;display: block;width: 100%;margin-bottom: 0;padding: 0.3em;box-sizing: border-box;text-align: center;}#sk-container-id-1 label.sk-toggleable__label-arrow:before {content: \"▸\";float: left;margin-right: 0.25em;color: #696969;}#sk-container-id-1 label.sk-toggleable__label-arrow:hover:before {color: black;}#sk-container-id-1 div.sk-estimator:hover label.sk-toggleable__label-arrow:before {color: black;}#sk-container-id-1 div.sk-toggleable__content {max-height: 0;max-width: 0;overflow: hidden;text-align: left;background-color: #f0f8ff;}#sk-container-id-1 div.sk-toggleable__content pre {margin: 0.2em;color: black;border-radius: 0.25em;background-color: #f0f8ff;}#sk-container-id-1 input.sk-toggleable__control:checked~div.sk-toggleable__content {max-height: 200px;max-width: 100%;overflow: auto;}#sk-container-id-1 input.sk-toggleable__control:checked~label.sk-toggleable__label-arrow:before {content: \"▾\";}#sk-container-id-1 div.sk-estimator input.sk-toggleable__control:checked~label.sk-toggleable__label {background-color: #d4ebff;}#sk-container-id-1 div.sk-label input.sk-toggleable__control:checked~label.sk-toggleable__label {background-color: #d4ebff;}#sk-container-id-1 input.sk-hidden--visually {border: 0;clip: rect(1px 1px 1px 1px);clip: rect(1px, 1px, 1px, 1px);height: 1px;margin: -1px;overflow: hidden;padding: 0;position: absolute;width: 1px;}#sk-container-id-1 div.sk-estimator {font-family: monospace;background-color: #f0f8ff;border: 1px dotted black;border-radius: 0.25em;box-sizing: border-box;margin-bottom: 0.5em;}#sk-container-id-1 div.sk-estimator:hover {background-color: #d4ebff;}#sk-container-id-1 div.sk-parallel-item::after {content: \"\";width: 100%;border-bottom: 1px solid gray;flex-grow: 1;}#sk-container-id-1 div.sk-label:hover label.sk-toggleable__label {background-color: #d4ebff;}#sk-container-id-1 div.sk-serial::before {content: \"\";position: absolute;border-left: 1px solid gray;box-sizing: border-box;top: 0;bottom: 0;left: 50%;z-index: 0;}#sk-container-id-1 div.sk-serial {display: flex;flex-direction: column;align-items: center;background-color: white;padding-right: 0.2em;padding-left: 0.2em;position: relative;}#sk-container-id-1 div.sk-item {position: relative;z-index: 1;}#sk-container-id-1 div.sk-parallel {display: flex;align-items: stretch;justify-content: center;background-color: white;position: relative;}#sk-container-id-1 div.sk-item::before, #sk-container-id-1 div.sk-parallel-item::before {content: \"\";position: absolute;border-left: 1px solid gray;box-sizing: border-box;top: 0;bottom: 0;left: 50%;z-index: -1;}#sk-container-id-1 div.sk-parallel-item {display: flex;flex-direction: column;z-index: 1;position: relative;background-color: white;}#sk-container-id-1 div.sk-parallel-item:first-child::after {align-self: flex-end;width: 50%;}#sk-container-id-1 div.sk-parallel-item:last-child::after {align-self: flex-start;width: 50%;}#sk-container-id-1 div.sk-parallel-item:only-child::after {width: 0;}#sk-container-id-1 div.sk-dashed-wrapped {border: 1px dashed gray;margin: 0 0.4em 0.5em 0.4em;box-sizing: border-box;padding-bottom: 0.4em;background-color: white;}#sk-container-id-1 div.sk-label label {font-family: monospace;font-weight: bold;display: inline-block;line-height: 1.2em;}#sk-container-id-1 div.sk-label-container {text-align: center;}#sk-container-id-1 div.sk-container {/* jupyter's `normalize.less` sets `[hidden] { display: none; }` but bootstrap.min.css set `[hidden] { display: none !important; }` so we also need the `!important` here to be able to override the default hidden behavior on the sphinx rendered scikit-learn.org. See: https://github.com/scikit-learn/scikit-learn/issues/21755 */display: inline-block !important;position: relative;}#sk-container-id-1 div.sk-text-repr-fallback {display: none;}</style><div id=\"sk-container-id-1\" class=\"sk-top-container\"><div class=\"sk-text-repr-fallback\"><pre>SVC(C=10, gamma=1)</pre><b>In a Jupyter environment, please rerun this cell to show the HTML representation or trust the notebook. <br />On GitHub, the HTML representation is unable to render, please try loading this page with nbviewer.org.</b></div><div class=\"sk-container\" hidden><div class=\"sk-item\"><div class=\"sk-estimator sk-toggleable\"><input class=\"sk-toggleable__control sk-hidden--visually\" id=\"sk-estimator-id-1\" type=\"checkbox\" checked><label for=\"sk-estimator-id-1\" class=\"sk-toggleable__label sk-toggleable__label-arrow\">SVC</label><div class=\"sk-toggleable__content\"><pre>SVC(C=10, gamma=1)</pre></div></div></div></div></div>"
      ],
      "text/plain": [
       "SVC(C=10, gamma=1)"
      ]
     },
     "execution_count": 61,
     "metadata": {},
     "output_type": "execute_result"
    }
   ],
   "source": [
    "model.best_estimator_"
   ]
  },
  {
   "cell_type": "code",
   "execution_count": 62,
   "id": "fc4eabbb",
   "metadata": {},
   "outputs": [],
   "source": [
    "y_pred = model.predict(X_test)"
   ]
  },
  {
   "cell_type": "code",
   "execution_count": 63,
   "id": "f018ee2f",
   "metadata": {},
   "outputs": [
    {
     "name": "stdout",
     "output_type": "stream",
     "text": [
      "The accuracy score is: 0.89375\n"
     ]
    }
   ],
   "source": [
    "print('The accuracy score is:', accuracy_score(y_test,y_pred))"
   ]
  },
  {
   "cell_type": "code",
   "execution_count": 64,
   "id": "4ca0a65c",
   "metadata": {},
   "outputs": [
    {
     "name": "stdout",
     "output_type": "stream",
     "text": [
      "The classification report is: \n",
      "               precision    recall  f1-score   support\n",
      "\n",
      "           0       0.90      0.99      0.94       417\n",
      "           1       0.75      0.29      0.41        63\n",
      "\n",
      "    accuracy                           0.89       480\n",
      "   macro avg       0.83      0.64      0.68       480\n",
      "weighted avg       0.88      0.89      0.87       480\n",
      "\n"
     ]
    }
   ],
   "source": [
    "print('The classification report is:', \"\\n\", classification_report(y_test,y_pred))"
   ]
  },
  {
   "cell_type": "code",
   "execution_count": 65,
   "id": "d69c15cb",
   "metadata": {},
   "outputs": [
    {
     "name": "stdout",
     "output_type": "stream",
     "text": [
      "The confusion matrix is: \n",
      " [[411   6]\n",
      " [ 45  18]]\n"
     ]
    }
   ],
   "source": [
    "print('The confusion matrix is:', \"\\n\", confusion_matrix(y_test,y_pred))"
   ]
  },
  {
   "cell_type": "markdown",
   "id": "b9be6a81",
   "metadata": {},
   "source": [
    "By Grid search and best fit trading between values for C and gamma we have greatly imporved on our prediction as evident by confusion matrix and classification report. even though the accuracy score has meraly increased by 2-3% but the precision and recall value for good quality wine has improved 75 and 29 times respectively as compared to previous SVM where both the precision and recall values were 0.0"
   ]
  },
  {
   "cell_type": "markdown",
   "id": "8bbb8e1f",
   "metadata": {},
   "source": [
    "# Decision Trees"
   ]
  },
  {
   "cell_type": "code",
   "execution_count": 66,
   "id": "4bbe9987",
   "metadata": {},
   "outputs": [],
   "source": [
    "from sklearn.tree import DecisionTreeClassifier"
   ]
  },
  {
   "cell_type": "code",
   "execution_count": 67,
   "id": "8e5d64dc",
   "metadata": {},
   "outputs": [],
   "source": [
    "model_pred = DecisionTreeClassifier().fit(X_train,y_train).predict(X_test)"
   ]
  },
  {
   "cell_type": "code",
   "execution_count": 68,
   "id": "88be58b0",
   "metadata": {},
   "outputs": [
    {
     "name": "stdout",
     "output_type": "stream",
     "text": [
      "The accuracy score is: 0.8666666666666667\n"
     ]
    }
   ],
   "source": [
    "print('The accuracy score is:', accuracy_score(y_test,model_pred))"
   ]
  },
  {
   "cell_type": "code",
   "execution_count": 69,
   "id": "4e4a0bc3",
   "metadata": {},
   "outputs": [
    {
     "name": "stdout",
     "output_type": "stream",
     "text": [
      "The classification report is: \n",
      "               precision    recall  f1-score   support\n",
      "\n",
      "           0       0.94      0.90      0.92       417\n",
      "           1       0.49      0.65      0.56        63\n",
      "\n",
      "    accuracy                           0.87       480\n",
      "   macro avg       0.72      0.78      0.74       480\n",
      "weighted avg       0.89      0.87      0.87       480\n",
      "\n"
     ]
    }
   ],
   "source": [
    "print('The classification report is:', \"\\n\", classification_report(y_test,model_pred))"
   ]
  },
  {
   "cell_type": "code",
   "execution_count": 70,
   "id": "3a886e5f",
   "metadata": {},
   "outputs": [],
   "source": [
    "# poor precision and recall value for good quality wine. Overall accuracy of 87%. "
   ]
  },
  {
   "cell_type": "code",
   "execution_count": 71,
   "id": "753e4f4c",
   "metadata": {},
   "outputs": [
    {
     "name": "stdout",
     "output_type": "stream",
     "text": [
      "The confusion matrix is: \n",
      " [[375  42]\n",
      " [ 22  41]]\n"
     ]
    }
   ],
   "source": [
    "print('The confusion matrix is:', \"\\n\", confusion_matrix(y_test,model_pred))"
   ]
  },
  {
   "cell_type": "markdown",
   "id": "00d95c34",
   "metadata": {},
   "source": [
    "Since a single decision tree has shown high False positive: 42 and decreased true positive: 375 as compared to other algorithm."
   ]
  },
  {
   "cell_type": "markdown",
   "id": "c6ea281d",
   "metadata": {},
   "source": [
    "We will use Ensemble algorithms like random forest classifier and Gradient boosting classification algorithms to include multiple weak trees to see if using multiple trees and majority vote helps in overcoming biases, and performs better predictions."
   ]
  },
  {
   "cell_type": "markdown",
   "id": "e92fb0cb",
   "metadata": {},
   "source": [
    "Using Ensemble Algorithms "
   ]
  },
  {
   "cell_type": "code",
   "execution_count": 72,
   "id": "1ad263c0",
   "metadata": {},
   "outputs": [],
   "source": [
    "from sklearn.ensemble import RandomForestClassifier, GradientBoostingClassifier"
   ]
  },
  {
   "cell_type": "markdown",
   "id": "3e3b4e60",
   "metadata": {},
   "source": [
    "# Random Forest Classifier"
   ]
  },
  {
   "cell_type": "code",
   "execution_count": 73,
   "id": "99f71001",
   "metadata": {},
   "outputs": [
    {
     "name": "stderr",
     "output_type": "stream",
     "text": [
      "[Parallel(n_jobs=1)]: Using backend SequentialBackend with 1 concurrent workers.\n",
      "[Parallel(n_jobs=1)]: Done   1 out of   1 | elapsed:    0.0s remaining:    0.0s\n",
      "[Parallel(n_jobs=1)]: Done   2 out of   2 | elapsed:    0.0s remaining:    0.0s\n"
     ]
    },
    {
     "name": "stdout",
     "output_type": "stream",
     "text": [
      "building tree 1 of 100\n",
      "building tree 2 of 100\n",
      "building tree 3 of 100\n",
      "building tree 4 of 100\n",
      "building tree 5 of 100\n",
      "building tree 6 of 100\n",
      "building tree 7 of 100\n",
      "building tree 8 of 100\n",
      "building tree 9 of 100\n",
      "building tree 10 of 100\n",
      "building tree 11 of 100\n",
      "building tree 12 of 100\n",
      "building tree 13 of 100\n",
      "building tree 14 of 100\n",
      "building tree 15 of 100\n",
      "building tree 16 of 100\n",
      "building tree 17 of 100\n",
      "building tree 18 of 100\n",
      "building tree 19 of 100\n",
      "building tree 20 of 100\n",
      "building tree 21 of 100\n",
      "building tree 22 of 100\n",
      "building tree 23 of 100\n",
      "building tree 24 of 100\n",
      "building tree 25 of 100\n",
      "building tree 26 of 100\n",
      "building tree 27 of 100\n",
      "building tree 28 of 100\n",
      "building tree 29 of 100\n",
      "building tree 30 of 100\n",
      "building tree 31 of 100\n",
      "building tree 32 of 100\n",
      "building tree 33 of 100\n",
      "building tree 34 of 100\n",
      "building tree 35 of 100\n",
      "building tree 36 of 100\n",
      "building tree 37 of 100\n",
      "building tree 38 of 100\n",
      "building tree 39 of 100\n",
      "building tree 40 of 100\n",
      "building tree 41 of 100\n",
      "building tree 42 of 100\n",
      "building tree 43 of 100\n",
      "building tree 44 of 100\n",
      "building tree 45 of 100\n",
      "building tree 46 of 100\n",
      "building tree 47 of 100\n",
      "building tree 48 of 100\n",
      "building tree 49 of 100\n",
      "building tree 50 of 100\n",
      "building tree 51 of 100\n",
      "building tree 52 of 100\n",
      "building tree 53 of 100\n",
      "building tree 54 of 100\n",
      "building tree 55 of 100\n",
      "building tree 56 of 100\n",
      "building tree 57 of 100\n",
      "building tree 58 of 100\n",
      "building tree 59 of 100\n",
      "building tree 60 of 100\n",
      "building tree 61 of 100\n",
      "building tree 62 of 100\n",
      "building tree 63 of 100\n",
      "building tree 64 of 100\n",
      "building tree 65 of 100\n",
      "building tree 66 of 100\n",
      "building tree 67 of 100\n",
      "building tree 68 of 100\n",
      "building tree 69 of 100\n",
      "building tree 70 of 100\n",
      "building tree 71 of 100\n",
      "building tree 72 of 100\n",
      "building tree 73 of 100\n",
      "building tree 74 of 100\n",
      "building tree 75 of 100\n",
      "building tree 76 of 100\n",
      "building tree 77 of 100\n",
      "building tree 78 of 100\n",
      "building tree 79 of 100\n",
      "building tree 80 of 100\n",
      "building tree 81 of 100\n",
      "building tree 82 of 100\n",
      "building tree 83 of 100\n",
      "building tree 84 of 100\n",
      "building tree 85 of 100\n",
      "building tree 86 of 100\n",
      "building tree 87 of 100\n",
      "building tree 88 of 100\n",
      "building tree 89 of 100\n",
      "building tree 90 of 100\n",
      "building tree 91 of 100\n",
      "building tree 92 of 100\n",
      "building tree 93 of 100\n",
      "building tree 94 of 100\n",
      "building tree 95 of 100\n",
      "building tree 96 of 100\n",
      "building tree 97 of 100\n",
      "building tree 98 of 100\n",
      "building tree 99 of 100\n",
      "building tree 100 of 100\n"
     ]
    },
    {
     "name": "stderr",
     "output_type": "stream",
     "text": [
      "[Parallel(n_jobs=1)]: Done 100 out of 100 | elapsed:    0.3s finished\n",
      "[Parallel(n_jobs=1)]: Using backend SequentialBackend with 1 concurrent workers.\n",
      "[Parallel(n_jobs=1)]: Done   1 out of   1 | elapsed:    0.0s remaining:    0.0s\n",
      "[Parallel(n_jobs=1)]: Done   2 out of   2 | elapsed:    0.0s remaining:    0.0s\n",
      "[Parallel(n_jobs=1)]: Done 100 out of 100 | elapsed:    0.0s finished\n"
     ]
    }
   ],
   "source": [
    "model_pred = RandomForestClassifier(n_estimators=100,random_state=7, verbose=3).fit(X_train,y_train).predict(X_test)"
   ]
  },
  {
   "cell_type": "code",
   "execution_count": 74,
   "id": "5ebd5111",
   "metadata": {},
   "outputs": [
    {
     "name": "stdout",
     "output_type": "stream",
     "text": [
      "The accuracy score is: 0.9041666666666667\n"
     ]
    }
   ],
   "source": [
    "print('The accuracy score is:', accuracy_score(y_test,model_pred))"
   ]
  },
  {
   "cell_type": "code",
   "execution_count": 75,
   "id": "c2ebc8f8",
   "metadata": {},
   "outputs": [
    {
     "name": "stdout",
     "output_type": "stream",
     "text": [
      "The confusion matrix is: \n",
      " [[401  16]\n",
      " [ 30  33]]\n"
     ]
    }
   ],
   "source": [
    "print('The confusion matrix is:', \"\\n\", confusion_matrix(y_test,model_pred))"
   ]
  },
  {
   "cell_type": "code",
   "execution_count": 76,
   "id": "2935f847",
   "metadata": {},
   "outputs": [
    {
     "name": "stdout",
     "output_type": "stream",
     "text": [
      "The classification report is: \n",
      "               precision    recall  f1-score   support\n",
      "\n",
      "           0       0.93      0.96      0.95       417\n",
      "           1       0.67      0.52      0.59        63\n",
      "\n",
      "    accuracy                           0.90       480\n",
      "   macro avg       0.80      0.74      0.77       480\n",
      "weighted avg       0.90      0.90      0.90       480\n",
      "\n"
     ]
    }
   ],
   "source": [
    "print('The classification report is:', \"\\n\", classification_report(y_test,model_pred))"
   ]
  },
  {
   "cell_type": "markdown",
   "id": "f2f5e8a4",
   "metadata": {},
   "source": [
    "# Gradient Boosting Classifier"
   ]
  },
  {
   "cell_type": "code",
   "execution_count": 77,
   "id": "f260886e",
   "metadata": {},
   "outputs": [],
   "source": [
    "params = {\n",
    "    \"n_estimators\": 375,\n",
    "    \"learning_rate\":0.1,\n",
    "    \"verbose\":3,\n",
    "    \"loss\":\"log_loss\"\n",
    "}"
   ]
  },
  {
   "cell_type": "code",
   "execution_count": 78,
   "id": "9d456780",
   "metadata": {},
   "outputs": [
    {
     "name": "stdout",
     "output_type": "stream",
     "text": [
      "      Iter       Train Loss   Remaining Time \n",
      "         1           0.7347            2.04s\n",
      "         2           0.6887            1.64s\n",
      "         3           0.6546            1.76s\n",
      "         4           0.6273            1.62s\n",
      "         5           0.6033            1.57s\n",
      "         6           0.5845            1.54s\n",
      "         7           0.5680            1.55s\n",
      "         8           0.5499            1.53s\n",
      "         9           0.5353            1.49s\n",
      "        10           0.5229            1.62s\n",
      "        11           0.5122            1.62s\n",
      "        12           0.5022            1.61s\n",
      "        13           0.4918            1.69s\n",
      "        14           0.4836            1.64s\n",
      "        15           0.4757            1.60s\n",
      "        16           0.4689            1.56s\n",
      "        17           0.4625            1.54s\n",
      "        18           0.4549            1.51s\n",
      "        19           0.4476            1.48s\n",
      "        20           0.4407            1.45s\n",
      "        21           0.4356            1.42s\n",
      "        22           0.4304            1.41s\n",
      "        23           0.4257            1.39s\n",
      "        24           0.4206            1.37s\n",
      "        25           0.4168            1.35s\n",
      "        26           0.4102            1.33s\n",
      "        27           0.4061            1.32s\n",
      "        28           0.4011            1.30s\n",
      "        29           0.3967            1.29s\n",
      "        30           0.3930            1.27s\n",
      "        31           0.3892            1.26s\n",
      "        32           0.3854            1.25s\n",
      "        33           0.3829            1.23s\n",
      "        34           0.3797            1.22s\n",
      "        35           0.3757            1.21s\n",
      "        36           0.3732            1.20s\n",
      "        37           0.3691            1.19s\n",
      "        38           0.3670            1.18s\n",
      "        39           0.3634            1.17s\n",
      "        40           0.3623            1.16s\n",
      "        41           0.3602            1.15s\n",
      "        42           0.3535            1.14s\n",
      "        43           0.3509            1.13s\n",
      "        44           0.3480            1.12s\n",
      "        45           0.3463            1.12s\n",
      "        46           0.3439            1.11s\n",
      "        47           0.3413            1.10s\n",
      "        48           0.3383            1.09s\n",
      "        49           0.3360            1.09s\n",
      "        50           0.3341            1.08s\n",
      "        51           0.3330            1.08s\n",
      "        52           0.3301            1.07s\n",
      "        53           0.3285            1.07s\n",
      "        54           0.3262            1.06s\n",
      "        55           0.3225            1.06s\n",
      "        56           0.3208            1.05s\n",
      "        57           0.3194            1.05s\n",
      "        58           0.3186            1.04s\n",
      "        59           0.3172            1.03s\n",
      "        60           0.3148            1.03s\n",
      "        61           0.3134            1.02s\n",
      "        62           0.3109            1.03s\n",
      "        63           0.3060            1.03s\n",
      "        64           0.3053            1.02s\n",
      "        65           0.3040            1.02s\n",
      "        66           0.2990            1.02s\n",
      "        67           0.2969            1.02s\n",
      "        68           0.2960            1.02s\n",
      "        69           0.2941            1.02s\n",
      "        70           0.2922            1.02s\n",
      "        71           0.2900            1.01s\n",
      "        72           0.2882            1.01s\n",
      "        73           0.2855            1.01s\n",
      "        74           0.2842            1.00s\n",
      "        75           0.2826            1.00s\n",
      "        76           0.2810            1.00s\n",
      "        77           0.2801            0.99s\n",
      "        78           0.2785            0.99s\n",
      "        79           0.2756            0.99s\n",
      "        80           0.2733            0.98s\n",
      "        81           0.2718            0.98s\n",
      "        82           0.2712            0.97s\n",
      "        83           0.2687            0.98s\n",
      "        84           0.2655            0.98s\n",
      "        85           0.2643            0.97s\n",
      "        86           0.2628            0.97s\n",
      "        87           0.2611            0.98s\n",
      "        88           0.2597            0.97s\n",
      "        89           0.2589            0.97s\n",
      "        90           0.2584            0.98s\n",
      "        91           0.2562            0.98s\n",
      "        92           0.2535            0.97s\n",
      "        93           0.2517            0.97s\n",
      "        94           0.2505            0.97s\n",
      "        95           0.2495            0.97s\n",
      "        96           0.2473            0.96s\n",
      "        97           0.2469            0.96s\n",
      "        98           0.2457            0.95s\n",
      "        99           0.2438            0.95s\n",
      "       100           0.2419            0.95s\n",
      "       101           0.2400            0.94s\n",
      "       102           0.2384            0.94s\n",
      "       103           0.2380            0.93s\n",
      "       104           0.2375            0.93s\n",
      "       105           0.2362            0.93s\n",
      "       106           0.2337            0.92s\n",
      "       107           0.2324            0.92s\n",
      "       108           0.2307            0.92s\n",
      "       109           0.2291            0.91s\n",
      "       110           0.2279            0.91s\n",
      "       111           0.2271            0.91s\n",
      "       112           0.2265            0.90s\n",
      "       113           0.2258            0.90s\n",
      "       114           0.2245            0.90s\n",
      "       115           0.2242            0.89s\n",
      "       116           0.2224            0.89s\n",
      "       117           0.2216            0.88s\n",
      "       118           0.2209            0.88s\n",
      "       119           0.2200            0.88s\n",
      "       120           0.2175            0.88s\n",
      "       121           0.2169            0.88s\n",
      "       122           0.2153            0.87s\n",
      "       123           0.2141            0.87s\n",
      "       124           0.2131            0.86s\n",
      "       125           0.2119            0.86s\n",
      "       126           0.2110            0.86s\n",
      "       127           0.2096            0.86s\n",
      "       128           0.2092            0.86s\n",
      "       129           0.2075            0.86s\n",
      "       130           0.2066            0.86s\n",
      "       131           0.2049            0.86s\n",
      "       132           0.2038            0.85s\n",
      "       133           0.2022            0.85s\n",
      "       134           0.2012            0.84s\n",
      "       135           0.1997            0.84s\n",
      "       136           0.1987            0.84s\n",
      "       137           0.1968            0.84s\n",
      "       138           0.1953            0.83s\n",
      "       139           0.1945            0.83s\n",
      "       140           0.1925            0.83s\n",
      "       141           0.1913            0.82s\n",
      "       142           0.1900            0.82s\n",
      "       143           0.1884            0.81s\n",
      "       144           0.1874            0.81s\n",
      "       145           0.1856            0.81s\n",
      "       146           0.1839            0.80s\n",
      "       147           0.1832            0.80s\n",
      "       148           0.1806            0.79s\n",
      "       149           0.1801            0.79s\n",
      "       150           0.1774            0.79s\n",
      "       151           0.1767            0.78s\n",
      "       152           0.1759            0.78s\n",
      "       153           0.1755            0.77s\n",
      "       154           0.1741            0.77s\n",
      "       155           0.1729            0.76s\n",
      "       156           0.1722            0.76s\n",
      "       157           0.1719            0.76s\n",
      "       158           0.1711            0.75s\n",
      "       159           0.1702            0.75s\n",
      "       160           0.1699            0.74s\n",
      "       161           0.1682            0.74s\n",
      "       162           0.1676            0.74s\n",
      "       163           0.1658            0.73s\n",
      "       164           0.1646            0.73s\n",
      "       165           0.1639            0.73s\n",
      "       166           0.1636            0.72s\n",
      "       167           0.1623            0.72s\n",
      "       168           0.1604            0.72s\n",
      "       169           0.1601            0.71s\n",
      "       170           0.1596            0.71s\n",
      "       171           0.1581            0.70s\n",
      "       172           0.1577            0.70s\n",
      "       173           0.1570            0.70s\n",
      "       174           0.1552            0.69s\n",
      "       175           0.1548            0.69s\n",
      "       176           0.1537            0.69s\n",
      "       177           0.1534            0.68s\n",
      "       178           0.1523            0.68s\n",
      "       179           0.1513            0.68s\n",
      "       180           0.1512            0.67s\n",
      "       181           0.1505            0.67s\n",
      "       182           0.1502            0.67s\n",
      "       183           0.1498            0.66s\n",
      "       184           0.1488            0.71s\n",
      "       185           0.1486            0.71s\n",
      "       186           0.1478            0.70s\n",
      "       187           0.1460            0.70s\n",
      "       188           0.1449            0.69s\n",
      "       189           0.1436            0.69s\n",
      "       190           0.1424            0.69s\n",
      "       191           0.1418            0.68s\n",
      "       192           0.1411            0.68s\n",
      "       193           0.1404            0.67s\n",
      "       194           0.1401            0.67s\n",
      "       195           0.1390            0.67s\n",
      "       196           0.1380            0.66s\n",
      "       197           0.1377            0.66s\n",
      "       198           0.1372            0.65s\n",
      "       199           0.1355            0.65s\n",
      "       200           0.1350            0.64s\n",
      "       201           0.1346            0.64s\n",
      "       202           0.1329            0.64s\n",
      "       203           0.1322            0.63s\n",
      "       204           0.1313            0.63s\n",
      "       205           0.1306            0.62s\n",
      "       206           0.1300            0.62s\n",
      "       207           0.1294            0.61s\n",
      "       208           0.1291            0.61s\n",
      "       209           0.1290            0.61s\n",
      "       210           0.1281            0.60s\n",
      "       211           0.1279            0.60s\n",
      "       212           0.1270            0.59s\n",
      "       213           0.1265            0.59s\n",
      "       214           0.1250            0.58s\n",
      "       215           0.1242            0.58s\n",
      "       216           0.1234            0.58s\n",
      "       217           0.1224            0.57s\n",
      "       218           0.1220            0.57s\n",
      "       219           0.1215            0.56s\n",
      "       220           0.1208            0.56s\n",
      "       221           0.1197            0.56s\n",
      "       222           0.1190            0.55s\n",
      "       223           0.1180            0.55s\n",
      "       224           0.1179            0.54s\n",
      "       225           0.1169            0.54s\n",
      "       226           0.1165            0.53s\n",
      "       227           0.1162            0.53s\n"
     ]
    },
    {
     "name": "stdout",
     "output_type": "stream",
     "text": [
      "       228           0.1154            0.53s\n",
      "       229           0.1149            0.52s\n",
      "       230           0.1144            0.52s\n",
      "       231           0.1133            0.52s\n",
      "       232           0.1130            0.51s\n",
      "       233           0.1129            0.51s\n",
      "       234           0.1124            0.51s\n",
      "       235           0.1115            0.50s\n",
      "       236           0.1104            0.50s\n",
      "       237           0.1097            0.49s\n",
      "       238           0.1094            0.49s\n",
      "       239           0.1091            0.49s\n",
      "       240           0.1083            0.48s\n",
      "       241           0.1079            0.48s\n",
      "       242           0.1075            0.48s\n",
      "       243           0.1068            0.47s\n",
      "       244           0.1058            0.47s\n",
      "       245           0.1051            0.46s\n",
      "       246           0.1049            0.46s\n",
      "       247           0.1040            0.46s\n",
      "       248           0.1035            0.45s\n",
      "       249           0.1034            0.45s\n",
      "       250           0.1031            0.44s\n",
      "       251           0.1023            0.44s\n",
      "       252           0.1016            0.44s\n",
      "       253           0.1006            0.43s\n",
      "       254           0.1004            0.43s\n",
      "       255           0.0996            0.43s\n",
      "       256           0.0985            0.42s\n",
      "       257           0.0978            0.42s\n",
      "       258           0.0972            0.41s\n",
      "       259           0.0969            0.41s\n",
      "       260           0.0966            0.41s\n",
      "       261           0.0961            0.40s\n",
      "       262           0.0953            0.40s\n",
      "       263           0.0947            0.39s\n",
      "       264           0.0941            0.39s\n",
      "       265           0.0933            0.39s\n",
      "       266           0.0925            0.38s\n",
      "       267           0.0917            0.38s\n",
      "       268           0.0910            0.38s\n",
      "       269           0.0909            0.37s\n",
      "       270           0.0902            0.37s\n",
      "       271           0.0898            0.37s\n",
      "       272           0.0895            0.36s\n",
      "       273           0.0891            0.36s\n",
      "       274           0.0886            0.35s\n",
      "       275           0.0879            0.35s\n",
      "       276           0.0875            0.35s\n",
      "       277           0.0872            0.34s\n",
      "       278           0.0870            0.34s\n",
      "       279           0.0864            0.34s\n",
      "       280           0.0861            0.33s\n",
      "       281           0.0858            0.33s\n",
      "       282           0.0856            0.33s\n",
      "       283           0.0852            0.32s\n",
      "       284           0.0850            0.32s\n",
      "       285           0.0844            0.32s\n",
      "       286           0.0837            0.31s\n",
      "       287           0.0833            0.31s\n",
      "       288           0.0831            0.31s\n",
      "       289           0.0825            0.30s\n",
      "       290           0.0821            0.30s\n",
      "       291           0.0820            0.29s\n",
      "       292           0.0818            0.29s\n",
      "       293           0.0812            0.29s\n",
      "       294           0.0808            0.28s\n",
      "       295           0.0800            0.28s\n",
      "       296           0.0797            0.28s\n",
      "       297           0.0792            0.27s\n",
      "       298           0.0785            0.27s\n",
      "       299           0.0783            0.27s\n",
      "       300           0.0781            0.27s\n",
      "       301           0.0775            0.26s\n",
      "       302           0.0771            0.26s\n",
      "       303           0.0770            0.26s\n",
      "       304           0.0762            0.25s\n",
      "       305           0.0754            0.25s\n",
      "       306           0.0752            0.25s\n",
      "       307           0.0748            0.24s\n",
      "       308           0.0744            0.24s\n",
      "       309           0.0740            0.24s\n",
      "       310           0.0734            0.23s\n",
      "       311           0.0727            0.23s\n",
      "       312           0.0721            0.22s\n",
      "       313           0.0717            0.22s\n",
      "       314           0.0715            0.22s\n",
      "       315           0.0712            0.21s\n",
      "       316           0.0705            0.21s\n",
      "       317           0.0700            0.21s\n",
      "       318           0.0693            0.20s\n",
      "       319           0.0691            0.20s\n",
      "       320           0.0689            0.20s\n",
      "       321           0.0688            0.19s\n",
      "       322           0.0684            0.19s\n",
      "       323           0.0678            0.19s\n",
      "       324           0.0675            0.18s\n",
      "       325           0.0670            0.18s\n",
      "       326           0.0668            0.18s\n",
      "       327           0.0665            0.17s\n",
      "       328           0.0663            0.17s\n",
      "       329           0.0659            0.17s\n",
      "       330           0.0656            0.16s\n",
      "       331           0.0652            0.16s\n",
      "       332           0.0651            0.15s\n",
      "       333           0.0647            0.15s\n",
      "       334           0.0645            0.15s\n",
      "       335           0.0639            0.14s\n",
      "       336           0.0634            0.14s\n",
      "       337           0.0633            0.14s\n",
      "       338           0.0627            0.13s\n",
      "       339           0.0622            0.13s\n",
      "       340           0.0619            0.13s\n",
      "       341           0.0616            0.12s\n",
      "       342           0.0611            0.12s\n",
      "       343           0.0607            0.11s\n",
      "       344           0.0606            0.11s\n",
      "       345           0.0604            0.11s\n",
      "       346           0.0600            0.10s\n",
      "       347           0.0596            0.10s\n",
      "       348           0.0593            0.10s\n",
      "       349           0.0589            0.09s\n",
      "       350           0.0587            0.09s\n",
      "       351           0.0584            0.09s\n",
      "       352           0.0581            0.08s\n",
      "       353           0.0575            0.08s\n",
      "       354           0.0573            0.08s\n",
      "       355           0.0570            0.07s\n",
      "       356           0.0569            0.07s\n",
      "       357           0.0568            0.07s\n",
      "       358           0.0564            0.06s\n",
      "       359           0.0562            0.06s\n",
      "       360           0.0560            0.05s\n",
      "       361           0.0558            0.05s\n",
      "       362           0.0554            0.05s\n",
      "       363           0.0551            0.04s\n",
      "       364           0.0546            0.04s\n",
      "       365           0.0539            0.04s\n",
      "       366           0.0537            0.03s\n",
      "       367           0.0533            0.03s\n",
      "       368           0.0529            0.03s\n",
      "       369           0.0524            0.02s\n",
      "       370           0.0521            0.02s\n",
      "       371           0.0518            0.01s\n",
      "       372           0.0516            0.01s\n",
      "       373           0.0513            0.01s\n",
      "       374           0.0511            0.00s\n",
      "       375           0.0509            0.00s\n"
     ]
    }
   ],
   "source": [
    "model = GradientBoostingClassifier(**params).fit(X_train,y_train)"
   ]
  },
  {
   "cell_type": "code",
   "execution_count": 79,
   "id": "74219348",
   "metadata": {},
   "outputs": [],
   "source": [
    "y_pred1 = model.predict(X_test)"
   ]
  },
  {
   "cell_type": "code",
   "execution_count": 80,
   "id": "44b07cf4",
   "metadata": {},
   "outputs": [
    {
     "name": "stdout",
     "output_type": "stream",
     "text": [
      "The accuracy score is: 0.9020833333333333\n"
     ]
    }
   ],
   "source": [
    "print('The accuracy score is:', accuracy_score(y_test,y_pred1))"
   ]
  },
  {
   "cell_type": "code",
   "execution_count": 81,
   "id": "310cb9f7",
   "metadata": {},
   "outputs": [],
   "source": [
    "test_score = np.ones((params[\"n_estimators\"]), dtype=np.float64)"
   ]
  },
  {
   "cell_type": "code",
   "execution_count": 82,
   "id": "2ab32722",
   "metadata": {},
   "outputs": [],
   "source": [
    "y_pred= model.staged_predict(X_test)"
   ]
  },
  {
   "cell_type": "code",
   "execution_count": 83,
   "id": "b3221cdc",
   "metadata": {},
   "outputs": [],
   "source": [
    "for i, j in enumerate(y_pred):\n",
    "    test_score[i] = accuracy_score(j,y_test)"
   ]
  },
  {
   "cell_type": "code",
   "execution_count": 84,
   "id": "5700486b",
   "metadata": {},
   "outputs": [
    {
     "data": {
      "text/plain": [
       "[<matplotlib.lines.Line2D at 0x7f989ac2eb90>]"
      ]
     },
     "execution_count": 84,
     "metadata": {},
     "output_type": "execute_result"
    },
    {
     "data": {
      "image/png": "[encoded data removed]",
      "text/plain": [
       "<Figure size 600x600 with 1 Axes>"
      ]
     },
     "metadata": {},
     "output_type": "display_data"
    }
   ],
   "source": [
    "plt.figure(figsize=(6, 6))\n",
    "plt.title(\"Accuracy values\")\n",
    "plt.plot(\n",
    "    np.arange(params[\"n_estimators\"])+1,\n",
    "    test_score,\n",
    "    \"b-\",\n",
    "    label=\"Accuracy\",\n",
    ")"
   ]
  },
  {
   "cell_type": "code",
   "execution_count": 85,
   "id": "1ab7efa2",
   "metadata": {},
   "outputs": [
    {
     "name": "stdout",
     "output_type": "stream",
     "text": [
      "The classification report is: \n",
      "               precision    recall  f1-score   support\n",
      "\n",
      "           0       0.94      0.95      0.94       417\n",
      "           1       0.63      0.60      0.62        63\n",
      "\n",
      "    accuracy                           0.90       480\n",
      "   macro avg       0.79      0.78      0.78       480\n",
      "weighted avg       0.90      0.90      0.90       480\n",
      "\n"
     ]
    }
   ],
   "source": [
    "print('The classification report is:', \"\\n\", classification_report(y_test,y_pred1))"
   ]
  },
  {
   "cell_type": "code",
   "execution_count": 86,
   "id": "93cba532",
   "metadata": {},
   "outputs": [
    {
     "name": "stdout",
     "output_type": "stream",
     "text": [
      "The confusion matrix is: \n",
      " [[395  22]\n",
      " [ 25  38]]\n"
     ]
    }
   ],
   "source": [
    "print('The confusion matrix is:', \"\\n\", confusion_matrix(y_test,y_pred1))"
   ]
  },
  {
   "cell_type": "code",
   "execution_count": 87,
   "id": "8e452b59",
   "metadata": {},
   "outputs": [
    {
     "data": {
      "text/html": [
       "<div>\n",
       "<style scoped>\n",
       "    .dataframe tbody tr th:only-of-type {\n",
       "        vertical-align: middle;\n",
       "    }\n",
       "\n",
       "    .dataframe tbody tr th {\n",
       "        vertical-align: top;\n",
       "    }\n",
       "\n",
       "    .dataframe thead th {\n",
       "        text-align: right;\n",
       "    }\n",
       "</style>\n",
       "<table border=\"1\" class=\"dataframe\">\n",
       "  <thead>\n",
       "    <tr style=\"text-align: right;\">\n",
       "      <th></th>\n",
       "      <th>Score</th>\n",
       "    </tr>\n",
       "    <tr>\n",
       "      <th>Model</th>\n",
       "      <th></th>\n",
       "    </tr>\n",
       "  </thead>\n",
       "  <tbody>\n",
       "    <tr>\n",
       "      <th>Random Forest</th>\n",
       "      <td>0.9041</td>\n",
       "    </tr>\n",
       "    <tr>\n",
       "      <th>Gradient boosting Classifier</th>\n",
       "      <td>0.9020</td>\n",
       "    </tr>\n",
       "    <tr>\n",
       "      <th>SVC</th>\n",
       "      <td>0.8937</td>\n",
       "    </tr>\n",
       "    <tr>\n",
       "      <th>Logistic Regression</th>\n",
       "      <td>0.8791</td>\n",
       "    </tr>\n",
       "    <tr>\n",
       "      <th>Decision Tree</th>\n",
       "      <td>0.8687</td>\n",
       "    </tr>\n",
       "    <tr>\n",
       "      <th>KNN</th>\n",
       "      <td>0.8645</td>\n",
       "    </tr>\n",
       "  </tbody>\n",
       "</table>\n",
       "</div>"
      ],
      "text/plain": [
       "                               Score\n",
       "Model                               \n",
       "Random Forest                 0.9041\n",
       "Gradient boosting Classifier  0.9020\n",
       "SVC                           0.8937\n",
       "Logistic Regression           0.8791\n",
       "Decision Tree                 0.8687\n",
       "KNN                           0.8645"
      ]
     },
     "execution_count": 87,
     "metadata": {},
     "output_type": "execute_result"
    }
   ],
   "source": [
    "M_Accuracy = pd.DataFrame({\n",
    "    'Model': ['Logistic Regression','KNN', 'SVC','Decision Tree','Random Forest','Gradient boosting Classifier'],\n",
    "    'Score': [0.8791,0.8645,0.8937,0.8687,0.9041,0.9020]})\n",
    "\n",
    "df_res = M_Accuracy.sort_values(by='Score', ascending=False)\n",
    "df_res = df_res.set_index('Model')\n",
    "df_res"
   ]
  },
  {
   "cell_type": "markdown",
   "id": "9816d79d",
   "metadata": {},
   "source": [
    "# Since both Random forest and Gradient Boosting classifier gives an accuracy score of above 0.90, We can use either of the classification algorithm for predicting the quality of the wine.\n",
    "Out of Random forest and Gradient Boosting classifier, if we look at the confusion matrix and classification report we can choose Random forest algorithm over gradient boosting algorithm as it random forst predicts more true positives than gradient boosting algorithm"
   ]
  },
  {
   "cell_type": "markdown",
   "id": "496d3d91",
   "metadata": {},
   "source": [
    "# Feature Importance"
   ]
  },
  {
   "cell_type": "code",
   "execution_count": 88,
   "id": "6c8f949e",
   "metadata": {},
   "outputs": [
    {
     "data": {
      "text/plain": [
       "Text(0.5, 1.0, 'Feature Importance')"
      ]
     },
     "execution_count": 88,
     "metadata": {},
     "output_type": "execute_result"
    },
    {
     "data": {
      "image/png": "[encoded data removed]",
      "text/plain": [
       "<Figure size 1200x600 with 1 Axes>"
      ]
     },
     "metadata": {},
     "output_type": "display_data"
    }
   ],
   "source": [
    "feature_importance = model.feature_importances_\n",
    "sorted_idx = np.argsort(feature_importance)\n",
    "pos = np.arange(sorted_idx.shape[0])\n",
    "fig = plt.figure(figsize=(12, 6))\n",
    "plt.barh(pos, feature_importance[sorted_idx], align=\"center\")\n",
    "plt.yticks(pos, np.array(df.columns)[sorted_idx])\n",
    "plt.title(\"Feature Importance\")"
   ]
  },
  {
   "cell_type": "code",
   "execution_count": null,
   "id": "a25c0b74",
   "metadata": {},
   "outputs": [],
   "source": []
  }
 ],
 "metadata": {
  "kernelspec": {
   "display_name": "Python 3 (ipykernel)",
   "language": "python",
   "name": "python3"
  },
  "language_info": {
   "codemirror_mode": {
    "name": "ipython",
    "version": 3
   },
   "file_extension": ".py",
   "mimetype": "text/x-python",
   "name": "python",
   "nbconvert_exporter": "python",
   "pygments_lexer": "ipython3",
   "version": "3.10.9"
  }
 },
 "nbformat": 4,
 "nbformat_minor": 5
}
